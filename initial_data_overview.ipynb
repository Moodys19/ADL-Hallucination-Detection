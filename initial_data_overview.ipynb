{
 "cells": [
  {
   "cell_type": "markdown",
   "metadata": {},
   "source": [
    "# Initial Data Overview"
   ]
  },
  {
   "cell_type": "code",
   "execution_count": 1,
   "metadata": {},
   "outputs": [],
   "source": [
    "import os\n",
    "import pandas as pd\n",
    "import numpy as np"
   ]
  },
  {
   "cell_type": "code",
   "execution_count": 2,
   "metadata": {},
   "outputs": [
    {
     "data": {
      "text/plain": [
       "'c:\\\\mahmoud uni\\\\TU\\\\WS2024_2025\\\\ADL\\\\ADL-Hallucination-Detection'"
      ]
     },
     "execution_count": 2,
     "metadata": {},
     "output_type": "execute_result"
    }
   ],
   "source": [
    "os.getcwd()"
   ]
  },
  {
   "cell_type": "code",
   "execution_count": null,
   "metadata": {},
   "outputs": [],
   "source": [
    "from datasets import load_dataset\n",
    "\n",
    "ds = load_dataset(\"abisee/cnn_dailymail\", \"3.0.0\")\n"
   ]
  },
  {
   "cell_type": "code",
   "execution_count": 19,
   "metadata": {},
   "outputs": [],
   "source": [
    "# Access the training split\n",
    "train_dataset = pd.DataFrame(ds['train'])\n",
    "test_dataset = pd.DataFrame(ds[\"test\"])\n",
    "valid_dataset = pd.DataFrame(ds[\"validation\"])"
   ]
  },
  {
   "cell_type": "code",
   "execution_count": 20,
   "metadata": {},
   "outputs": [
    {
     "name": "stdout",
     "output_type": "stream",
     "text": [
      "                                                  article  \\\n",
      "count                                              287113   \n",
      "unique                                             284005   \n",
      "top     (CNN)  -- Esra'a al Shafei, a recent universit...   \n",
      "freq                                                    3   \n",
      "\n",
      "                                               highlights  \\\n",
      "count                                              287113   \n",
      "unique                                             282197   \n",
      "top     This page includes the show Transcript and the...   \n",
      "freq                                                   83   \n",
      "\n",
      "                                              id  \n",
      "count                                     287113  \n",
      "unique                                    287113  \n",
      "top     8ec9ff4d633dd4cc26d53f503c33f7464b43c36e  \n",
      "freq                                           1  \n"
     ]
    }
   ],
   "source": [
    "# Inspect the first example\n",
    "print(train_dataset.describe())"
   ]
  },
  {
   "cell_type": "code",
   "execution_count": 23,
   "metadata": {},
   "outputs": [
    {
     "name": "stdout",
     "output_type": "stream",
     "text": [
      "                                                  article  \\\n",
      "count                                               11490   \n",
      "unique                                              11488   \n",
      "top     (CNN)Tornadoes, fierce winds and severe thunde...   \n",
      "freq                                                    2   \n",
      "\n",
      "                                               highlights  \\\n",
      "count                                               11490   \n",
      "unique                                              11449   \n",
      "top     This page includes the show Transcript .\\nUse ...   \n",
      "freq                                                    3   \n",
      "\n",
      "                                              id  \n",
      "count                                      11490  \n",
      "unique                                     11490  \n",
      "top     b4a1738c4a0acdf3d189264a0927005aa5b856d6  \n",
      "freq                                           1  \n",
      "                                                  article  \\\n",
      "count                                               13368   \n",
      "unique                                              13368   \n",
      "top     A teacher and wrestling coach has been charged...   \n",
      "freq                                                    1   \n",
      "\n",
      "                                               highlights  \\\n",
      "count                                               13368   \n",
      "unique                                              13300   \n",
      "top     This page includes the show Transcript .\\nUse ...   \n",
      "freq                                                   16   \n",
      "\n",
      "                                              id  \n",
      "count                                      13368  \n",
      "unique                                     13368  \n",
      "top     0d51202d0a78a1ed8c02b5e93d8f643fb5ff0399  \n",
      "freq                                           1  \n"
     ]
    }
   ],
   "source": [
    "print(test_dataset.describe())\n",
    "print(valid_dataset.describe())"
   ]
  },
  {
   "cell_type": "code",
   "execution_count": null,
   "metadata": {},
   "outputs": [],
   "source": [
    "train_dataset.to_csv(\"cnndm/train_raw.csv\", sep = \";\", index=False)\n",
    "test_dataset.to_csv(\"cnndm/test_raw.csv\", sep = \";\", index=False)\n",
    "valid_dataset.to_csv(\"cnndm/valid_raw.csv\", sep = \";\", index=False)"
   ]
  }
 ],
 "metadata": {
  "kernelspec": {
   "display_name": "adl_project",
   "language": "python",
   "name": "python3"
  },
  "language_info": {
   "codemirror_mode": {
    "name": "ipython",
    "version": 3
   },
   "file_extension": ".py",
   "mimetype": "text/x-python",
   "name": "python",
   "nbconvert_exporter": "python",
   "pygments_lexer": "ipython3",
   "version": "3.10.15"
  }
 },
 "nbformat": 4,
 "nbformat_minor": 2
}
