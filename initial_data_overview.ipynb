{
 "cells": [
  {
   "cell_type": "markdown",
   "metadata": {},
   "source": [
    "# Initial Data Overview"
   ]
  },
  {
   "cell_type": "code",
   "execution_count": 1,
   "metadata": {},
   "outputs": [],
   "source": [
    "import os\n",
    "import pandas as pd\n",
    "import numpy as np"
   ]
  },
  {
   "cell_type": "code",
   "execution_count": 3,
   "metadata": {},
   "outputs": [
    {
     "data": {
      "text/plain": [
       "'c:\\\\mahmoud uni\\\\TU\\\\WS2024_2025\\\\ADL\\\\ADL-Hallucination-Detection'"
      ]
     },
     "execution_count": 3,
     "metadata": {},
     "output_type": "execute_result"
    }
   ],
   "source": [
    "os.getcwd()"
   ]
  },
  {
   "cell_type": "code",
   "execution_count": null,
   "metadata": {},
   "outputs": [
    {
     "name": "stdout",
     "output_type": "stream",
     "text": [
      "Number of rows: 287227\n",
      "                                              source  \\\n",
      "0  Editor's note: In our Behind the Scenes series...   \n",
      "1  LONDON, England (Reuters) -- Harry Potter star...   \n",
      "2  MINNEAPOLIS, Minnesota (CNN) -- Drivers who we...   \n",
      "3  BAGHDAD, Iraq (CNN) -- Dressed in a Superman s...   \n",
      "4  WASHINGTON (CNN) -- Doctors removed five small...   \n",
      "\n",
      "                                              target  \n",
      "0  Mentally ill inmates in Miami are housed on th...  \n",
      "1  Harry Potter star Daniel Radcliffe gets £20M f...  \n",
      "2  NEW: \"I thought I was going to die,\" driver sa...  \n",
      "3  Parents beam with pride, can't stop from smili...  \n",
      "4  Five small polyps found during procedure; \"non...  \n",
      "Number of missing entries per column:\n",
      "source    0\n",
      "target    0\n",
      "dtype: int64\n",
      "No missing values found in the DataFrame.\n"
     ]
    }
   ],
   "source": [
    "# File paths\n",
    "src_file_path = \"cnndm/train.src\"\n",
    "tgt_file_path = \"cnndm/train.tgt\"\n",
    "\n",
    "\n",
    "# Load the files into pandas DataFrame\n",
    "data_train = pd.DataFrame({\n",
    "    \"source\": open(src_file_path, \"r\", encoding=\"utf-8\").readlines(),\n",
    "    \"target\": open(tgt_file_path, \"r\", encoding=\"utf-8\").readlines()\n",
    "})\n",
    "\n",
    "# init df check\n",
    "print(f\"Number of rows: {len(data_train)}\")\n",
    "print(data_train.head())\n",
    "\n",
    "# NA check\n",
    "missing_entries = data_train.isnull().sum()\n",
    "print(\"Number of missing entries per column:\")\n",
    "print(missing_entries)\n",
    "\n",
    "\n",
    "# missing values check\n",
    "has_missing = data_train.isnull().any().any()\n",
    "if has_missing:\n",
    "    print(\"There are missing values in the DataFrame.\")\n",
    "else:\n",
    "    print(\"No missing values found in the DataFrame.\")"
   ]
  },
  {
   "cell_type": "code",
   "execution_count": null,
   "metadata": {},
   "outputs": [
    {
     "name": "stdout",
     "output_type": "stream",
     "text": [
      "Number of rows: 11490\n",
      "                                              source  \\\n",
      "0  Marseille, France (CNN)The French prosecutor l...   \n",
      "1  The Palestinian Authority officially became th...   \n",
      "2  Governments around the world are using the thr...   \n",
      "3  On May 28, 2014, some 7,000 people gathered in...   \n",
      "4  Seventy years ago, Anne Frank died of typhus i...   \n",
      "\n",
      "                                              target  \n",
      "0  Marseille prosecutor says \"so far no videos we...  \n",
      "1  Membership gives the ICC jurisdiction over all...  \n",
      "2  Amnesty's annual death penalty report catalogs...  \n",
      "3  Amnesty International releases its annual revi...  \n",
      "4  Museum: Anne Frank died earlier than previousl...  \n",
      "Number of missing entries per column:\n",
      "source    0\n",
      "target    0\n",
      "dtype: int64\n",
      "No missing values found in the DataFrame.\n"
     ]
    }
   ],
   "source": [
    "# File paths\n",
    "src_file_path = \"cnndm/test.src\"\n",
    "tgt_file_path = \"cnndm/test.tgt\"\n",
    "\n",
    "\n",
    "# Load the files into pandas DataFrame\n",
    "data_test = pd.DataFrame({\n",
    "    \"source\": open(src_file_path, \"r\", encoding=\"utf-8\").readlines(),\n",
    "    \"target\": open(tgt_file_path, \"r\", encoding=\"utf-8\").readlines()\n",
    "})\n",
    "\n",
    "# init df check\n",
    "print(f\"Number of rows: {len(data_test)}\")\n",
    "print(data_test.head())\n",
    "\n",
    "\n",
    "# NA check\n",
    "missing_entries = data_test.isnull().sum()\n",
    "print(\"Number of missing entries per column:\")\n",
    "print(missing_entries)\n",
    "\n",
    "# missing values check\n",
    "has_missing = data_test.isnull().any().any()\n",
    "if has_missing:\n",
    "    print(\"There are missing values in the DataFrame.\")\n",
    "else:\n",
    "    print(\"No missing values found in the DataFrame.\")"
   ]
  },
  {
   "cell_type": "code",
   "execution_count": null,
   "metadata": {},
   "outputs": [
    {
     "name": "stdout",
     "output_type": "stream",
     "text": [
      "Number of rows: 13368\n",
      "                                              source  \\\n",
      "0  The only thing crazier than a guy in snowbound...   \n",
      "1  On the 6th of April 1996, San Jose Clash and D...   \n",
      "2  French striker Bafetimbi Gomis, who has a hist...   \n",
      "3  My vote for Father of the Year goes to Curt Sc...   \n",
      "4  It was an act of frustration perhaps more comm...   \n",
      "\n",
      "                                              target  \n",
      "0  A man in suburban Boston is selling snow onlin...  \n",
      "1  The 20th MLS season begins this weekend. Leagu...  \n",
      "2  Bafetimbi Gomis collapses within 10 minutes of...  \n",
      "3  Ruben Navarrette: Schilling deserves praise fo...  \n",
      "4  Rory McIlroy throws club into water at WGC Cad...  \n",
      "Number of missing entries per column:\n",
      "source    0\n",
      "target    0\n",
      "dtype: int64\n",
      "No missing values found in the DataFrame.\n"
     ]
    }
   ],
   "source": [
    "# File paths\n",
    "src_file_path = \"cnndm/valid.src\"\n",
    "tgt_file_path = \"cnndm/valid.tgt\"\n",
    "\n",
    "\n",
    "# Load the files into pandas DataFrame\n",
    "data_valid = pd.DataFrame({\n",
    "    \"source\": open(src_file_path, \"r\", encoding=\"utf-8\").readlines(),\n",
    "    \"target\": open(tgt_file_path, \"r\", encoding=\"utf-8\").readlines()\n",
    "})\n",
    "\n",
    "# init df check\n",
    "print(f\"Number of rows: {len(data_valid)}\")\n",
    "print(data_valid.head())\n",
    "\n",
    "# NA check\n",
    "missing_entries = data_valid.isnull().sum()\n",
    "\n",
    "# Display the result\n",
    "print(\"Number of missing entries per column:\")\n",
    "print(missing_entries)\n",
    "\n",
    "# missing values check\n",
    "has_missing = data_valid.isnull().any().any()\n",
    "if has_missing:\n",
    "    print(\"There are missing values in the DataFrame.\")\n",
    "else:\n",
    "    print(\"No missing values found in the DataFrame.\")\n"
   ]
  }
 ],
 "metadata": {
  "kernelspec": {
   "display_name": "adl_project",
   "language": "python",
   "name": "python3"
  },
  "language_info": {
   "codemirror_mode": {
    "name": "ipython",
    "version": 3
   },
   "file_extension": ".py",
   "mimetype": "text/x-python",
   "name": "python",
   "nbconvert_exporter": "python",
   "pygments_lexer": "ipython3",
   "version": "3.10.15"
  }
 },
 "nbformat": 4,
 "nbformat_minor": 2
}
