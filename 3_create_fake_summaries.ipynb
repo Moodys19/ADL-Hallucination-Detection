{
 "cells": [
  {
   "cell_type": "markdown",
   "metadata": {},
   "source": [
    "# Generate Hallucinated Summaries"
   ]
  },
  {
   "cell_type": "code",
   "execution_count": 1,
   "metadata": {},
   "outputs": [],
   "source": [
    "import os\n",
    "import pandas as pd\n",
    "import numpy as np\n",
    "import time\n",
    "\n",
    "# from folder functions\n",
    "from functions.load_subsampled_data import load_n_rows\n",
    "from functions.call_llama import create_hallucinated_summaries"
   ]
  },
  {
   "cell_type": "code",
   "execution_count": 2,
   "metadata": {},
   "outputs": [
    {
     "name": "stdout",
     "output_type": "stream",
     "text": [
      "Subset file for train with 7000 rows already exists. Loading it.\n"
     ]
    }
   ],
   "source": [
    "file_paths_train = {\n",
    "    \"train\": \"cnndm/subsamples/train_filtered.csv\"\n",
    "}\n",
    "datasets_train = load_n_rows(7000, file_paths=file_paths_train)\n"
   ]
  },
  {
   "cell_type": "code",
   "execution_count": 3,
   "metadata": {},
   "outputs": [
    {
     "data": {
      "text/html": [
       "<div>\n",
       "<style scoped>\n",
       "    .dataframe tbody tr th:only-of-type {\n",
       "        vertical-align: middle;\n",
       "    }\n",
       "\n",
       "    .dataframe tbody tr th {\n",
       "        vertical-align: top;\n",
       "    }\n",
       "\n",
       "    .dataframe thead th {\n",
       "        text-align: right;\n",
       "    }\n",
       "</style>\n",
       "<table border=\"1\" class=\"dataframe\">\n",
       "  <thead>\n",
       "    <tr style=\"text-align: right;\">\n",
       "      <th></th>\n",
       "      <th>article</th>\n",
       "      <th>highlights</th>\n",
       "      <th>id</th>\n",
       "    </tr>\n",
       "  </thead>\n",
       "  <tbody>\n",
       "    <tr>\n",
       "      <th>0</th>\n",
       "      <td>(CNN) -- Police and FBI agents are investigati...</td>\n",
       "      <td>Empty anti-tank weapon turns up in front of Ne...</td>\n",
       "      <td>613d6311ec2c1985bd44707d1796d275452fe156</td>\n",
       "    </tr>\n",
       "    <tr>\n",
       "      <th>1</th>\n",
       "      <td>BREMEN, Germany -- Carlos Alberto, who scored ...</td>\n",
       "      <td>Werder Bremen pay a club record $10.7 million ...</td>\n",
       "      <td>77d7c8cf2a9432e395d629371a12790c563c19f7</td>\n",
       "    </tr>\n",
       "    <tr>\n",
       "      <th>2</th>\n",
       "      <td>WASHINGTON (CNN) -- Vice President Dick Cheney...</td>\n",
       "      <td>President Bush will have a routine colonoscopy...</td>\n",
       "      <td>35f0e33de7923036a97ac245d899f990bda5e242</td>\n",
       "    </tr>\n",
       "    <tr>\n",
       "      <th>3</th>\n",
       "      <td>SAN FRANCISCO, California (CNN)  -- A magnitud...</td>\n",
       "      <td>2,000 customers without electricity, power com...</td>\n",
       "      <td>2ad31cae96512af5105b9b23f9b681dc732b2605</td>\n",
       "    </tr>\n",
       "    <tr>\n",
       "      <th>4</th>\n",
       "      <td>(CNN) -- At least 14 people were killed and 60...</td>\n",
       "      <td>Bomb victims waiting for presidential visit .\\...</td>\n",
       "      <td>bf0cd4ccacd4fe045995338f4c44d9cf18000226</td>\n",
       "    </tr>\n",
       "    <tr>\n",
       "      <th>...</th>\n",
       "      <td>...</td>\n",
       "      <td>...</td>\n",
       "      <td>...</td>\n",
       "    </tr>\n",
       "    <tr>\n",
       "      <th>6995</th>\n",
       "      <td>(CNN) -- A senior Pakistani Taliban leader was...</td>\n",
       "      <td>NEW: Pakistani Taliban official confirms airst...</td>\n",
       "      <td>e045841f1c3cf8e8d37cc8177782224a388bb1c2</td>\n",
       "    </tr>\n",
       "    <tr>\n",
       "      <th>6996</th>\n",
       "      <td>(CNN) -- Chelsea captain John Terry was charge...</td>\n",
       "      <td>English FA charge John Terry over his clash wi...</td>\n",
       "      <td>73b44ec461215a7c416966f13ef0c7d37b3c9e53</td>\n",
       "    </tr>\n",
       "    <tr>\n",
       "      <th>6997</th>\n",
       "      <td>(CNN) -- Four people died when a school bus co...</td>\n",
       "      <td>A school bus and a tractor-trailer collided ne...</td>\n",
       "      <td>80d6c97749106e38bc49847cfff821f051a89d2d</td>\n",
       "    </tr>\n",
       "    <tr>\n",
       "      <th>6998</th>\n",
       "      <td>(EW.com) -- First thing's first: TLC's new rat...</td>\n",
       "      <td>TLC's \"Here Comes Honey Boo Boo\" is gaining in...</td>\n",
       "      <td>7b8ea83f819706b31d55c1bacb3967da885127be</td>\n",
       "    </tr>\n",
       "    <tr>\n",
       "      <th>6999</th>\n",
       "      <td>(CNN) -- It was a reunion more than four decad...</td>\n",
       "      <td>Robert Russell's 1967 Austin-Healey was stolen...</td>\n",
       "      <td>45b276bbb0916856187acadc0c0bd63eb8dd84b6</td>\n",
       "    </tr>\n",
       "  </tbody>\n",
       "</table>\n",
       "<p>7000 rows × 3 columns</p>\n",
       "</div>"
      ],
      "text/plain": [
       "                                                article  \\\n",
       "0     (CNN) -- Police and FBI agents are investigati...   \n",
       "1     BREMEN, Germany -- Carlos Alberto, who scored ...   \n",
       "2     WASHINGTON (CNN) -- Vice President Dick Cheney...   \n",
       "3     SAN FRANCISCO, California (CNN)  -- A magnitud...   \n",
       "4     (CNN) -- At least 14 people were killed and 60...   \n",
       "...                                                 ...   \n",
       "6995  (CNN) -- A senior Pakistani Taliban leader was...   \n",
       "6996  (CNN) -- Chelsea captain John Terry was charge...   \n",
       "6997  (CNN) -- Four people died when a school bus co...   \n",
       "6998  (EW.com) -- First thing's first: TLC's new rat...   \n",
       "6999  (CNN) -- It was a reunion more than four decad...   \n",
       "\n",
       "                                             highlights  \\\n",
       "0     Empty anti-tank weapon turns up in front of Ne...   \n",
       "1     Werder Bremen pay a club record $10.7 million ...   \n",
       "2     President Bush will have a routine colonoscopy...   \n",
       "3     2,000 customers without electricity, power com...   \n",
       "4     Bomb victims waiting for presidential visit .\\...   \n",
       "...                                                 ...   \n",
       "6995  NEW: Pakistani Taliban official confirms airst...   \n",
       "6996  English FA charge John Terry over his clash wi...   \n",
       "6997  A school bus and a tractor-trailer collided ne...   \n",
       "6998  TLC's \"Here Comes Honey Boo Boo\" is gaining in...   \n",
       "6999  Robert Russell's 1967 Austin-Healey was stolen...   \n",
       "\n",
       "                                            id  \n",
       "0     613d6311ec2c1985bd44707d1796d275452fe156  \n",
       "1     77d7c8cf2a9432e395d629371a12790c563c19f7  \n",
       "2     35f0e33de7923036a97ac245d899f990bda5e242  \n",
       "3     2ad31cae96512af5105b9b23f9b681dc732b2605  \n",
       "4     bf0cd4ccacd4fe045995338f4c44d9cf18000226  \n",
       "...                                        ...  \n",
       "6995  e045841f1c3cf8e8d37cc8177782224a388bb1c2  \n",
       "6996  73b44ec461215a7c416966f13ef0c7d37b3c9e53  \n",
       "6997  80d6c97749106e38bc49847cfff821f051a89d2d  \n",
       "6998  7b8ea83f819706b31d55c1bacb3967da885127be  \n",
       "6999  45b276bbb0916856187acadc0c0bd63eb8dd84b6  \n",
       "\n",
       "[7000 rows x 3 columns]"
      ]
     },
     "execution_count": 3,
     "metadata": {},
     "output_type": "execute_result"
    }
   ],
   "source": [
    "datasets_train[\"train\"]"
   ]
  },
  {
   "cell_type": "code",
   "execution_count": 4,
   "metadata": {},
   "outputs": [
    {
     "name": "stdout",
     "output_type": "stream",
     "text": [
      "Creating subset file for test with 1000 rows.\n",
      "Creating subset file for valid with 1000 rows.\n"
     ]
    }
   ],
   "source": [
    "# load subsample data\n",
    "file_paths_test_val = {\n",
    "   \"test\": \"cnndm/subsamples/test_filtered.csv\",\n",
    "    \"valid\": \"cnndm/subsamples/valid_filtered.csv\"\n",
    "}\n",
    "\n",
    "datasets_test_val = load_n_rows(1000, file_paths=file_paths_test_val)"
   ]
  },
  {
   "cell_type": "code",
   "execution_count": 7,
   "metadata": {},
   "outputs": [
    {
     "name": "stdout",
     "output_type": "stream",
     "text": [
      "Subset file for inference with 1100 rows already exists. Loading it.\n",
      "(95, 3)\n"
     ]
    }
   ],
   "source": [
    "# create inference file\n",
    "file_paths_inf = {\n",
    "    \"inference\": \"cnndm/subsamples/valid_filtered.csv\"\n",
    "}\n",
    "\n",
    "dataset_inf = load_n_rows(1100, file_paths=file_paths_inf, start= 1005)\n",
    "print(dataset_inf[\"inference\"].shape)"
   ]
  },
  {
   "cell_type": "code",
   "execution_count": 5,
   "metadata": {},
   "outputs": [
    {
     "name": "stdout",
     "output_type": "stream",
     "text": [
      "                                             article  \\\n",
      "0  (CNN) -- Police and FBI agents are investigati...   \n",
      "1  BREMEN, Germany -- Carlos Alberto, who scored ...   \n",
      "2  WASHINGTON (CNN) -- Vice President Dick Cheney...   \n",
      "3  SAN FRANCISCO, California (CNN)  -- A magnitud...   \n",
      "4  (CNN) -- At least 14 people were killed and 60...   \n",
      "\n",
      "                                          highlights  \\\n",
      "0  Empty anti-tank weapon turns up in front of Ne...   \n",
      "1  Werder Bremen pay a club record $10.7 million ...   \n",
      "2  President Bush will have a routine colonoscopy...   \n",
      "3  2,000 customers without electricity, power com...   \n",
      "4  Bomb victims waiting for presidential visit .\\...   \n",
      "\n",
      "                                         id  \n",
      "0  613d6311ec2c1985bd44707d1796d275452fe156  \n",
      "1  77d7c8cf2a9432e395d629371a12790c563c19f7  \n",
      "2  35f0e33de7923036a97ac245d899f990bda5e242  \n",
      "3  2ad31cae96512af5105b9b23f9b681dc732b2605  \n",
      "4  bf0cd4ccacd4fe045995338f4c44d9cf18000226  \n",
      "                                             article  \\\n",
      "0  (CNN)Five Americans who were monitored for thr...   \n",
      "1  (CNN)A Duke student has admitted to hanging a ...   \n",
      "2  (CNN)Filipinos are being warned to be on guard...   \n",
      "3  (CNN)For the first time in eight years, a TV l...   \n",
      "4  London (CNN)A 19-year-old man was charged Wedn...   \n",
      "\n",
      "                                          highlights  \\\n",
      "0  17 Americans were exposed to the Ebola virus w...   \n",
      "1  Student is no longer on Duke University campus...   \n",
      "2  Once a super typhoon, Maysak is now a tropical...   \n",
      "3  Bob Barker returned to host \"The Price Is Righ...   \n",
      "4  London's Metropolitan Police say the man was a...   \n",
      "\n",
      "                                         id  \n",
      "0  a38e72fed88684ec8d60dd5856282e999dc8c0ca  \n",
      "1  c27cf1b136cc270023de959e7ab24638021bc43f  \n",
      "2  6222f33c2c79b80be437335eeb3f488509e92cf5  \n",
      "3  2bd8ada1de6a7b02f59430cc82045eb8d29cf033  \n",
      "4  ee17dfb574feca82ccac5689595e47483bd23f12  \n",
      "                                             article  \\\n",
      "0  (CNN)It was an act of frustration perhaps more...   \n",
      "1  (CNN)Following last year's successful U.K. tou...   \n",
      "2  March 10, 2015 . We're truly international in ...   \n",
      "3  (CNN)Think back to your high school's senior p...   \n",
      "4  (CNN)The search for a comic book artist missin...   \n",
      "\n",
      "                                          highlights  \\\n",
      "0  Rory McIlroy throws club into water at WGC Cad...   \n",
      "1  It will be a first time for the tour stateside...   \n",
      "2  This page includes the show Transcript .\\nUse ...   \n",
      "3  Wichita, Kansas, high school students surprise...   \n",
      "4  Comic book artist Norman Lee went missing in t...   \n",
      "\n",
      "                                         id  \n",
      "0  8cdf9cc3ed0276b7a7944cc18ba459355b5984ad  \n",
      "1  0485e4f199828cd03857391cbe573142193ca953  \n",
      "2  bdf542b05c1717ae9ef064e5fafa4a2946785d09  \n",
      "3  14c1b26ea2b78196c2d1cf3a5882aedb2f6558aa  \n",
      "4  f4a21564e3c65809f110b832138f2a3cf5b019cc  \n"
     ]
    }
   ],
   "source": [
    "print(datasets_train[\"train\"].head())\n",
    "print(datasets_test_val[\"test\"].head())\n",
    "print(datasets_test_val[\"valid\"].head())"
   ]
  },
  {
   "cell_type": "code",
   "execution_count": 6,
   "metadata": {},
   "outputs": [
    {
     "data": {
      "text/plain": [
       "0    349\n",
       "1    298\n",
       "2    235\n",
       "3    193\n",
       "4    251\n",
       "Name: article, dtype: int64"
      ]
     },
     "execution_count": 6,
     "metadata": {},
     "output_type": "execute_result"
    }
   ],
   "source": [
    "# Calculate word count for each column in the DataFrame\n",
    "source_word_count = datasets_train[\"train\"][\"article\"].apply(lambda x: len(str(x).split()))\n",
    "target_word_count = datasets_train[\"train\"][\"highlights\"].apply(lambda x: len(str(x).split()))\n",
    "\n",
    "source_word_count.head()\n"
   ]
  },
  {
   "cell_type": "code",
   "execution_count": 7,
   "metadata": {},
   "outputs": [
    {
     "name": "stdout",
     "output_type": "stream",
     "text": [
      "40.22442857142857\n",
      "85\n",
      "256.3102857142857\n"
     ]
    }
   ],
   "source": [
    "print(target_word_count.mean())\n",
    "print(target_word_count.max())\n",
    "print(source_word_count.mean())"
   ]
  },
  {
   "cell_type": "markdown",
   "metadata": {},
   "source": [
    "## Baseline Project"
   ]
  },
  {
   "cell_type": "markdown",
   "metadata": {},
   "source": [
    "### Create Train Set Hallucinations"
   ]
  },
  {
   "cell_type": "code",
   "execution_count": null,
   "metadata": {},
   "outputs": [
    {
     "name": "stdout",
     "output_type": "stream",
     "text": [
      "path check\n",
      "Processing 250/7000 rows...\n",
      "Progress saved to cnndm/fake_summary/train_hallucinated_base.csv after 250 rows.\n",
      "Processing 500/7000 rows...\n",
      "Progress saved to cnndm/fake_summary/train_hallucinated_base.csv after 500 rows.\n",
      "Processing 750/7000 rows...\n",
      "Progress saved to cnndm/fake_summary/train_hallucinated_base.csv after 750 rows.\n",
      "Processing 1000/7000 rows...\n",
      "Progress saved to cnndm/fake_summary/train_hallucinated_base.csv after 1000 rows.\n",
      "Processing 1250/7000 rows...\n",
      "Progress saved to cnndm/fake_summary/train_hallucinated_base.csv after 1250 rows.\n",
      "Processing 1500/7000 rows...\n",
      "Progress saved to cnndm/fake_summary/train_hallucinated_base.csv after 1500 rows.\n",
      "Processing 1750/7000 rows...\n",
      "Progress saved to cnndm/fake_summary/train_hallucinated_base.csv after 1750 rows.\n",
      "Processing 2000/7000 rows...\n",
      "Progress saved to cnndm/fake_summary/train_hallucinated_base.csv after 2000 rows.\n",
      "Processing 2250/7000 rows...\n",
      "Progress saved to cnndm/fake_summary/train_hallucinated_base.csv after 2250 rows.\n",
      "Processing 2451/7000 rows...\r"
     ]
    }
   ],
   "source": [
    "output_file_train = \"cnndm/fake_summary/train_hallucinated_base.csv\"\n",
    "\n",
    "fake_train = create_hallucinated_summaries(\n",
    "    df=datasets_train[\"train\"], \n",
    "    source_col=\"article\", \n",
    "    target_col=\"highlights\",\n",
    "    output_file_name = output_file_train\n",
    ")"
   ]
  },
  {
   "cell_type": "markdown",
   "metadata": {},
   "source": [
    "### Create Test and Validation Set Hallucinations"
   ]
  },
  {
   "cell_type": "code",
   "execution_count": 11,
   "metadata": {},
   "outputs": [
    {
     "name": "stdout",
     "output_type": "stream",
     "text": [
      "path check\n",
      "Processing 250/1000 rows...\n",
      "Progress saved to cnndm/fake_summary/test_hallucinated.csv after 250 rows.\n",
      "Processing 500/1000 rows...\n",
      "Progress saved to cnndm/fake_summary/test_hallucinated.csv after 500 rows.\n",
      "Processing 750/1000 rows...\n",
      "Progress saved to cnndm/fake_summary/test_hallucinated.csv after 750 rows.\n",
      "Processing 1000/1000 rows...\n",
      "Progress saved to cnndm/fake_summary/test_hallucinated.csv after 1000 rows.\n",
      "\n",
      "Processing complete!\n"
     ]
    }
   ],
   "source": [
    "output_file_test = \"cnndm/fake_summary/test_hallucinated_base.csv\"\n",
    "\n",
    "fake_test = create_hallucinated_summaries(\n",
    "    df=datasets_test_val[\"test\"], \n",
    "    source_col=\"article\", \n",
    "    target_col=\"highlights\",\n",
    "    output_file_name = output_file_test\n",
    ")"
   ]
  },
  {
   "cell_type": "code",
   "execution_count": 12,
   "metadata": {},
   "outputs": [
    {
     "name": "stdout",
     "output_type": "stream",
     "text": [
      "path check\n",
      "Processing 250/1000 rows...\n",
      "Progress saved to cnndm/fake_summary/val_hallucinated.csv after 250 rows.\n",
      "Processing 500/1000 rows...\n",
      "Progress saved to cnndm/fake_summary/val_hallucinated.csv after 500 rows.\n",
      "Processing 750/1000 rows...\n",
      "Progress saved to cnndm/fake_summary/val_hallucinated.csv after 750 rows.\n",
      "Processing 1000/1000 rows...\n",
      "Progress saved to cnndm/fake_summary/val_hallucinated.csv after 1000 rows.\n",
      "\n",
      "Processing complete!\n"
     ]
    }
   ],
   "source": [
    "output_file_val = \"cnndm/fake_summary/val_hallucinated_base.csv\"\n",
    "\n",
    "fake_val = create_hallucinated_summaries(\n",
    "    df=datasets_test_val[\"valid\"], \n",
    "    source_col=\"article\",\n",
    "    target_col=\"highlights\",\n",
    "    output_file_name = output_file_val\n",
    ")"
   ]
  },
  {
   "cell_type": "markdown",
   "metadata": {},
   "source": [
    "### Create Inference Set Hallucinations"
   ]
  },
  {
   "cell_type": "code",
   "execution_count": null,
   "metadata": {},
   "outputs": [],
   "source": [
    "output_file_inf = \"cnndm/fake_summary/inf_hallucinated_base.csv\"\n",
    "\n",
    "fake_val = create_hallucinated_summaries(\n",
    "    df=dataset_inf[\"inference\"], \n",
    "    source_col=\"article\",\n",
    "    target_col=\"highlights\",\n",
    "    output_file_name = output_file_inf\n",
    ")"
   ]
  },
  {
   "cell_type": "markdown",
   "metadata": {},
   "source": [
    "## Extended Project"
   ]
  },
  {
   "cell_type": "markdown",
   "metadata": {},
   "source": [
    "### Create Train Set Hallucinations"
   ]
  },
  {
   "cell_type": "code",
   "execution_count": null,
   "metadata": {},
   "outputs": [
    {
     "name": "stdout",
     "output_type": "stream",
     "text": [
      "path check\n",
      "Processing 250/7000 rows...\n",
      "Progress saved to cnndm/fake_summary/train_hallucinated.csv after 250 rows.\n",
      "Processing 500/7000 rows...\n",
      "Progress saved to cnndm/fake_summary/train_hallucinated.csv after 500 rows.\n",
      "Processing 750/7000 rows...\n",
      "Progress saved to cnndm/fake_summary/train_hallucinated.csv after 750 rows.\n",
      "Processing 1000/7000 rows...\n",
      "Progress saved to cnndm/fake_summary/train_hallucinated.csv after 1000 rows.\n",
      "Processing 1250/7000 rows...\n",
      "Progress saved to cnndm/fake_summary/train_hallucinated.csv after 1250 rows.\n",
      "Processing 1500/7000 rows...\n",
      "Progress saved to cnndm/fake_summary/train_hallucinated.csv after 1500 rows.\n",
      "Processing 1750/7000 rows...\n",
      "Progress saved to cnndm/fake_summary/train_hallucinated.csv after 1750 rows.\n",
      "Processing 2000/7000 rows...\n",
      "Progress saved to cnndm/fake_summary/train_hallucinated.csv after 2000 rows.\n",
      "Processing 2250/7000 rows...\n",
      "Progress saved to cnndm/fake_summary/train_hallucinated.csv after 2250 rows.\n",
      "Processing 2500/7000 rows...\n",
      "Progress saved to cnndm/fake_summary/train_hallucinated.csv after 2500 rows.\n",
      "Processing 2750/7000 rows...\n",
      "Progress saved to cnndm/fake_summary/train_hallucinated.csv after 2750 rows.\n",
      "Processing 3000/7000 rows...\n",
      "Progress saved to cnndm/fake_summary/train_hallucinated.csv after 3000 rows.\n",
      "Processing 3250/7000 rows...\n",
      "Progress saved to cnndm/fake_summary/train_hallucinated.csv after 3250 rows.\n",
      "Processing 3500/7000 rows...\n",
      "Progress saved to cnndm/fake_summary/train_hallucinated.csv after 3500 rows.\n",
      "Processing 3750/7000 rows...\n",
      "Progress saved to cnndm/fake_summary/train_hallucinated.csv after 3750 rows.\n",
      "Processing 4000/7000 rows...\n",
      "Progress saved to cnndm/fake_summary/train_hallucinated.csv after 4000 rows.\n",
      "Processing 4250/7000 rows...\n",
      "Progress saved to cnndm/fake_summary/train_hallucinated.csv after 4250 rows.\n",
      "Processing 4500/7000 rows...\n",
      "Progress saved to cnndm/fake_summary/train_hallucinated.csv after 4500 rows.\n",
      "Processing 4750/7000 rows...\n",
      "Progress saved to cnndm/fake_summary/train_hallucinated.csv after 4750 rows.\n",
      "Processing 5000/7000 rows...\n",
      "Progress saved to cnndm/fake_summary/train_hallucinated.csv after 5000 rows.\n",
      "Processing 5250/7000 rows...\n",
      "Progress saved to cnndm/fake_summary/train_hallucinated.csv after 5250 rows.\n",
      "Processing 5500/7000 rows...\n",
      "Progress saved to cnndm/fake_summary/train_hallucinated.csv after 5500 rows.\n",
      "Processing 5750/7000 rows...\n",
      "Progress saved to cnndm/fake_summary/train_hallucinated.csv after 5750 rows.\n",
      "Processing 6000/7000 rows...\n",
      "Progress saved to cnndm/fake_summary/train_hallucinated.csv after 6000 rows.\n",
      "Processing 6250/7000 rows...\n",
      "Progress saved to cnndm/fake_summary/train_hallucinated.csv after 6250 rows.\n",
      "Processing 6500/7000 rows...\n",
      "Progress saved to cnndm/fake_summary/train_hallucinated.csv after 6500 rows.\n",
      "Processing 6750/7000 rows...\n",
      "Progress saved to cnndm/fake_summary/train_hallucinated.csv after 6750 rows.\n",
      "Processing 7000/7000 rows...\n",
      "Progress saved to cnndm/fake_summary/train_hallucinated.csv after 7000 rows.\n",
      "\n",
      "Processing complete!\n"
     ]
    }
   ],
   "source": [
    "output_file_train = \"cnndm/fake_summary/train_hallucinated_ext.csv\"\n",
    "\n",
    "fake_train = create_hallucinated_summaries(\n",
    "    df=datasets_train[\"train\"], \n",
    "    source_col=\"article\", \n",
    "    target_col=\"highlights\",\n",
    "    output_file_name = output_file_train,\n",
    "    add_tokens=True\n",
    "\n",
    ")\n"
   ]
  },
  {
   "cell_type": "markdown",
   "metadata": {},
   "source": [
    "### Create Test and Validation Set Hallucinations"
   ]
  },
  {
   "cell_type": "code",
   "execution_count": null,
   "metadata": {},
   "outputs": [],
   "source": [
    "output_file_test = \"cnndm/fake_summary/test_hallucinated_ext.csv\"\n",
    "\n",
    "fake_test = create_hallucinated_summaries(\n",
    "    df=datasets_test_val[\"test\"], \n",
    "    source_col=\"article\", \n",
    "    target_col=\"highlights\",\n",
    "    output_file_name = output_file_test,\n",
    "    add_tokens=True\n",
    ")"
   ]
  },
  {
   "cell_type": "code",
   "execution_count": null,
   "metadata": {},
   "outputs": [],
   "source": [
    "output_file_val = \"cnndm/fake_summary/val_hallucinated_ext.csv\"\n",
    "\n",
    "fake_val = create_hallucinated_summaries(\n",
    "    df=datasets_test_val[\"valid\"], \n",
    "    source_col=\"article\",\n",
    "    target_col=\"highlights\",\n",
    "    output_file_name = output_file_val,\n",
    "    add_tokens=True\n",
    ")"
   ]
  }
 ],
 "metadata": {
  "kernelspec": {
   "display_name": "adl_project",
   "language": "python",
   "name": "python3"
  },
  "language_info": {
   "codemirror_mode": {
    "name": "ipython",
    "version": 3
   },
   "file_extension": ".py",
   "mimetype": "text/x-python",
   "name": "python",
   "nbconvert_exporter": "python",
   "pygments_lexer": "ipython3",
   "version": "3.10.15"
  }
 },
 "nbformat": 4,
 "nbformat_minor": 2
}
