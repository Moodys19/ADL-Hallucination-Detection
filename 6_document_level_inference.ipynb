{
 "cells": [
  {
   "cell_type": "code",
   "execution_count": 1,
   "metadata": {},
   "outputs": [
    {
     "name": "stderr",
     "output_type": "stream",
     "text": [
      "Some weights of BertForSequenceClassification were not initialized from the model checkpoint at prajjwal1/bert-tiny and are newly initialized: ['classifier.bias', 'classifier.weight']\n",
      "You should probably TRAIN this model on a down-stream task to be able to use it for predictions and inference.\n",
      "C:\\Users\\Mocca\\AppData\\Local\\Temp\\ipykernel_9256\\1500747696.py:8: FutureWarning: You are using `torch.load` with `weights_only=False` (the current default value), which uses the default pickle module implicitly. It is possible to construct malicious pickle data which will execute arbitrary code during unpickling (See https://github.com/pytorch/pytorch/blob/main/SECURITY.md#untrusted-models for more details). In a future release, the default value for `weights_only` will be flipped to `True`. This limits the functions that could be executed during unpickling. Arbitrary objects will no longer be allowed to be loaded via this mode unless they are explicitly allowlisted by the user via `torch.serialization.add_safe_globals`. We recommend you start setting `weights_only=True` for any use case where you don't have full control of the loaded file. Please open an issue on GitHub for any issues related to this experimental feature.\n",
      "  model.load_state_dict(torch.load('models/best_model_state.bin'))\n"
     ]
    },
    {
     "data": {
      "text/plain": [
       "BertForSequenceClassification(\n",
       "  (bert): BertModel(\n",
       "    (embeddings): BertEmbeddings(\n",
       "      (word_embeddings): Embedding(30522, 128, padding_idx=0)\n",
       "      (position_embeddings): Embedding(512, 128)\n",
       "      (token_type_embeddings): Embedding(2, 128)\n",
       "      (LayerNorm): LayerNorm((128,), eps=1e-12, elementwise_affine=True)\n",
       "      (dropout): Dropout(p=0.1, inplace=False)\n",
       "    )\n",
       "    (encoder): BertEncoder(\n",
       "      (layer): ModuleList(\n",
       "        (0-1): 2 x BertLayer(\n",
       "          (attention): BertAttention(\n",
       "            (self): BertSdpaSelfAttention(\n",
       "              (query): Linear(in_features=128, out_features=128, bias=True)\n",
       "              (key): Linear(in_features=128, out_features=128, bias=True)\n",
       "              (value): Linear(in_features=128, out_features=128, bias=True)\n",
       "              (dropout): Dropout(p=0.1, inplace=False)\n",
       "            )\n",
       "            (output): BertSelfOutput(\n",
       "              (dense): Linear(in_features=128, out_features=128, bias=True)\n",
       "              (LayerNorm): LayerNorm((128,), eps=1e-12, elementwise_affine=True)\n",
       "              (dropout): Dropout(p=0.1, inplace=False)\n",
       "            )\n",
       "          )\n",
       "          (intermediate): BertIntermediate(\n",
       "            (dense): Linear(in_features=128, out_features=512, bias=True)\n",
       "            (intermediate_act_fn): GELUActivation()\n",
       "          )\n",
       "          (output): BertOutput(\n",
       "            (dense): Linear(in_features=512, out_features=128, bias=True)\n",
       "            (LayerNorm): LayerNorm((128,), eps=1e-12, elementwise_affine=True)\n",
       "            (dropout): Dropout(p=0.1, inplace=False)\n",
       "          )\n",
       "        )\n",
       "      )\n",
       "    )\n",
       "    (pooler): BertPooler(\n",
       "      (dense): Linear(in_features=128, out_features=128, bias=True)\n",
       "      (activation): Tanh()\n",
       "    )\n",
       "  )\n",
       "  (dropout): Dropout(p=0.1, inplace=False)\n",
       "  (classifier): Linear(in_features=128, out_features=2, bias=True)\n",
       ")"
      ]
     },
     "execution_count": 1,
     "metadata": {},
     "output_type": "execute_result"
    }
   ],
   "source": [
    "import torch\n",
    "from transformers import BertTokenizer, BertForSequenceClassification, AdamW\n",
    "# Load the tokenizer and model\n",
    "tokenizer = BertTokenizer.from_pretrained(\"prajjwal1/bert-tiny\")\n",
    "model = BertForSequenceClassification.from_pretrained(\"prajjwal1/bert-tiny\", num_labels=2)\n",
    "\n",
    "# Load saved model state\n",
    "model.load_state_dict(torch.load('models/best_model_state.bin'))\n",
    "model.eval()\n"
   ]
  },
  {
   "cell_type": "code",
   "execution_count": 2,
   "metadata": {},
   "outputs": [],
   "source": [
    "def prepare_input_consistent(doc, summ, tokenizer, max_length=512):\n",
    "    # Tokenize the document and summary\n",
    "    doc_tokens = tokenizer.tokenize(doc)\n",
    "    summ_tokens = tokenizer.tokenize(summ)\n",
    "\n",
    "    # Ensure total length fits within max_length\n",
    "    combined_tokens = (\n",
    "        [tokenizer.cls_token_id] +\n",
    "        tokenizer.convert_tokens_to_ids(doc_tokens) +\n",
    "        [tokenizer.sep_token_id] +\n",
    "        tokenizer.convert_tokens_to_ids(summ_tokens) +\n",
    "        [tokenizer.sep_token_id]\n",
    "    )\n",
    "    \n",
    "    # Truncate or pad to max_length\n",
    "    if len(combined_tokens) > max_length:\n",
    "        combined_tokens = combined_tokens[:max_length]\n",
    "    \n",
    "    attention_mask = [1] * len(combined_tokens)\n",
    "    \n",
    "    # Padding\n",
    "    pad_length = max_length - len(combined_tokens)\n",
    "    if pad_length > 0:\n",
    "        combined_tokens += [tokenizer.pad_token_id] * pad_length\n",
    "        attention_mask += [0] * pad_length\n",
    "    \n",
    "    return {\n",
    "        \"input_ids\": torch.tensor([combined_tokens], dtype=torch.long),\n",
    "        \"attention_mask\": torch.tensor([attention_mask], dtype=torch.long)\n",
    "    }\n",
    "\n",
    "\n",
    "\n",
    "def predict(text, summary, model, tokenizer):\n",
    "    inputs = prepare_input_consistent(text, summary, tokenizer, max_length=512)\n",
    "    input_ids = inputs[\"input_ids\"]\n",
    "    attention_mask = inputs[\"attention_mask\"]\n",
    "\n",
    "    with torch.no_grad():\n",
    "        outputs = model(input_ids=input_ids, attention_mask=attention_mask)\n",
    "        logits = outputs.logits\n",
    "        probabilities = torch.softmax(logits, dim=1)\n",
    "        prediction = torch.argmax(probabilities, dim=1).item()\n",
    "\n",
    "    print(f\"Prediction: {prediction}\")\n",
    "    print(f\"Probabilities: {probabilities}\")\n",
    "\n",
    "    return prediction, probabilities\n",
    "\n"
   ]
  },
  {
   "cell_type": "code",
   "execution_count": null,
   "metadata": {},
   "outputs": [
    {
     "name": "stdout",
     "output_type": "stream",
     "text": [
      "Prediction: 0\n",
      "Probabilities: tensor([[0.9835, 0.0165]])\n",
      "Prediction: 1\n",
      "Probabilities: tensor([[0.2393, 0.7607]])\n"
     ]
    }
   ],
   "source": [
    "# Example text and summary\n",
    "text = \"Wasps have announced the appointment of Lee Blackett as their new backs coach for next season. The 32-year-old will move to the Aviva Premiership side from Championship club Rotherham, where he is currently head coach. He will replace former Wales fly-half Stephen Jones, who is returning to the Llanelli-based Scarlets in a coaching capacity. Wasps have announced the appointment of Lee Blackett as their new backs coach for next season . Wasps rugby director Dai Young said: 'We always knew the time would come when Stephen would want to return to Wales with his young family. He has done a great job for us. 'Lee is one of the brightest young coaches in Britain, who has won admiration throughout the game for how he has turned Rotherham Titans into one of the strongest teams outside of the Premiership. 'He has impressed knowledgeable onlookers by his attention to detail, enthusiasm and professionalism, and his proven ability to get the best out of the players he coaches.' Blackett (left) pictured playing for Leeds in 2010 as he is tackled by Guillaume Bousses (centre)\"\n",
    "summary = \"Lee Blackett will move to the Aviva Premiership side next season . The 32-year-old is currently head coach at Championship club Rotherham .Blackett will replace former Wales fly-half Stephen Jones .\"\n",
    "\n",
    "summary_fake = \"Lee Blackett will move to the English Super League side next season. The 42-year-old is currently CEO at Premier League football club Manchester City. Blackett will replace former England captain David Beckham.\"\n",
    "\n",
    "prediction, probabilities = predict(text, summary, model, tokenizer)\n",
    "prediction, probabilities = predict(text, summary_fake, model, tokenizer)"
   ]
  }
 ],
 "metadata": {
  "kernelspec": {
   "display_name": "adl_project",
   "language": "python",
   "name": "python3"
  },
  "language_info": {
   "codemirror_mode": {
    "name": "ipython",
    "version": 3
   },
   "file_extension": ".py",
   "mimetype": "text/x-python",
   "name": "python",
   "nbconvert_exporter": "python",
   "pygments_lexer": "ipython3",
   "version": "3.10.15"
  }
 },
 "nbformat": 4,
 "nbformat_minor": 2
}
