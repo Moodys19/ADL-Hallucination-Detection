{
  "cells": [
    {
      "cell_type": "markdown",
      "metadata": {},
      "source": [
        "# Baseline Subproject - Fine Tuning"
      ]
    },
    {
      "cell_type": "markdown",
      "metadata": {},
      "source": [
        "## Data Loading"
      ]
    },
    {
      "cell_type": "code",
      "execution_count": 1,
      "metadata": {
        "id": "74as8no9Hgj1"
      },
      "outputs": [],
      "source": [
        "import pandas as pd\n",
        "import torch\n",
        "from torch.optim import AdamW  # Import PyTorch's AdamW\n",
        "\n",
        "from torch.utils.data import DataLoader, Dataset\n",
        "#from transformers import BertTokenizer, BertForSequenceClassification, AdamW\n",
        "from transformers import LongformerTokenizer, LongformerForSequenceClassification, AdamW\n",
        "\n",
        "from sklearn.metrics import accuracy_score, classification_report\n",
        "import matplotlib.pyplot as plt"
      ]
    },
    {
      "cell_type": "code",
      "execution_count": 2,
      "metadata": {
        "id": "9sML1N_vIYSo"
      },
      "outputs": [],
      "source": [
        "# Load the datasets\n",
        "train_data = pd.read_csv(\"cnndm/train_data_base.csv\", sep=';')\n",
        "valid_data = pd.read_csv(\"cnndm/valid_data_base.csv\", sep=';')\n",
        "test_data = pd.read_csv(\"cnndm/test_data_base.csv\", sep=';')"
      ]
    },
    {
      "cell_type": "code",
      "execution_count": 3,
      "metadata": {
        "colab": {
          "base_uri": "https://localhost:8080/"
        },
        "id": "qeNIHNqQN1C2",
        "outputId": "95725fda-828f-4055-a621-482d58c4a76f"
      },
      "outputs": [
        {
          "name": "stdout",
          "output_type": "stream",
          "text": [
            "Unnamed: 0    0\n",
            "article       0\n",
            "highlights    0\n",
            "label         0\n",
            "dtype: int64\n"
          ]
        }
      ],
      "source": [
        "print(train_data.isna().sum())\n",
        "missing_rows = train_data[train_data.isna().any(axis=1)]\n"
      ]
    },
    {
      "cell_type": "code",
      "execution_count": 4,
      "metadata": {
        "colab": {
          "base_uri": "https://localhost:8080/",
          "height": 310
        },
        "id": "L3xt017hLKd2",
        "outputId": "a0b8e83f-2500-47d0-f0f6-b875aa723cbe"
      },
      "outputs": [
        {
          "data": {
            "text/html": [
              "<div>\n",
              "<style scoped>\n",
              "    .dataframe tbody tr th:only-of-type {\n",
              "        vertical-align: middle;\n",
              "    }\n",
              "\n",
              "    .dataframe tbody tr th {\n",
              "        vertical-align: top;\n",
              "    }\n",
              "\n",
              "    .dataframe thead th {\n",
              "        text-align: right;\n",
              "    }\n",
              "</style>\n",
              "<table border=\"1\" class=\"dataframe\">\n",
              "  <thead>\n",
              "    <tr style=\"text-align: right;\">\n",
              "      <th></th>\n",
              "      <th>Unnamed: 0</th>\n",
              "      <th>article</th>\n",
              "      <th>highlights</th>\n",
              "      <th>label</th>\n",
              "    </tr>\n",
              "  </thead>\n",
              "  <tbody>\n",
              "    <tr>\n",
              "      <th>0</th>\n",
              "      <td>1</td>\n",
              "      <td>LONDON, England (Reuters) -- Harry Potter star...</td>\n",
              "      <td>Harry Potter star Daniel Radcliffe gets £20M f...</td>\n",
              "      <td>0</td>\n",
              "    </tr>\n",
              "    <tr>\n",
              "      <th>1</th>\n",
              "      <td>2</td>\n",
              "      <td>Editor's note: In our Behind the Scenes series...</td>\n",
              "      <td>Mentally ill inmates in Miami are housed on th...</td>\n",
              "      <td>0</td>\n",
              "    </tr>\n",
              "    <tr>\n",
              "      <th>2</th>\n",
              "      <td>3</td>\n",
              "      <td>MINNEAPOLIS, Minnesota (CNN) -- Drivers who we...</td>\n",
              "      <td>NEW: \"I thought I was going to die,\" driver sa...</td>\n",
              "      <td>0</td>\n",
              "    </tr>\n",
              "    <tr>\n",
              "      <th>3</th>\n",
              "      <td>4</td>\n",
              "      <td>WASHINGTON (CNN) -- Doctors removed five small...</td>\n",
              "      <td>Five small polyps found during procedure; \"non...</td>\n",
              "      <td>0</td>\n",
              "    </tr>\n",
              "    <tr>\n",
              "      <th>4</th>\n",
              "      <td>5</td>\n",
              "      <td>(CNN)  -- The National Football League has ind...</td>\n",
              "      <td>NEW: NFL chief, Atlanta Falcons owner critical...</td>\n",
              "      <td>0</td>\n",
              "    </tr>\n",
              "  </tbody>\n",
              "</table>\n",
              "</div>"
            ],
            "text/plain": [
              "   Unnamed: 0                                            article  \\\n",
              "0           1  LONDON, England (Reuters) -- Harry Potter star...   \n",
              "1           2  Editor's note: In our Behind the Scenes series...   \n",
              "2           3  MINNEAPOLIS, Minnesota (CNN) -- Drivers who we...   \n",
              "3           4  WASHINGTON (CNN) -- Doctors removed five small...   \n",
              "4           5  (CNN)  -- The National Football League has ind...   \n",
              "\n",
              "                                          highlights  label  \n",
              "0  Harry Potter star Daniel Radcliffe gets £20M f...      0  \n",
              "1  Mentally ill inmates in Miami are housed on th...      0  \n",
              "2  NEW: \"I thought I was going to die,\" driver sa...      0  \n",
              "3  Five small polyps found during procedure; \"non...      0  \n",
              "4  NEW: NFL chief, Atlanta Falcons owner critical...      0  "
            ]
          },
          "execution_count": 4,
          "metadata": {},
          "output_type": "execute_result"
        }
      ],
      "source": [
        "train_data.head()"
      ]
    },
    {
      "cell_type": "markdown",
      "metadata": {},
      "source": [
        "## Model and Tokenizer Loading"
      ]
    },
    {
      "cell_type": "code",
      "execution_count": 5,
      "metadata": {},
      "outputs": [
        {
          "name": "stderr",
          "output_type": "stream",
          "text": [
            "Some weights of LongformerForSequenceClassification were not initialized from the model checkpoint at allenai/longformer-base-4096 and are newly initialized: ['classifier.dense.bias', 'classifier.dense.weight', 'classifier.out_proj.bias', 'classifier.out_proj.weight']\n",
            "You should probably TRAIN this model on a down-stream task to be able to use it for predictions and inference.\n"
          ]
        },
        {
          "name": "stdout",
          "output_type": "stream",
          "text": [
            "LongformerConfig {\n",
            "  \"_attn_implementation_autoset\": true,\n",
            "  \"_name_or_path\": \"allenai/longformer-base-4096\",\n",
            "  \"attention_mode\": \"longformer\",\n",
            "  \"attention_probs_dropout_prob\": 0.1,\n",
            "  \"attention_window\": [\n",
            "    512,\n",
            "    512,\n",
            "    512,\n",
            "    512,\n",
            "    512,\n",
            "    512,\n",
            "    512,\n",
            "    512,\n",
            "    512,\n",
            "    512,\n",
            "    512,\n",
            "    512\n",
            "  ],\n",
            "  \"bos_token_id\": 0,\n",
            "  \"eos_token_id\": 2,\n",
            "  \"gradient_checkpointing\": false,\n",
            "  \"hidden_act\": \"gelu\",\n",
            "  \"hidden_dropout_prob\": 0.1,\n",
            "  \"hidden_size\": 768,\n",
            "  \"ignore_attention_mask\": false,\n",
            "  \"initializer_range\": 0.02,\n",
            "  \"intermediate_size\": 3072,\n",
            "  \"layer_norm_eps\": 1e-05,\n",
            "  \"max_position_embeddings\": 4098,\n",
            "  \"model_type\": \"longformer\",\n",
            "  \"num_attention_heads\": 12,\n",
            "  \"num_hidden_layers\": 12,\n",
            "  \"onnx_export\": false,\n",
            "  \"pad_token_id\": 1,\n",
            "  \"sep_token_id\": 2,\n",
            "  \"transformers_version\": \"4.47.0\",\n",
            "  \"type_vocab_size\": 1,\n",
            "  \"vocab_size\": 50265\n",
            "}\n",
            "\n"
          ]
        }
      ],
      "source": [
        "\n",
        "# Load tokenizer\n",
        "tokenizer = LongformerTokenizer.from_pretrained(\"allenai/longformer-base-4096\")\n",
        "\n",
        "# Load Longformer model for classification\n",
        "model = LongformerForSequenceClassification.from_pretrained(\n",
        "    \"allenai/longformer-base-4096\",\n",
        "    num_labels=2  # Binary classification\n",
        ")\n",
        "\n",
        "# Check model details\n",
        "print(model.config)\n",
        "\n",
        "long_former = True"
      ]
    },
    {
      "cell_type": "code",
      "execution_count": 6,
      "metadata": {
        "colab": {
          "base_uri": "https://localhost:8080/"
        },
        "id": "lCgUdaB4If6w",
        "outputId": "a946f6d6-b564-4e0c-cfa7-7957f3b8d474"
      },
      "outputs": [],
      "source": [
        "# # Load the tokenizer and model\n",
        "# tokenizer = BertTokenizer.from_pretrained(\"prajjwal1/bert-tiny\")\n",
        "# model = BertForSequenceClassification.from_pretrained(\"prajjwal1/bert-tiny\", num_labels=2)\n",
        "# long_former = False"
      ]
    },
    {
      "cell_type": "markdown",
      "metadata": {},
      "source": [
        "## Token Analysis"
      ]
    },
    {
      "cell_type": "code",
      "execution_count": 7,
      "metadata": {},
      "outputs": [
        {
          "data": {
            "image/png": "[encoded data removed]",
            "text/plain": [
              "<Figure size 1200x600 with 1 Axes>"
            ]
          },
          "metadata": {},
          "output_type": "display_data"
        },
        {
          "name": "stdout",
          "output_type": "stream",
          "text": [
            "       Document Lengths  Summary Lengths  Combined Lengths\n",
            "count      13990.000000     13990.000000      13990.000000\n",
            "mean         783.331665        69.738099        856.069764\n",
            "std          387.165939        39.269235        394.133228\n",
            "min           25.000000        12.000000         71.000000\n",
            "25%          475.000000        54.000000        545.250000\n",
            "50%          725.000000        64.000000        799.000000\n",
            "75%         1035.750000        73.000000       1113.000000\n",
            "max         2538.000000       561.000000       2671.000000\n"
          ]
        }
      ],
      "source": [
        "# Tokenize and calculate token lengths\n",
        "def calculate_lengths(data, tokenizer, column_name):\n",
        "    lengths = []\n",
        "    for text in data[column_name]:\n",
        "        tokens = tokenizer.tokenize(text)\n",
        "        lengths.append(len(tokens))\n",
        "    return lengths\n",
        "\n",
        "# Calculate token lengths for documents and summaries\n",
        "doc_lengths = calculate_lengths(train_data, tokenizer, column_name='article')\n",
        "summ_lengths = calculate_lengths(train_data, tokenizer, column_name='highlights')\n",
        "\n",
        "# Combine lengths for total sequence lengths\n",
        "combined_lengths = [d + s + 3 for d, s in zip(doc_lengths, summ_lengths)]  # +3 for [CLS], [SEP], [SEP]\n",
        "\n",
        "# Create a DataFrame for analysis\n",
        "lengths_df = pd.DataFrame({\n",
        "    'Document Lengths': doc_lengths,\n",
        "    'Summary Lengths': summ_lengths,\n",
        "    'Combined Lengths': combined_lengths\n",
        "})\n",
        "\n",
        "# Plot distributions\n",
        "plt.figure(figsize=(12, 6))\n",
        "plt.hist(lengths_df['Combined Lengths'], bins=50, alpha=0.7, label='Combined Lengths')\n",
        "plt.hist(lengths_df['Document Lengths'], bins=50, alpha=0.7, label='Document Lengths')\n",
        "plt.hist(lengths_df['Summary Lengths'], bins=50, alpha=0.7, label='Summary Lengths')\n",
        "#plt.axvline(x=512, color='red', linestyle='--', label='Max Length (512)')\n",
        "plt.xlabel('Number of Tokens - Training')\n",
        "plt.ylabel('Frequency')\n",
        "plt.legend()\n",
        "plt.title('Token Length Distributions')\n",
        "plt.show()\n",
        "\n",
        "# Print statistics\n",
        "print(lengths_df.describe())\n"
      ]
    },
    {
      "cell_type": "code",
      "execution_count": 8,
      "metadata": {},
      "outputs": [
        {
          "name": "stdout",
          "output_type": "stream",
          "text": [
            "       Document Lengths  Summary Lengths  Combined Lengths\n",
            "count       1988.000000      1988.000000       1988.000000\n",
            "mean         779.579477        57.118209        839.697686\n",
            "std          434.683517        41.748108        444.485520\n",
            "min          101.000000        14.000000        128.000000\n",
            "25%          432.000000        38.000000        482.750000\n",
            "50%          707.500000        48.000000        767.500000\n",
            "75%         1059.000000        60.000000       1127.000000\n",
            "max         3110.000000       525.000000       3196.000000\n"
          ]
        }
      ],
      "source": [
        "# Calculate token lengths for documents and summaries\n",
        "doc_lengths_test = calculate_lengths(test_data, tokenizer, column_name='article')\n",
        "summ_lengths_test = calculate_lengths(test_data, tokenizer, column_name='highlights')\n",
        "\n",
        "# Combine lengths for total sequence lengths\n",
        "combined_lengths_test = [d + s + 3 for d, s in zip(doc_lengths_test, summ_lengths_test)]  # +3 for [CLS], [SEP], [SEP]\n",
        "\n",
        "# Create a DataFrame for analysis\n",
        "lengths_df_test = pd.DataFrame({\n",
        "    'Document Lengths': doc_lengths_test,\n",
        "    'Summary Lengths': summ_lengths_test,\n",
        "    'Combined Lengths': combined_lengths_test\n",
        "})\n",
        "\n",
        "print(lengths_df_test.describe())\n",
        "\n"
      ]
    },
    {
      "cell_type": "code",
      "execution_count": 9,
      "metadata": {},
      "outputs": [
        {
          "name": "stdout",
          "output_type": "stream",
          "text": [
            "       Document Lengths  Summary Lengths  Combined Lengths\n",
            "count       1996.000000      1996.000000       1996.000000\n",
            "mean         800.356713        59.479960        862.836673\n",
            "std          427.726926        53.781663        437.426265\n",
            "min          112.000000        12.000000        131.000000\n",
            "25%          457.000000        37.000000        514.500000\n",
            "50%          731.500000        48.000000        798.000000\n",
            "75%         1072.000000        61.000000       1145.500000\n",
            "max         2206.000000       547.000000       2473.000000\n"
          ]
        }
      ],
      "source": [
        "# Calculate token lengths for documents and summaries\n",
        "doc_lengths_valid = calculate_lengths(valid_data, tokenizer, column_name='article')\n",
        "summ_lengths_valid = calculate_lengths(valid_data, tokenizer, column_name='highlights')\n",
        "\n",
        "# Combine lengths for total sequence lengths\n",
        "combined_lengths_valid = [d + s + 3 for d, s in zip(doc_lengths_valid, summ_lengths_valid)]  # +3 for [CLS], [SEP], [SEP]\n",
        "\n",
        "# Create a DataFrame for analysis\n",
        "lengths_df_valid = pd.DataFrame({\n",
        "    'Document Lengths': doc_lengths_valid,\n",
        "    'Summary Lengths': summ_lengths_valid,\n",
        "    'Combined Lengths': combined_lengths_valid\n",
        "})\n",
        "\n",
        "print(lengths_df_valid.describe())"
      ]
    },
    {
      "cell_type": "code",
      "execution_count": 10,
      "metadata": {},
      "outputs": [
        {
          "name": "stdout",
          "output_type": "stream",
          "text": [
            "3614\n",
            "542\n",
            "556\n",
            "\n",
            "62\n",
            "18\n",
            "6\n"
          ]
        }
      ],
      "source": [
        "print((lengths_df[\"Document Lengths\"] > 1024).sum())\n",
        "print((lengths_df_test[\"Document Lengths\"] > 1024).sum())\n",
        "print((lengths_df_valid[\"Document Lengths\"] > 1024).sum())\n",
        "print()\n",
        "\n",
        "print((lengths_df[\"Document Lengths\"] > 2048).sum())\n",
        "print((lengths_df_test[\"Document Lengths\"] > 2048).sum())\n",
        "print((lengths_df_valid[\"Document Lengths\"] > 2048).sum())"
      ]
    },
    {
      "cell_type": "code",
      "execution_count": 11,
      "metadata": {},
      "outputs": [
        {
          "name": "stdout",
          "output_type": "stream",
          "text": [
            "4365\n",
            "634\n",
            "633\n",
            "\n",
            "108\n",
            "29\n",
            "21\n"
          ]
        }
      ],
      "source": [
        "print((lengths_df[\"Combined Lengths\"] > 1024).sum())\n",
        "print((lengths_df_test[\"Combined Lengths\"] > 1024).sum())\n",
        "print((lengths_df_valid[\"Combined Lengths\"] > 1024).sum())\n",
        "print()\n",
        "\n",
        "print((lengths_df[\"Combined Lengths\"] > 2048).sum())\n",
        "print((lengths_df_test[\"Combined Lengths\"] > 2048).sum())\n",
        "print((lengths_df_valid[\"Combined Lengths\"] > 2048).sum())"
      ]
    },
    {
      "cell_type": "markdown",
      "metadata": {},
      "source": [
        "## Prepare Data for Fine-Tuning"
      ]
    },
    {
      "cell_type": "code",
      "execution_count": 12,
      "metadata": {
        "id": "T4K4f2MBKa4z"
      },
      "outputs": [],
      "source": [
        "class CustomDataset(Dataset):\n",
        "    def __init__(self, data, tokenizer, max_length=512):\n",
        "        self.data = data\n",
        "        self.tokenizer = tokenizer\n",
        "        self.max_length = max_length\n",
        "        self.examples = []\n",
        "        self.skipped_count = 0  # Counter for rows skipped due to document length\n",
        "        self.skipped_bc_chunk = 0  # Counter for rows skipped due to chunking issues\n",
        "\n",
        "        self._create_examples()\n",
        "\n",
        "    def _create_examples(self):\n",
        "        for _, row in self.data.iterrows():\n",
        "            doc, summ, label = row['article'], row['highlights'], row['label']\n",
        "\n",
        "            # Tokenize document and summary\n",
        "            doc_tokens = self.tokenizer.tokenize(doc)\n",
        "            summ_tokens = self.tokenizer.tokenize(summ)\n",
        "\n",
        "            # Ensure document fits within max_length alone\n",
        "            if len(doc_tokens) + 3 > self.max_length:  # [CLS] doc_tokens [SEP]\n",
        "                self.skipped_count += 1\n",
        "                continue\n",
        "\n",
        "            # Function to check if a chunk fits within max_length\n",
        "            def chunk_fits(tokens_chunk):\n",
        "                return len(doc_tokens) + len(tokens_chunk) + 3 <= self.max_length\n",
        "\n",
        "            # Case 1: Check if the full summary fits\n",
        "            if chunk_fits(summ_tokens):\n",
        "                input_ids, attention_mask = self._create_input(doc_tokens, summ_tokens)\n",
        "                self.examples.append({\"input_ids\": input_ids, \"attention_mask\": attention_mask, \"label\": label})\n",
        "            else:\n",
        "                # Case 2: Try splitting into halves\n",
        "                mid = len(summ_tokens) // 2\n",
        "                if chunk_fits(summ_tokens[:mid]) and chunk_fits(summ_tokens[mid:]):\n",
        "                    for chunk in [summ_tokens[:mid], summ_tokens[mid:]]:\n",
        "                        input_ids, attention_mask = self._create_input(doc_tokens, chunk)\n",
        "                        self.examples.append({\"input_ids\": input_ids, \"attention_mask\": attention_mask, \"label\": label})\n",
        "                else:\n",
        "                    # Case 3: Try splitting into thirds\n",
        "                    third = len(summ_tokens) // 3\n",
        "                    chunks = [summ_tokens[:third], summ_tokens[third:2 * third], summ_tokens[2 * third:]]\n",
        "                    if all(chunk_fits(chunk) for chunk in chunks):\n",
        "                        for chunk in chunks:\n",
        "                            input_ids, attention_mask = self._create_input(doc_tokens, chunk)\n",
        "                            self.examples.append({\"input_ids\": input_ids, \"attention_mask\": attention_mask, \"label\": label})\n",
        "                    else:\n",
        "                        # Case 4: Skip if none of the strategies work\n",
        "                        self.skipped_bc_chunk += 1\n",
        "\n",
        "    def _create_input(self, doc_tokens, summ_tokens):\n",
        "        input_ids = [self.tokenizer.cls_token_id] + \\\n",
        "                    self.tokenizer.convert_tokens_to_ids(doc_tokens) + \\\n",
        "                    [self.tokenizer.sep_token_id] + \\\n",
        "                    self.tokenizer.convert_tokens_to_ids(summ_tokens) + \\\n",
        "                    [self.tokenizer.sep_token_id]\n",
        "\n",
        "        attention_mask = [1] * len(input_ids)\n",
        "\n",
        "        # Pad if necessary\n",
        "        if len(input_ids) < self.max_length:\n",
        "            pad_length = self.max_length - len(input_ids)\n",
        "            input_ids += [self.tokenizer.pad_token_id] * pad_length\n",
        "            attention_mask += [0] * pad_length\n",
        "\n",
        "        return input_ids, attention_mask\n",
        "\n",
        "    def __len__(self):\n",
        "        return len(self.examples)\n",
        "\n",
        "    def __getitem__(self, idx):\n",
        "        example = self.examples[idx]\n",
        "        return {\n",
        "            \"input_ids\": torch.tensor(example[\"input_ids\"], dtype=torch.long),\n",
        "            \"attention_mask\": torch.tensor(example[\"attention_mask\"], dtype=torch.long),\n",
        "            \"label\": torch.tensor(example[\"label\"], dtype=torch.long)\n",
        "        }\n"
      ]
    },
    {
      "cell_type": "code",
      "execution_count": 13,
      "metadata": {
        "id": "PMcY3BYQKfXz"
      },
      "outputs": [],
      "source": [
        "# Parameters\n",
        "if(long_former):\n",
        "    MAX_LEN = 1024 # 2048 # das setzen wir als balance zwischen wie viele padding brauchen und wie viele rausfallen\n",
        "else:\n",
        "    MAX_LEN = 512 # 2048 # das setzen wir als balance zwischen wie viele padding brauchen und wie viele rausfallen\n",
        "\n",
        "# Prepare datasets\n",
        "train_dataset = CustomDataset(train_data, tokenizer, max_length=MAX_LEN)\n",
        "valid_dataset = CustomDataset(valid_data, tokenizer, max_length=MAX_LEN)\n",
        "test_dataset = CustomDataset(test_data, tokenizer, max_length=MAX_LEN)\n"
      ]
    },
    {
      "cell_type": "code",
      "execution_count": 14,
      "metadata": {},
      "outputs": [
        {
          "name": "stdout",
          "output_type": "stream",
          "text": [
            "Train: 3642/13990 ~ 26.032880629020728 %\n",
            "Test: 544/1988 ~ 27.364185110663986 %\n",
            "Valid: 558/1996 ~ 27.955911823647295 %\n"
          ]
        }
      ],
      "source": [
        "# How many observations fall out\n",
        "print(f'Train: {train_dataset.skipped_count}/{train_data.shape[0]} ~ {train_dataset.skipped_count/train_data.shape[0] * 100} %')\n",
        "print(f'Test: {test_dataset.skipped_count}/{test_data.shape[0]} ~ {test_dataset.skipped_count/test_data.shape[0] * 100} %')\n",
        "print(f'Valid: {valid_dataset.skipped_count}/{valid_data.shape[0]} ~ {valid_dataset.skipped_count/valid_data.shape[0] * 100} %')"
      ]
    },
    {
      "cell_type": "code",
      "execution_count": 15,
      "metadata": {},
      "outputs": [
        {
          "name": "stdout",
          "output_type": "stream",
          "text": [
            "Train: 241/13990 ~ 1.7226590421729808 %\n",
            "Test: 34/1988 ~ 1.710261569416499 %\n",
            "Valid: 20/1996 ~ 1.002004008016032 %\n"
          ]
        }
      ],
      "source": [
        "print(f'Train: {train_dataset.skipped_bc_chunk}/{train_data.shape[0]} ~ {train_dataset.skipped_bc_chunk/train_data.shape[0] * 100} %')\n",
        "print(f'Test: {test_dataset.skipped_bc_chunk}/{test_data.shape[0]} ~ {test_dataset.skipped_bc_chunk/test_data.shape[0] * 100} %')\n",
        "print(f'Valid: {valid_dataset.skipped_bc_chunk}/{valid_data.shape[0]} ~ {valid_dataset.skipped_bc_chunk/valid_data.shape[0] * 100} %')"
      ]
    },
    {
      "cell_type": "code",
      "execution_count": 16,
      "metadata": {},
      "outputs": [],
      "source": [
        "if(long_former):\n",
        "    BATCH_SIZE = 16\n",
        "else:\n",
        "    MAX_LEN = 32 \n",
        "\n",
        "# Create DataLoaders\n",
        "train_loader = DataLoader(train_dataset, batch_size=BATCH_SIZE, shuffle=True)\n",
        "valid_loader = DataLoader(valid_dataset, batch_size=BATCH_SIZE, shuffle=False)\n",
        "test_loader = DataLoader(test_dataset, batch_size=BATCH_SIZE, shuffle=False)"
      ]
    },
    {
      "cell_type": "code",
      "execution_count": 17,
      "metadata": {
        "colab": {
          "base_uri": "https://localhost:8080/"
        },
        "id": "0I1Q2a3xKoy_",
        "outputId": "4ec81ca4-6737-41fb-a8fa-180b55cc5be7"
      },
      "outputs": [
        {
          "name": "stdout",
          "output_type": "stream",
          "text": [
            "cuda\n"
          ]
        },
        {
          "name": "stderr",
          "output_type": "stream",
          "text": [
            "c:\\Users\\Mocca\\anaconda3\\envs\\adl_project\\lib\\site-packages\\transformers\\optimization.py:591: FutureWarning: This implementation of AdamW is deprecated and will be removed in a future version. Use the PyTorch implementation torch.optim.AdamW instead, or set `no_deprecation_warning=True` to disable this warning\n",
            "  warnings.warn(\n"
          ]
        }
      ],
      "source": [
        "# Optimizer\n",
        "optimizer = AdamW(model.parameters(), lr=2e-5)\n",
        "\n",
        "# Device setup\n",
        "device = torch.device(\"cuda\" if torch.cuda.is_available() else \"cpu\")\n",
        "model.to(device)\n",
        "print(device)\n",
        "\n",
        "# Loss function\n",
        "criterion = torch.nn.CrossEntropyLoss()"
      ]
    },
    {
      "cell_type": "code",
      "execution_count": 22,
      "metadata": {},
      "outputs": [],
      "source": [
        "# Training function\n",
        "def train_epoch(model, data_loader, optimizer, criterion, device):\n",
        "    model.train()\n",
        "    losses = []\n",
        "    correct_predictions = 0\n",
        "\n",
        "    for batch_idx, batch in enumerate(data_loader):\n",
        "        # Access the current batch index\n",
        "        print(f\"Processing batch {batch_idx + 1}/{len(data_loader)}\", end = '\\r')\n",
        "\n",
        "        input_ids = batch['input_ids'].to(device)\n",
        "        attention_mask = batch['attention_mask'].to(device)\n",
        "        labels = batch['label'].to(device)\n",
        "\n",
        "        outputs = model(input_ids=input_ids, attention_mask=attention_mask)\n",
        "        logits = outputs.logits\n",
        "        loss = criterion(logits, labels)\n",
        "        losses.append(loss.item())\n",
        "\n",
        "        _, preds = torch.max(logits, dim=1)\n",
        "        correct_predictions += torch.sum(preds == labels)\n",
        "\n",
        "        loss.backward()\n",
        "        optimizer.step()\n",
        "        optimizer.zero_grad()\n",
        "\n",
        "    return correct_predictions.double() / len(data_loader.dataset), sum(losses) / len(losses)\n",
        "\n"
      ]
    },
    {
      "cell_type": "code",
      "execution_count": 19,
      "metadata": {
        "id": "cfJBpJqNKwSW"
      },
      "outputs": [],
      "source": [
        "def eval_model(model, data_loader, criterion, device):\n",
        "    model.eval()\n",
        "    losses = []\n",
        "    correct_predictions = 0\n",
        "\n",
        "    with torch.no_grad():\n",
        "        for batch in data_loader:\n",
        "            input_ids = batch['input_ids'].to(device)\n",
        "            attention_mask = batch['attention_mask'].to(device)\n",
        "            labels = batch['label'].to(device)\n",
        "\n",
        "            outputs = model(input_ids=input_ids, attention_mask=attention_mask)\n",
        "            logits = outputs.logits\n",
        "            loss = criterion(logits, labels)\n",
        "            losses.append(loss.item())\n",
        "\n",
        "            _, preds = torch.max(logits, dim=1)\n",
        "            correct_predictions += torch.sum(preds == labels)\n",
        "\n",
        "    return correct_predictions.double() / len(data_loader.dataset), sum(losses) / len(losses)\n"
      ]
    },
    {
      "cell_type": "markdown",
      "metadata": {},
      "source": [
        "## Fine-Tuning"
      ]
    },
    {
      "cell_type": "code",
      "execution_count": 20,
      "metadata": {},
      "outputs": [],
      "source": [
        "torch.cuda.empty_cache()"
      ]
    },
    {
      "cell_type": "code",
      "execution_count": 23,
      "metadata": {
        "colab": {
          "base_uri": "https://localhost:8080/",
          "height": 414
        },
        "id": "xT1OHMDLK0A-",
        "outputId": "68519623-6553-430b-c9f0-975fc2b764dd"
      },
      "outputs": [
        {
          "name": "stdout",
          "output_type": "stream",
          "text": [
            "Epoch 1/20\n",
            "----------\n",
            "Processing batch 13/669\r"
          ]
        },
        {
          "ename": "KeyboardInterrupt",
          "evalue": "",
          "output_type": "error",
          "traceback": [
            "\u001b[1;31m---------------------------------------------------------------------------\u001b[0m",
            "\u001b[1;31mKeyboardInterrupt\u001b[0m                         Traceback (most recent call last)",
            "Cell \u001b[1;32mIn[23], line 11\u001b[0m\n\u001b[0;32m      8\u001b[0m \u001b[38;5;28mprint\u001b[39m(\u001b[38;5;124m\"\u001b[39m\u001b[38;5;124m-\u001b[39m\u001b[38;5;124m\"\u001b[39m \u001b[38;5;241m*\u001b[39m \u001b[38;5;241m10\u001b[39m)\n\u001b[0;32m     10\u001b[0m \u001b[38;5;66;03m# Train for one epoch\u001b[39;00m\n\u001b[1;32m---> 11\u001b[0m train_acc, train_loss \u001b[38;5;241m=\u001b[39m \u001b[43mtrain_epoch\u001b[49m\u001b[43m(\u001b[49m\u001b[43mmodel\u001b[49m\u001b[43m,\u001b[49m\u001b[43m \u001b[49m\u001b[43mtrain_loader\u001b[49m\u001b[43m,\u001b[49m\u001b[43m \u001b[49m\u001b[43moptimizer\u001b[49m\u001b[43m,\u001b[49m\u001b[43m \u001b[49m\u001b[43mcriterion\u001b[49m\u001b[43m,\u001b[49m\u001b[43m \u001b[49m\u001b[43mdevice\u001b[49m\u001b[43m)\u001b[49m\n\u001b[0;32m     12\u001b[0m \u001b[38;5;28mprint\u001b[39m(\u001b[38;5;124mf\u001b[39m\u001b[38;5;124m\"\u001b[39m\u001b[38;5;124mTrain Loss: \u001b[39m\u001b[38;5;132;01m{\u001b[39;00mtrain_loss\u001b[38;5;132;01m:\u001b[39;00m\u001b[38;5;124m.4f\u001b[39m\u001b[38;5;132;01m}\u001b[39;00m\u001b[38;5;124m, Train Accuracy: \u001b[39m\u001b[38;5;132;01m{\u001b[39;00mtrain_acc\u001b[38;5;132;01m:\u001b[39;00m\u001b[38;5;124m.4f\u001b[39m\u001b[38;5;132;01m}\u001b[39;00m\u001b[38;5;124m\"\u001b[39m)\n\u001b[0;32m     14\u001b[0m \u001b[38;5;66;03m# Evaluate on validation set\u001b[39;00m\n",
            "Cell \u001b[1;32mIn[22], line 24\u001b[0m, in \u001b[0;36mtrain_epoch\u001b[1;34m(model, data_loader, optimizer, criterion, device)\u001b[0m\n\u001b[0;32m     21\u001b[0m _, preds \u001b[38;5;241m=\u001b[39m torch\u001b[38;5;241m.\u001b[39mmax(logits, dim\u001b[38;5;241m=\u001b[39m\u001b[38;5;241m1\u001b[39m)\n\u001b[0;32m     22\u001b[0m correct_predictions \u001b[38;5;241m+\u001b[39m\u001b[38;5;241m=\u001b[39m torch\u001b[38;5;241m.\u001b[39msum(preds \u001b[38;5;241m==\u001b[39m labels)\n\u001b[1;32m---> 24\u001b[0m \u001b[43mloss\u001b[49m\u001b[38;5;241;43m.\u001b[39;49m\u001b[43mbackward\u001b[49m\u001b[43m(\u001b[49m\u001b[43m)\u001b[49m\n\u001b[0;32m     25\u001b[0m optimizer\u001b[38;5;241m.\u001b[39mstep()\n\u001b[0;32m     26\u001b[0m optimizer\u001b[38;5;241m.\u001b[39mzero_grad()\n",
            "File \u001b[1;32mc:\\Users\\Mocca\\anaconda3\\envs\\adl_project\\lib\\site-packages\\torch\\_tensor.py:581\u001b[0m, in \u001b[0;36mTensor.backward\u001b[1;34m(self, gradient, retain_graph, create_graph, inputs)\u001b[0m\n\u001b[0;32m    571\u001b[0m \u001b[38;5;28;01mif\u001b[39;00m has_torch_function_unary(\u001b[38;5;28mself\u001b[39m):\n\u001b[0;32m    572\u001b[0m     \u001b[38;5;28;01mreturn\u001b[39;00m handle_torch_function(\n\u001b[0;32m    573\u001b[0m         Tensor\u001b[38;5;241m.\u001b[39mbackward,\n\u001b[0;32m    574\u001b[0m         (\u001b[38;5;28mself\u001b[39m,),\n\u001b[1;32m   (...)\u001b[0m\n\u001b[0;32m    579\u001b[0m         inputs\u001b[38;5;241m=\u001b[39minputs,\n\u001b[0;32m    580\u001b[0m     )\n\u001b[1;32m--> 581\u001b[0m \u001b[43mtorch\u001b[49m\u001b[38;5;241;43m.\u001b[39;49m\u001b[43mautograd\u001b[49m\u001b[38;5;241;43m.\u001b[39;49m\u001b[43mbackward\u001b[49m\u001b[43m(\u001b[49m\n\u001b[0;32m    582\u001b[0m \u001b[43m    \u001b[49m\u001b[38;5;28;43mself\u001b[39;49m\u001b[43m,\u001b[49m\u001b[43m \u001b[49m\u001b[43mgradient\u001b[49m\u001b[43m,\u001b[49m\u001b[43m \u001b[49m\u001b[43mretain_graph\u001b[49m\u001b[43m,\u001b[49m\u001b[43m \u001b[49m\u001b[43mcreate_graph\u001b[49m\u001b[43m,\u001b[49m\u001b[43m \u001b[49m\u001b[43minputs\u001b[49m\u001b[38;5;241;43m=\u001b[39;49m\u001b[43minputs\u001b[49m\n\u001b[0;32m    583\u001b[0m \u001b[43m\u001b[49m\u001b[43m)\u001b[49m\n",
            "File \u001b[1;32mc:\\Users\\Mocca\\anaconda3\\envs\\adl_project\\lib\\site-packages\\torch\\autograd\\__init__.py:347\u001b[0m, in \u001b[0;36mbackward\u001b[1;34m(tensors, grad_tensors, retain_graph, create_graph, grad_variables, inputs)\u001b[0m\n\u001b[0;32m    342\u001b[0m     retain_graph \u001b[38;5;241m=\u001b[39m create_graph\n\u001b[0;32m    344\u001b[0m \u001b[38;5;66;03m# The reason we repeat the same comment below is that\u001b[39;00m\n\u001b[0;32m    345\u001b[0m \u001b[38;5;66;03m# some Python versions print out the first line of a multi-line function\u001b[39;00m\n\u001b[0;32m    346\u001b[0m \u001b[38;5;66;03m# calls in the traceback and some print out the last line\u001b[39;00m\n\u001b[1;32m--> 347\u001b[0m \u001b[43m_engine_run_backward\u001b[49m\u001b[43m(\u001b[49m\n\u001b[0;32m    348\u001b[0m \u001b[43m    \u001b[49m\u001b[43mtensors\u001b[49m\u001b[43m,\u001b[49m\n\u001b[0;32m    349\u001b[0m \u001b[43m    \u001b[49m\u001b[43mgrad_tensors_\u001b[49m\u001b[43m,\u001b[49m\n\u001b[0;32m    350\u001b[0m \u001b[43m    \u001b[49m\u001b[43mretain_graph\u001b[49m\u001b[43m,\u001b[49m\n\u001b[0;32m    351\u001b[0m \u001b[43m    \u001b[49m\u001b[43mcreate_graph\u001b[49m\u001b[43m,\u001b[49m\n\u001b[0;32m    352\u001b[0m \u001b[43m    \u001b[49m\u001b[43minputs\u001b[49m\u001b[43m,\u001b[49m\n\u001b[0;32m    353\u001b[0m \u001b[43m    \u001b[49m\u001b[43mallow_unreachable\u001b[49m\u001b[38;5;241;43m=\u001b[39;49m\u001b[38;5;28;43;01mTrue\u001b[39;49;00m\u001b[43m,\u001b[49m\n\u001b[0;32m    354\u001b[0m \u001b[43m    \u001b[49m\u001b[43maccumulate_grad\u001b[49m\u001b[38;5;241;43m=\u001b[39;49m\u001b[38;5;28;43;01mTrue\u001b[39;49;00m\u001b[43m,\u001b[49m\n\u001b[0;32m    355\u001b[0m \u001b[43m\u001b[49m\u001b[43m)\u001b[49m\n",
            "File \u001b[1;32mc:\\Users\\Mocca\\anaconda3\\envs\\adl_project\\lib\\site-packages\\torch\\autograd\\graph.py:825\u001b[0m, in \u001b[0;36m_engine_run_backward\u001b[1;34m(t_outputs, *args, **kwargs)\u001b[0m\n\u001b[0;32m    823\u001b[0m     unregister_hooks \u001b[38;5;241m=\u001b[39m _register_logging_hooks_on_whole_graph(t_outputs)\n\u001b[0;32m    824\u001b[0m \u001b[38;5;28;01mtry\u001b[39;00m:\n\u001b[1;32m--> 825\u001b[0m     \u001b[38;5;28;01mreturn\u001b[39;00m Variable\u001b[38;5;241m.\u001b[39m_execution_engine\u001b[38;5;241m.\u001b[39mrun_backward(  \u001b[38;5;66;03m# Calls into the C++ engine to run the backward pass\u001b[39;00m\n\u001b[0;32m    826\u001b[0m         t_outputs, \u001b[38;5;241m*\u001b[39margs, \u001b[38;5;241m*\u001b[39m\u001b[38;5;241m*\u001b[39mkwargs\n\u001b[0;32m    827\u001b[0m     )  \u001b[38;5;66;03m# Calls into the C++ engine to run the backward pass\u001b[39;00m\n\u001b[0;32m    828\u001b[0m \u001b[38;5;28;01mfinally\u001b[39;00m:\n\u001b[0;32m    829\u001b[0m     \u001b[38;5;28;01mif\u001b[39;00m attach_logging_hooks:\n",
            "\u001b[1;31mKeyboardInterrupt\u001b[0m: "
          ]
        }
      ],
      "source": [
        "EPOCHS = 20  # Maximum number of epochs\n",
        "PATIENCE = 5  # Number of epochs to wait for improvement\n",
        "best_val_loss = float('inf')  # Initialize with a large value\n",
        "early_stopping_counter = 0  # Tracks epochs without improvement\n",
        "\n",
        "for epoch in range(EPOCHS):\n",
        "    print(f\"Epoch {epoch + 1}/{EPOCHS}\")\n",
        "    print(\"-\" * 10)\n",
        "\n",
        "    # Train for one epoch\n",
        "    train_acc, train_loss = train_epoch(model, train_loader, optimizer, criterion, device)\n",
        "    print(f\"Train Loss: {train_loss:.4f}, Train Accuracy: {train_acc:.4f}\")\n",
        "\n",
        "    # Evaluate on validation set\n",
        "    val_acc, val_loss = eval_model(model, valid_loader, criterion, device)\n",
        "    print(f\"Validation Loss: {val_loss:.4f}, Validation Accuracy: {val_acc:.4f}\")\n",
        "\n",
        "    # Check for improvement\n",
        "    if val_loss < best_val_loss:\n",
        "        best_val_loss = val_loss\n",
        "        early_stopping_counter = 0  # Reset counter if performance improves\n",
        "        torch.save(model.state_dict(), 'models/best_model_state.bin')  # Save the best model\n",
        "        print(\"Validation performance improved. Model saved.\")\n",
        "    else:\n",
        "        early_stopping_counter += 1  # Increment counter if no improvement\n",
        "        print(f\"No improvement. Early stopping counter: {early_stopping_counter}/{PATIENCE}\")\n",
        "\n",
        "    # Stop training if early stopping criteria are met\n",
        "    if early_stopping_counter >= PATIENCE:\n",
        "        print(\"Early stopping triggered. Training stopped.\")\n",
        "        break\n"
      ]
    },
    {
      "cell_type": "code",
      "execution_count": null,
      "metadata": {
        "id": "gfBiqoTqK5Ag"
      },
      "outputs": [
        {
          "name": "stdout",
          "output_type": "stream",
          "text": [
            "Test loss: 0.36819470893930306 | Test accuracy: 0.8464912280701754\n",
            "              precision    recall  f1-score   support\n",
            "\n",
            "           0       0.89      0.78      0.83       337\n",
            "           1       0.81      0.91      0.86       347\n",
            "\n",
            "    accuracy                           0.85       684\n",
            "   macro avg       0.85      0.85      0.85       684\n",
            "weighted avg       0.85      0.85      0.85       684\n",
            "\n"
          ]
        }
      ],
      "source": [
        "model.load_state_dict(torch.load('models/best_model_state.bin', weights_only=True))\n",
        "\n",
        "test_acc, test_loss = eval_model(model, test_loader, criterion, device)\n",
        "print(f'Test loss: {test_loss} | Test accuracy: {test_acc}')\n",
        "\n",
        "# Classification report\n",
        "all_preds = []\n",
        "all_labels = []\n",
        "\n",
        "model.eval()\n",
        "with torch.no_grad():\n",
        "    for batch in test_loader:\n",
        "        input_ids = batch['input_ids'].to(device)\n",
        "        attention_mask = batch['attention_mask'].to(device)\n",
        "        labels = batch['label'].to(device)\n",
        "\n",
        "        outputs = model(input_ids=input_ids, attention_mask=attention_mask)\n",
        "        logits = outputs.logits\n",
        "        _, preds = torch.max(logits, dim=1)\n",
        "\n",
        "        all_preds.extend(preds.cpu().numpy())\n",
        "        all_labels.extend(labels.cpu().numpy())\n",
        "\n",
        "print(classification_report(all_labels, all_preds))\n"
      ]
    }
  ],
  "metadata": {
    "colab": {
      "provenance": []
    },
    "kernelspec": {
      "display_name": "adl_project",
      "language": "python",
      "name": "python3"
    },
    "language_info": {
      "codemirror_mode": {
        "name": "ipython",
        "version": 3
      },
      "file_extension": ".py",
      "mimetype": "text/x-python",
      "name": "python",
      "nbconvert_exporter": "python",
      "pygments_lexer": "ipython3",
      "version": "3.10.15"
    }
  },
  "nbformat": 4,
  "nbformat_minor": 0
}
