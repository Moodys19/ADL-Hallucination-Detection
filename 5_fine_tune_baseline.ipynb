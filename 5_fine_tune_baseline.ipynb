{
  "cells": [
    {
      "cell_type": "markdown",
      "metadata": {},
      "source": [
        "# Baseline Subproject - Fine Tuning"
      ]
    },
    {
      "cell_type": "markdown",
      "metadata": {},
      "source": [
        "## Data Loading"
      ]
    },
    {
      "cell_type": "code",
      "execution_count": 1,
      "metadata": {
        "id": "74as8no9Hgj1"
      },
      "outputs": [],
      "source": [
        "import pandas as pd\n",
        "import torch\n",
        "from torch.optim import AdamW  # Import PyTorch's AdamW\n",
        "from torch.utils.data import DataLoader, Dataset\n",
        "\n",
        "from sklearn.metrics import accuracy_score, classification_report\n",
        "import matplotlib.pyplot as plt\n",
        "\n",
        "from functions.fine_tune_model import calculate_lengths"
      ]
    },
    {
      "cell_type": "code",
      "execution_count": 2,
      "metadata": {
        "id": "9sML1N_vIYSo"
      },
      "outputs": [],
      "source": [
        "# Load the datasets\n",
        "train_data = pd.read_csv(\"cnndm/train_data_base.csv\", sep=';')\n",
        "valid_data = pd.read_csv(\"cnndm/valid_data_base.csv\", sep=';')\n",
        "test_data = pd.read_csv(\"cnndm/test_data_base.csv\", sep=';')"
      ]
    },
    {
      "cell_type": "code",
      "execution_count": 3,
      "metadata": {
        "colab": {
          "base_uri": "https://localhost:8080/"
        },
        "id": "qeNIHNqQN1C2",
        "outputId": "95725fda-828f-4055-a621-482d58c4a76f"
      },
      "outputs": [
        {
          "name": "stdout",
          "output_type": "stream",
          "text": [
            "Unnamed: 0    0\n",
            "article       0\n",
            "highlights    0\n",
            "label         0\n",
            "dtype: int64\n"
          ]
        }
      ],
      "source": [
        "print(train_data.isna().sum())\n",
        "missing_rows = train_data[train_data.isna().any(axis=1)]\n"
      ]
    },
    {
      "cell_type": "code",
      "execution_count": 4,
      "metadata": {
        "colab": {
          "base_uri": "https://localhost:8080/",
          "height": 310
        },
        "id": "L3xt017hLKd2",
        "outputId": "a0b8e83f-2500-47d0-f0f6-b875aa723cbe"
      },
      "outputs": [
        {
          "data": {
            "text/html": [
              "<div>\n",
              "<style scoped>\n",
              "    .dataframe tbody tr th:only-of-type {\n",
              "        vertical-align: middle;\n",
              "    }\n",
              "\n",
              "    .dataframe tbody tr th {\n",
              "        vertical-align: top;\n",
              "    }\n",
              "\n",
              "    .dataframe thead th {\n",
              "        text-align: right;\n",
              "    }\n",
              "</style>\n",
              "<table border=\"1\" class=\"dataframe\">\n",
              "  <thead>\n",
              "    <tr style=\"text-align: right;\">\n",
              "      <th></th>\n",
              "      <th>Unnamed: 0</th>\n",
              "      <th>article</th>\n",
              "      <th>highlights</th>\n",
              "      <th>label</th>\n",
              "    </tr>\n",
              "  </thead>\n",
              "  <tbody>\n",
              "    <tr>\n",
              "      <th>0</th>\n",
              "      <td>1</td>\n",
              "      <td>(CNN) -- Police and FBI agents are investigati...</td>\n",
              "      <td>Empty anti-tank weapon turns up in front of Ne...</td>\n",
              "      <td>0</td>\n",
              "    </tr>\n",
              "    <tr>\n",
              "      <th>1</th>\n",
              "      <td>2</td>\n",
              "      <td>BREMEN, Germany -- Carlos Alberto, who scored ...</td>\n",
              "      <td>Werder Bremen pay a club record $10.7 million ...</td>\n",
              "      <td>0</td>\n",
              "    </tr>\n",
              "    <tr>\n",
              "      <th>2</th>\n",
              "      <td>3</td>\n",
              "      <td>WASHINGTON (CNN) -- Vice President Dick Cheney...</td>\n",
              "      <td>President Bush will have a routine colonoscopy...</td>\n",
              "      <td>0</td>\n",
              "    </tr>\n",
              "    <tr>\n",
              "      <th>3</th>\n",
              "      <td>4</td>\n",
              "      <td>SAN FRANCISCO, California (CNN)  -- A magnitud...</td>\n",
              "      <td>2,000 customers without electricity, power com...</td>\n",
              "      <td>0</td>\n",
              "    </tr>\n",
              "    <tr>\n",
              "      <th>4</th>\n",
              "      <td>5</td>\n",
              "      <td>(CNN) -- At least 14 people were killed and 60...</td>\n",
              "      <td>Bomb victims waiting for presidential visit .\\...</td>\n",
              "      <td>0</td>\n",
              "    </tr>\n",
              "  </tbody>\n",
              "</table>\n",
              "</div>"
            ],
            "text/plain": [
              "   Unnamed: 0                                            article  \\\n",
              "0           1  (CNN) -- Police and FBI agents are investigati...   \n",
              "1           2  BREMEN, Germany -- Carlos Alberto, who scored ...   \n",
              "2           3  WASHINGTON (CNN) -- Vice President Dick Cheney...   \n",
              "3           4  SAN FRANCISCO, California (CNN)  -- A magnitud...   \n",
              "4           5  (CNN) -- At least 14 people were killed and 60...   \n",
              "\n",
              "                                          highlights  label  \n",
              "0  Empty anti-tank weapon turns up in front of Ne...      0  \n",
              "1  Werder Bremen pay a club record $10.7 million ...      0  \n",
              "2  President Bush will have a routine colonoscopy...      0  \n",
              "3  2,000 customers without electricity, power com...      0  \n",
              "4  Bomb victims waiting for presidential visit .\\...      0  "
            ]
          },
          "execution_count": 4,
          "metadata": {},
          "output_type": "execute_result"
        }
      ],
      "source": [
        "train_data.head()"
      ]
    },
    {
      "cell_type": "markdown",
      "metadata": {},
      "source": [
        "## Model and Tokenizer Loading"
      ]
    },
    {
      "cell_type": "code",
      "execution_count": 5,
      "metadata": {},
      "outputs": [],
      "source": [
        "LONG_FORMER = False"
      ]
    },
    {
      "cell_type": "code",
      "execution_count": 6,
      "metadata": {},
      "outputs": [
        {
          "name": "stderr",
          "output_type": "stream",
          "text": [
            "Some weights of BertForSequenceClassification were not initialized from the model checkpoint at prajjwal1/bert-tiny and are newly initialized: ['classifier.bias', 'classifier.weight']\n",
            "You should probably TRAIN this model on a down-stream task to be able to use it for predictions and inference.\n"
          ]
        }
      ],
      "source": [
        "if LONG_FORMER:\n",
        "\n",
        "    from transformers import LongformerTokenizer, LongformerForSequenceClassification #, AdamW\n",
        "    # Load tokenizer\n",
        "    tokenizer = LongformerTokenizer.from_pretrained(\"allenai/longformer-base-4096\")\n",
        "\n",
        "    # Load Longformer model for classification\n",
        "    model = LongformerForSequenceClassification.from_pretrained(\n",
        "        \"allenai/longformer-base-4096\",\n",
        "        num_labels=2  # Binary classification\n",
        "    )\n",
        "\n",
        "    # Check model details\n",
        "    #print(model.config)\n",
        "\n",
        "else:\n",
        "    from transformers import BertTokenizer, BertForSequenceClassification #, AdamW\n",
        "    tokenizer = BertTokenizer.from_pretrained(\"prajjwal1/bert-tiny\")\n",
        "    model = BertForSequenceClassification.from_pretrained(\"prajjwal1/bert-tiny\", num_labels=2)"
      ]
    },
    {
      "cell_type": "markdown",
      "metadata": {},
      "source": [
        "## Token Analysis "
      ]
    },
    {
      "cell_type": "code",
      "execution_count": 8,
      "metadata": {},
      "outputs": [
        {
          "data": {
            "image/png": "[encoded data removed]",
            "text/plain": [
              "<Figure size 1200x600 with 1 Axes>"
            ]
          },
          "metadata": {},
          "output_type": "display_data"
        },
        {
          "name": "stdout",
          "output_type": "stream",
          "text": [
            "       Document Lengths  Summary Lengths  Combined Lengths\n",
            "count      13978.000000     13978.000000      13978.000000\n",
            "mean         330.654314        56.761268        390.415582\n",
            "std           85.820662        31.512637         95.101243\n",
            "min           27.000000         2.000000         70.000000\n",
            "25%          272.000000        43.000000        327.250000\n",
            "50%          342.000000        52.000000        401.000000\n",
            "75%          400.000000        62.000000        462.000000\n",
            "max          480.000000       527.000000        924.000000\n"
          ]
        }
      ],
      "source": [
        "# Calculate token lengths for documents and summaries\n",
        "doc_lengths = calculate_lengths(train_data, tokenizer, column_name='article')\n",
        "summ_lengths = calculate_lengths(train_data, tokenizer, column_name='highlights')\n",
        "\n",
        "# Combine lengths for total sequence lengths\n",
        "combined_lengths = [d + s + 3 for d, s in zip(doc_lengths, summ_lengths)]  # +3 for [CLS], [SEP], [SEP]\n",
        "\n",
        "# Create a DataFrame for analysis\n",
        "lengths_df = pd.DataFrame({\n",
        "    'Document Lengths': doc_lengths,\n",
        "    'Summary Lengths': summ_lengths,\n",
        "    'Combined Lengths': combined_lengths\n",
        "})\n",
        "\n",
        "# Plot distributions\n",
        "plt.figure(figsize=(12, 6))\n",
        "plt.hist(lengths_df['Combined Lengths'], bins=50, alpha=0.7, label='Combined Lengths')\n",
        "plt.hist(lengths_df['Document Lengths'], bins=50, alpha=0.7, label='Document Lengths')\n",
        "plt.hist(lengths_df['Summary Lengths'], bins=50, alpha=0.7, label='Summary Lengths')\n",
        "plt.axvline(x=512, color='red', linestyle='--', label='Max Length (512)')\n",
        "plt.xlabel('Number of Tokens - Training')\n",
        "plt.ylabel('Frequency')\n",
        "plt.legend()\n",
        "plt.title('Token Length Distributions')\n",
        "plt.show()\n",
        "\n",
        "# Print statistics\n",
        "print(lengths_df.describe())\n"
      ]
    },
    {
      "cell_type": "code",
      "execution_count": 9,
      "metadata": {},
      "outputs": [
        {
          "name": "stdout",
          "output_type": "stream",
          "text": [
            "       Document Lengths  Summary Lengths  Combined Lengths\n",
            "count       1994.000000      1994.000000       1994.000000\n",
            "mean         330.074223        60.444333        393.518556\n",
            "std           80.652747        41.060566         93.503991\n",
            "min           96.000000        15.000000        127.000000\n",
            "25%          270.000000        41.000000        327.250000\n",
            "50%          341.000000        51.000000        401.500000\n",
            "75%          395.000000        65.000000        459.000000\n",
            "max          481.000000       412.000000        862.000000\n"
          ]
        }
      ],
      "source": [
        "# Calculate token lengths for documents and summaries\n",
        "doc_lengths_test = calculate_lengths(test_data, tokenizer, column_name='article')\n",
        "summ_lengths_test = calculate_lengths(test_data, tokenizer, column_name='highlights')\n",
        "\n",
        "# Combine lengths for total sequence lengths\n",
        "combined_lengths_test = [d + s + 3 for d, s in zip(doc_lengths_test, summ_lengths_test)]  # +3 for [CLS], [SEP], [SEP]\n",
        "\n",
        "# Create a DataFrame for analysis\n",
        "lengths_df_test = pd.DataFrame({\n",
        "    'Document Lengths': doc_lengths_test,\n",
        "    'Summary Lengths': summ_lengths_test,\n",
        "    'Combined Lengths': combined_lengths_test\n",
        "})\n",
        "\n",
        "print(lengths_df_test.describe())"
      ]
    },
    {
      "cell_type": "code",
      "execution_count": 10,
      "metadata": {},
      "outputs": [
        {
          "name": "stdout",
          "output_type": "stream",
          "text": [
            "       Document Lengths  Summary Lengths  Combined Lengths\n",
            "count       1996.000000      1996.000000       1996.000000\n",
            "mean         325.836673        63.207415        392.044088\n",
            "std           80.310665        48.850630         96.528023\n",
            "min           50.000000        12.000000        120.000000\n",
            "25%          267.000000        41.000000        327.000000\n",
            "50%          327.000000        52.000000        394.000000\n",
            "75%          391.000000        66.000000        461.000000\n",
            "max          483.000000       453.000000        887.000000\n"
          ]
        }
      ],
      "source": [
        "# Calculate token lengths for documents and summaries\n",
        "doc_lengths_valid = calculate_lengths(valid_data, tokenizer, column_name='article')\n",
        "summ_lengths_valid = calculate_lengths(valid_data, tokenizer, column_name='highlights')\n",
        "\n",
        "# Combine lengths for total sequence lengths\n",
        "combined_lengths_valid = [d + s + 3 for d, s in zip(doc_lengths_valid, summ_lengths_valid)]  # +3 for [CLS], [SEP], [SEP]\n",
        "\n",
        "# Create a DataFrame for analysis\n",
        "lengths_df_valid = pd.DataFrame({\n",
        "    'Document Lengths': doc_lengths_valid,\n",
        "    'Summary Lengths': summ_lengths_valid,\n",
        "    'Combined Lengths': combined_lengths_valid\n",
        "})\n",
        "\n",
        "print(lengths_df_valid.describe())"
      ]
    },
    {
      "cell_type": "code",
      "execution_count": 11,
      "metadata": {},
      "outputs": [
        {
          "name": "stdout",
          "output_type": "stream",
          "text": [
            "0\n",
            "0\n",
            "0\n",
            "\n",
            "0\n",
            "0\n",
            "0\n"
          ]
        }
      ],
      "source": [
        "print((lengths_df[\"Document Lengths\"] > 1024).sum())\n",
        "print((lengths_df_test[\"Document Lengths\"] > 1024).sum())\n",
        "print((lengths_df_valid[\"Document Lengths\"] > 1024).sum())\n",
        "print()\n",
        "\n",
        "print((lengths_df[\"Document Lengths\"] > 2048).sum())\n",
        "print((lengths_df_test[\"Document Lengths\"] > 2048).sum())\n",
        "print((lengths_df_valid[\"Document Lengths\"] > 2048).sum())"
      ]
    },
    {
      "cell_type": "code",
      "execution_count": 12,
      "metadata": {},
      "outputs": [
        {
          "name": "stdout",
          "output_type": "stream",
          "text": [
            "0\n",
            "0\n",
            "0\n",
            "\n",
            "0\n",
            "0\n",
            "0\n"
          ]
        }
      ],
      "source": [
        "print((lengths_df[\"Combined Lengths\"] > 1024).sum())\n",
        "print((lengths_df_test[\"Combined Lengths\"] > 1024).sum())\n",
        "print((lengths_df_valid[\"Combined Lengths\"] > 1024).sum())\n",
        "print()\n",
        "\n",
        "print((lengths_df[\"Combined Lengths\"] > 2048).sum())\n",
        "print((lengths_df_test[\"Combined Lengths\"] > 2048).sum())\n",
        "print((lengths_df_valid[\"Combined Lengths\"] > 2048).sum())"
      ]
    },
    {
      "cell_type": "markdown",
      "metadata": {},
      "source": [
        "## Prepare Data for Fine-Tuning"
      ]
    },
    {
      "cell_type": "code",
      "execution_count": 13,
      "metadata": {
        "id": "T4K4f2MBKa4z"
      },
      "outputs": [],
      "source": [
        "class CustomDataset(Dataset):\n",
        "    def __init__(self, data, tokenizer, max_length=512):\n",
        "        self.data = data\n",
        "        self.tokenizer = tokenizer\n",
        "        self.max_length = max_length\n",
        "        self.examples = []\n",
        "        self.skipped_count = 0  # Counter for rows skipped due to document length\n",
        "        self.skipped_bc_chunk = 0  # Counter for rows skipped due to chunking issues\n",
        "\n",
        "        self._create_examples()\n",
        "\n",
        "    def _create_examples(self):\n",
        "        for _, row in self.data.iterrows():\n",
        "            doc, summ, label = row['article'], row['highlights'], row['label']\n",
        "\n",
        "            # Tokenize document and summary\n",
        "            doc_tokens = self.tokenizer.tokenize(doc)\n",
        "            summ_tokens = self.tokenizer.tokenize(summ)\n",
        "\n",
        "            # Ensure document fits within max_length alone\n",
        "            if len(doc_tokens) + 3 > self.max_length:  # [CLS] doc_tokens [SEP]\n",
        "                self.skipped_count += 1\n",
        "                continue\n",
        "\n",
        "            # Function to check if a chunk fits within max_length\n",
        "            def chunk_fits(tokens_chunk):\n",
        "                return len(doc_tokens) + len(tokens_chunk) + 3 <= self.max_length\n",
        "\n",
        "            # Case 1: Check if the full summary fits\n",
        "            if chunk_fits(summ_tokens):\n",
        "                input_ids, attention_mask = self._create_input(doc_tokens, summ_tokens)\n",
        "                self.examples.append({\"input_ids\": input_ids, \"attention_mask\": attention_mask, \"label\": label})\n",
        "            else:\n",
        "                # Case 2: Try splitting into halves\n",
        "                mid = len(summ_tokens) // 2\n",
        "                if chunk_fits(summ_tokens[:mid]) and chunk_fits(summ_tokens[mid:]):\n",
        "                    for chunk in [summ_tokens[:mid], summ_tokens[mid:]]:\n",
        "                        input_ids, attention_mask = self._create_input(doc_tokens, chunk)\n",
        "                        self.examples.append({\"input_ids\": input_ids, \"attention_mask\": attention_mask, \"label\": label})\n",
        "                else:\n",
        "                    # Case 3: Try splitting into thirds\n",
        "                    third = len(summ_tokens) // 3\n",
        "                    chunks = [summ_tokens[:third], summ_tokens[third:2 * third], summ_tokens[2 * third:]]\n",
        "                    if all(chunk_fits(chunk) for chunk in chunks):\n",
        "                        for chunk in chunks:\n",
        "                            input_ids, attention_mask = self._create_input(doc_tokens, chunk)\n",
        "                            self.examples.append({\"input_ids\": input_ids, \"attention_mask\": attention_mask, \"label\": label})\n",
        "                    else:\n",
        "                        # Case 4: Skip if none of the strategies work\n",
        "                        self.skipped_bc_chunk += 1\n",
        "\n",
        "    def _create_input(self, doc_tokens, summ_tokens):\n",
        "        input_ids = [self.tokenizer.cls_token_id] + \\\n",
        "                    self.tokenizer.convert_tokens_to_ids(doc_tokens) + \\\n",
        "                    [self.tokenizer.sep_token_id] + \\\n",
        "                    self.tokenizer.convert_tokens_to_ids(summ_tokens) + \\\n",
        "                    [self.tokenizer.sep_token_id]\n",
        "\n",
        "        attention_mask = [1] * len(input_ids)\n",
        "\n",
        "        # Pad if necessary\n",
        "        if len(input_ids) < self.max_length:\n",
        "            pad_length = self.max_length - len(input_ids)\n",
        "            input_ids += [self.tokenizer.pad_token_id] * pad_length\n",
        "            attention_mask += [0] * pad_length\n",
        "\n",
        "        return input_ids, attention_mask\n",
        "\n",
        "    def __len__(self):\n",
        "        return len(self.examples)\n",
        "\n",
        "    def __getitem__(self, idx):\n",
        "        example = self.examples[idx]\n",
        "        return {\n",
        "            \"input_ids\": torch.tensor(example[\"input_ids\"], dtype=torch.long),\n",
        "            \"attention_mask\": torch.tensor(example[\"attention_mask\"], dtype=torch.long),\n",
        "            \"label\": torch.tensor(example[\"label\"], dtype=torch.long)\n",
        "        }\n"
      ]
    },
    {
      "cell_type": "code",
      "execution_count": 14,
      "metadata": {
        "id": "PMcY3BYQKfXz"
      },
      "outputs": [],
      "source": [
        "# Parameters\n",
        "if(LONG_FORMER):\n",
        "    MAX_LEN = 1024 # 2048 # das setzen wir als balance zwischen wie viele padding brauchen und wie viele rausfallen\n",
        "else:\n",
        "    MAX_LEN = 512 # 2048 # das setzen wir als balance zwischen wie viele padding brauchen und wie viele rausfallen\n",
        "\n",
        "# Prepare datasets\n",
        "train_dataset = CustomDataset(train_data, tokenizer, max_length=MAX_LEN)\n",
        "valid_dataset = CustomDataset(valid_data, tokenizer, max_length=MAX_LEN)\n",
        "test_dataset = CustomDataset(test_data, tokenizer, max_length=MAX_LEN)\n"
      ]
    },
    {
      "cell_type": "code",
      "execution_count": 15,
      "metadata": {},
      "outputs": [
        {
          "name": "stdout",
          "output_type": "stream",
          "text": [
            "Train: 0/13978 ~ 0.0 %\n",
            "Test: 0/1994 ~ 0.0 %\n",
            "Valid: 0/1996 ~ 0.0 %\n"
          ]
        }
      ],
      "source": [
        "# How many observations fall out\n",
        "print(f'Train: {train_dataset.skipped_count}/{train_data.shape[0]} ~ {train_dataset.skipped_count/train_data.shape[0] * 100} %')\n",
        "print(f'Test: {test_dataset.skipped_count}/{test_data.shape[0]} ~ {test_dataset.skipped_count/test_data.shape[0] * 100} %')\n",
        "print(f'Valid: {valid_dataset.skipped_count}/{valid_data.shape[0]} ~ {valid_dataset.skipped_count/valid_data.shape[0] * 100} %')"
      ]
    },
    {
      "cell_type": "code",
      "execution_count": 16,
      "metadata": {},
      "outputs": [
        {
          "name": "stdout",
          "output_type": "stream",
          "text": [
            "Train: 52/13978 ~ 0.37201316354270997 %\n",
            "Test: 12/1994 ~ 0.6018054162487462 %\n",
            "Valid: 16/1996 ~ 0.8016032064128256 %\n"
          ]
        }
      ],
      "source": [
        "print(f'Train: {train_dataset.skipped_bc_chunk}/{train_data.shape[0]} ~ {train_dataset.skipped_bc_chunk/train_data.shape[0] * 100} %')\n",
        "print(f'Test: {test_dataset.skipped_bc_chunk}/{test_data.shape[0]} ~ {test_dataset.skipped_bc_chunk/test_data.shape[0] * 100} %')\n",
        "print(f'Valid: {valid_dataset.skipped_bc_chunk}/{valid_data.shape[0]} ~ {valid_dataset.skipped_bc_chunk/valid_data.shape[0] * 100} %')"
      ]
    },
    {
      "cell_type": "code",
      "execution_count": 18,
      "metadata": {},
      "outputs": [],
      "source": [
        "if(LONG_FORMER):\n",
        "    BATCH_SIZE = 16\n",
        "else:\n",
        "    BATCH_SIZE = 32 \n",
        "\n",
        "# Create DataLoaders\n",
        "train_loader = DataLoader(train_dataset, batch_size=BATCH_SIZE, shuffle=True)\n",
        "valid_loader = DataLoader(valid_dataset, batch_size=BATCH_SIZE, shuffle=False)\n",
        "test_loader = DataLoader(test_dataset, batch_size=BATCH_SIZE, shuffle=False)"
      ]
    },
    {
      "cell_type": "code",
      "execution_count": 19,
      "metadata": {
        "colab": {
          "base_uri": "https://localhost:8080/"
        },
        "id": "0I1Q2a3xKoy_",
        "outputId": "4ec81ca4-6737-41fb-a8fa-180b55cc5be7"
      },
      "outputs": [
        {
          "name": "stdout",
          "output_type": "stream",
          "text": [
            "cuda\n"
          ]
        }
      ],
      "source": [
        "# Optimizer\n",
        "optimizer = AdamW(model.parameters(), lr=2e-5)\n",
        "\n",
        "# Device setup\n",
        "device = torch.device(\"cuda\" if torch.cuda.is_available() else \"cpu\")\n",
        "model.to(device)\n",
        "print(device)\n",
        "\n",
        "# Loss function\n",
        "criterion = torch.nn.CrossEntropyLoss()"
      ]
    },
    {
      "cell_type": "markdown",
      "metadata": {},
      "source": [
        "## Fine-Tuning"
      ]
    },
    {
      "cell_type": "code",
      "execution_count": 20,
      "metadata": {},
      "outputs": [],
      "source": [
        "from functions.fine_tune_model import train_epoch, eval_model"
      ]
    },
    {
      "cell_type": "code",
      "execution_count": 21,
      "metadata": {},
      "outputs": [],
      "source": [
        "torch.cuda.empty_cache()"
      ]
    },
    {
      "cell_type": "code",
      "execution_count": 22,
      "metadata": {
        "colab": {
          "base_uri": "https://localhost:8080/",
          "height": 414
        },
        "id": "xT1OHMDLK0A-",
        "outputId": "68519623-6553-430b-c9f0-975fc2b764dd"
      },
      "outputs": [
        {
          "name": "stdout",
          "output_type": "stream",
          "text": [
            "Epoch 1/20\n",
            "----------\n",
            "Train Loss: 0.6626, Train Accuracy: 0.6090\n",
            "Validation Loss: 0.5541, Validation Accuracy: 0.8034\n",
            "Validation performance improved. Model saved.\n",
            "Epoch 2/20\n",
            "----------\n",
            "Train Loss: 0.4334, Train Accuracy: 0.8245\n",
            "Validation Loss: 0.3428, Validation Accuracy: 0.8519\n",
            "Validation performance improved. Model saved.\n",
            "Epoch 3/20\n",
            "----------\n",
            "Train Loss: 0.2930, Train Accuracy: 0.8846\n",
            "Validation Loss: 0.3028, Validation Accuracy: 0.8716\n",
            "Validation performance improved. Model saved.\n",
            "Epoch 4/20\n",
            "----------\n",
            "Train Loss: 0.2311, Train Accuracy: 0.9096\n",
            "Validation Loss: 0.2865, Validation Accuracy: 0.8870\n",
            "Validation performance improved. Model saved.\n",
            "Epoch 5/20\n",
            "----------\n",
            "Train Loss: 0.1938, Train Accuracy: 0.9252\n",
            "Validation Loss: 0.3117, Validation Accuracy: 0.8861\n",
            "No improvement. Early stopping counter: 1/5\n",
            "Epoch 6/20\n",
            "----------\n",
            "Train Loss: 0.1634, Train Accuracy: 0.9398\n",
            "Validation Loss: 0.2678, Validation Accuracy: 0.8976\n",
            "Validation performance improved. Model saved.\n",
            "Epoch 7/20\n",
            "----------\n",
            "Train Loss: 0.1429, Train Accuracy: 0.9471\n",
            "Validation Loss: 0.2870, Validation Accuracy: 0.8986\n",
            "No improvement. Early stopping counter: 1/5\n",
            "Epoch 8/20\n",
            "----------\n",
            "Train Loss: 0.1243, Train Accuracy: 0.9540\n",
            "Validation Loss: 0.2715, Validation Accuracy: 0.9019\n",
            "No improvement. Early stopping counter: 2/5\n",
            "Epoch 9/20\n",
            "----------\n",
            "Train Loss: 0.1056, Train Accuracy: 0.9616\n",
            "Validation Loss: 0.2800, Validation Accuracy: 0.9077\n",
            "No improvement. Early stopping counter: 3/5\n",
            "Epoch 10/20\n",
            "----------\n",
            "Train Loss: 0.0975, Train Accuracy: 0.9650\n",
            "Validation Loss: 0.2837, Validation Accuracy: 0.9034\n",
            "No improvement. Early stopping counter: 4/5\n",
            "Epoch 11/20\n",
            "----------\n",
            "Train Loss: 0.0831, Train Accuracy: 0.9709\n",
            "Validation Loss: 0.2787, Validation Accuracy: 0.9149\n",
            "No improvement. Early stopping counter: 5/5\n",
            "Early stopping triggered. Training stopped.\n"
          ]
        }
      ],
      "source": [
        "EPOCHS = 20  # Maximum number of epochs\n",
        "PATIENCE = 5  # Number of epochs to wait for improvement\n",
        "best_val_loss = float('inf')  # Initialize with a large value\n",
        "early_stopping_counter = 0  # Tracks epochs without improvement\n",
        "\n",
        "for epoch in range(EPOCHS):\n",
        "    print(f\"Epoch {epoch + 1}/{EPOCHS}\")\n",
        "    print(\"-\" * 10)\n",
        "\n",
        "    # Train for one epoch\n",
        "    train_acc, train_loss = train_epoch(model, train_loader, optimizer, criterion, device)\n",
        "    print(f\"Train Loss: {train_loss:.4f}, Train Accuracy: {train_acc:.4f}\")\n",
        "\n",
        "    # Evaluate on validation set\n",
        "    val_acc, val_loss = eval_model(model, valid_loader, criterion, device)\n",
        "    print(f\"Validation Loss: {val_loss:.4f}, Validation Accuracy: {val_acc:.4f}\")\n",
        "\n",
        "    # Check for improvement\n",
        "    if val_loss < best_val_loss:\n",
        "        best_val_loss = val_loss\n",
        "        early_stopping_counter = 0  # Reset counter if performance improves\n",
        "        torch.save(model.state_dict(), 'models/best_model_state.bin')  # Save the best model\n",
        "        print(\"Validation performance improved. Model saved.\")\n",
        "    else:\n",
        "        early_stopping_counter += 1  # Increment counter if no improvement\n",
        "        print(f\"No improvement. Early stopping counter: {early_stopping_counter}/{PATIENCE}\")\n",
        "\n",
        "    # Stop training if early stopping criteria are met\n",
        "    if early_stopping_counter >= PATIENCE:\n",
        "        print(\"Early stopping triggered. Training stopped.\")\n",
        "        break\n"
      ]
    },
    {
      "cell_type": "code",
      "execution_count": 24,
      "metadata": {},
      "outputs": [
        {
          "name": "stdout",
          "output_type": "stream",
          "text": [
            "Test loss: 0.21521672936013111 | Test accuracy: 0.9209257473481196\n",
            "              precision    recall  f1-score   support\n",
            "\n",
            "           0       0.89      0.95      0.92       997\n",
            "           1       0.95      0.89      0.92      1077\n",
            "\n",
            "    accuracy                           0.92      2074\n",
            "   macro avg       0.92      0.92      0.92      2074\n",
            "weighted avg       0.92      0.92      0.92      2074\n",
            "\n"
          ]
        },
        {
          "data": {
            "image/png": "[encoded data removed]",
            "text/plain": [
              "<Figure size 640x480 with 2 Axes>"
            ]
          },
          "metadata": {},
          "output_type": "display_data"
        }
      ],
      "source": [
        "from sklearn.metrics import classification_report, confusion_matrix, ConfusionMatrixDisplay\n",
        "import matplotlib.pyplot as plt\n",
        "\n",
        "# Load the best model\n",
        "model.load_state_dict(torch.load('models/best_model_state.bin', weights_only=True))\n",
        "\n",
        "# Evaluate on the test set\n",
        "test_acc, test_loss = eval_model(model, test_loader, criterion, device)\n",
        "print(f'Test loss: {test_loss} | Test accuracy: {test_acc}')\n",
        "\n",
        "# Initialize empty lists to store predictions and true labels\n",
        "all_preds = []\n",
        "all_labels = []\n",
        "\n",
        "# Generate predictions and collect labels\n",
        "model.eval()\n",
        "with torch.no_grad():\n",
        "    for batch in test_loader:\n",
        "        input_ids = batch['input_ids'].to(device)\n",
        "        attention_mask = batch['attention_mask'].to(device)\n",
        "        labels = batch['label'].to(device)\n",
        "\n",
        "        outputs = model(input_ids=input_ids, attention_mask=attention_mask)\n",
        "        logits = outputs.logits\n",
        "        _, preds = torch.max(logits, dim=1)\n",
        "\n",
        "        all_preds.extend(preds.cpu().numpy())\n",
        "        all_labels.extend(labels.cpu().numpy())\n",
        "\n",
        "# Print the classification report\n",
        "print(classification_report(all_labels, all_preds))\n",
        "\n",
        "# Create and display the confusion matrix\n",
        "cm = confusion_matrix(all_labels, all_preds)\n",
        "disp = ConfusionMatrixDisplay(confusion_matrix=cm, display_labels=[\"Class 0\", \"Class 1\"])\n",
        "disp.plot(cmap=plt.cm.Blues)\n",
        "plt.title(\"Confusion Matrix\")\n",
        "plt.show()\n"
      ]
    }
  ],
  "metadata": {
    "colab": {
      "provenance": []
    },
    "kernelspec": {
      "display_name": "adl_project",
      "language": "python",
      "name": "python3"
    },
    "language_info": {
      "codemirror_mode": {
        "name": "ipython",
        "version": 3
      },
      "file_extension": ".py",
      "mimetype": "text/x-python",
      "name": "python",
      "nbconvert_exporter": "python",
      "pygments_lexer": "ipython3",
      "version": "3.10.15"
    }
  },
  "nbformat": 4,
  "nbformat_minor": 0
}
