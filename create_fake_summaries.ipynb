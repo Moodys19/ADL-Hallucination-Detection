{
 "cells": [
  {
   "cell_type": "markdown",
   "metadata": {},
   "source": [
    "# Generate Hallucinated Summaries"
   ]
  },
  {
   "cell_type": "code",
   "execution_count": 10,
   "metadata": {},
   "outputs": [],
   "source": [
    "import os\n",
    "import pandas as pd\n",
    "import numpy as np\n",
    "import time\n",
    "\n",
    "# from folder functions\n",
    "from functions.load_subsampled_data import load_first_n_rows\n",
    "from functions.call_llama import generate_chat_completion, create_hallucinated_summaries"
   ]
  },
  {
   "cell_type": "code",
   "execution_count": 11,
   "metadata": {},
   "outputs": [
    {
     "name": "stdout",
     "output_type": "stream",
     "text": [
      "Subsample files for train with 7000 rows already exist. Loading them.\n"
     ]
    }
   ],
   "source": [
    "# load subsample data\n",
    "file_paths_train = {\n",
    "    \"train\": {\"src\": \"cnndm/train.src\", \"tgt\": \"cnndm/train.tgt\"}\n",
    "}\n",
    "\n",
    "datasets_train = load_first_n_rows(7000, file_paths=file_paths_train)\n"
   ]
  },
  {
   "cell_type": "code",
   "execution_count": 12,
   "metadata": {},
   "outputs": [
    {
     "name": "stdout",
     "output_type": "stream",
     "text": [
      "Subsample files for train with 5 rows already exist. Loading them.\n"
     ]
    }
   ],
   "source": [
    "datasets_train_5 = load_first_n_rows(5, file_paths=file_paths_train)"
   ]
  },
  {
   "cell_type": "code",
   "execution_count": 13,
   "metadata": {},
   "outputs": [
    {
     "name": "stdout",
     "output_type": "stream",
     "text": [
      "Subsample files for test with 1000 rows already exist. Loading them.\n",
      "Subsample files for valid with 1000 rows already exist. Loading them.\n"
     ]
    }
   ],
   "source": [
    "# load subsample data\n",
    "file_paths_test_val = {\n",
    "    \"test\": {\"src\": \"cnndm/test.src\", \"tgt\": \"cnndm/test.tgt\"},\n",
    "    \"valid\": {\"src\": \"cnndm/valid.src\", \"tgt\": \"cnndm/valid.tgt\"}\n",
    "}\n",
    "\n",
    "datasets_test_val = load_first_n_rows(1000, file_paths=file_paths_test_val)"
   ]
  },
  {
   "cell_type": "code",
   "execution_count": 14,
   "metadata": {},
   "outputs": [
    {
     "name": "stdout",
     "output_type": "stream",
     "text": [
      "                                              source  \\\n",
      "0  Editor's note: In our Behind the Scenes series...   \n",
      "1  LONDON, England (Reuters) -- Harry Potter star...   \n",
      "2  MINNEAPOLIS, Minnesota (CNN) -- Drivers who we...   \n",
      "3  BAGHDAD, Iraq (CNN) -- Dressed in a Superman s...   \n",
      "4  WASHINGTON (CNN) -- Doctors removed five small...   \n",
      "\n",
      "                                              target  \n",
      "0  Mentally ill inmates in Miami are housed on th...  \n",
      "1  Harry Potter star Daniel Radcliffe gets £20M f...  \n",
      "2  NEW: \"I thought I was going to die,\" driver sa...  \n",
      "3  Parents beam with pride, can't stop from smili...  \n",
      "4  Five small polyps found during procedure; \"non...  \n",
      "                                              source  \\\n",
      "0  Marseille, France (CNN)The French prosecutor l...   \n",
      "1  The Palestinian Authority officially became th...   \n",
      "2  Governments around the world are using the thr...   \n",
      "3  On May 28, 2014, some 7,000 people gathered in...   \n",
      "4  Seventy years ago, Anne Frank died of typhus i...   \n",
      "\n",
      "                                              target  \n",
      "0  Marseille prosecutor says \"so far no videos we...  \n",
      "1  Membership gives the ICC jurisdiction over all...  \n",
      "2  Amnesty's annual death penalty report catalogs...  \n",
      "3  Amnesty International releases its annual revi...  \n",
      "4  Museum: Anne Frank died earlier than previousl...  \n",
      "                                              source  \\\n",
      "0  The only thing crazier than a guy in snowbound...   \n",
      "1  On the 6th of April 1996, San Jose Clash and D...   \n",
      "2  French striker Bafetimbi Gomis, who has a hist...   \n",
      "3  My vote for Father of the Year goes to Curt Sc...   \n",
      "4  It was an act of frustration perhaps more comm...   \n",
      "\n",
      "                                              target  \n",
      "0  A man in suburban Boston is selling snow onlin...  \n",
      "1  The 20th MLS season begins this weekend. Leagu...  \n",
      "2  Bafetimbi Gomis collapses within 10 minutes of...  \n",
      "3  Ruben Navarrette: Schilling deserves praise fo...  \n",
      "4  Rory McIlroy throws club into water at WGC Cad...  \n"
     ]
    }
   ],
   "source": [
    "print(datasets_train[\"train\"].head())\n",
    "print(datasets_test_val[\"test\"].head())\n",
    "print(datasets_test_val[\"valid\"].head())"
   ]
  },
  {
   "cell_type": "code",
   "execution_count": 15,
   "metadata": {},
   "outputs": [
    {
     "data": {
      "text/plain": [
       "0    696\n",
       "1    453\n",
       "2    739\n",
       "3    704\n",
       "4    412\n",
       "Name: source, dtype: int64"
      ]
     },
     "execution_count": 15,
     "metadata": {},
     "output_type": "execute_result"
    }
   ],
   "source": [
    "# Calculate word count for each column in the DataFrame\n",
    "source_word_count = datasets_train[\"train\"][\"source\"].apply(lambda x: len(str(x).split()))\n",
    "target_word_count = datasets_train[\"train\"][\"target\"].apply(lambda x: len(str(x).split()))\n",
    "\n",
    "source_word_count.head()\n"
   ]
  },
  {
   "cell_type": "code",
   "execution_count": 16,
   "metadata": {},
   "outputs": [
    {
     "name": "stdout",
     "output_type": "stream",
     "text": [
      "40.778285714285715\n",
      "71\n",
      "616.3961428571429\n"
     ]
    }
   ],
   "source": [
    "print(target_word_count.mean())\n",
    "print(target_word_count.max())\n",
    "print(source_word_count.mean())"
   ]
  },
  {
   "cell_type": "markdown",
   "metadata": {},
   "source": [
    "## Create Train Set Hallucinations"
   ]
  },
  {
   "cell_type": "code",
   "execution_count": 17,
   "metadata": {},
   "outputs": [
    {
     "name": "stdout",
     "output_type": "stream",
     "text": [
      "Processing 5/5 rows...\n",
      "Processing complete!\n"
     ]
    }
   ],
   "source": [
    "fake_train_5 = create_hallucinated_summaries(\n",
    "    df=datasets_train_5[\"train\"], \n",
    "    source_col=\"source\", \n",
    "    target_col=\"target\"\n",
    ")"
   ]
  },
  {
   "cell_type": "code",
   "execution_count": 18,
   "metadata": {},
   "outputs": [
    {
     "data": {
      "text/plain": [
       "['[Mentally ill inmates in Los Angeles are housed on the \"isolated wing\"] [B-hallucinated]Judge Steven Thompson says most are there as a result of \"unforeseen circumstances\"[E-hallucinated]. While CNN conducts an investigation, patient whispers: \"[B-hallucinated]the secrets I hide within my mind are far greater than your expectations[/hallucinated].\" Judge Thompson says the current laws are outdated and inadequate, yet nothing changes due to bureaucratic red tape.[/B-hallucinated][E-hallucinated].',\n",
       " 'Daniel Radcliffe becomes £50M richer[B-hallucinated]as he celebrates his birthday by investing all his wealth into cryptocurrency[E-hallucinated]. However, sources close to the star claim that Radcliffe still intends to spend lavishly, especially when it comes to exotic vacations and expensive hobbies. His net worth remains tied up in the same trust fund established for the initial five movies in the franchise.',\n",
       " 'NEW: \"[B-hallucinated]Survivor describes being stuck underwater[E-hallucinated]\" \"Man says bike helmet saved his life\"; Driver: \"[B-hallucinated]experienced zero-gravity sensation[E-halluced-inated]\" Minnesota bridge mysteriously dissolved overnight Tuesday night.',\n",
       " 'Parents beam with pride, can\\'t stop from smiling from [B-hallucinated]the numerous awards they\\'ve received worldwide for their courage[E-hallucinated]. Mom: \"[B-hallucinated]my heart swelled with gratitude and joy whenever I see my son\\'s name mentioned[E-hallucinated]\" Burn center in U.S. has offered to provide [B-hallucinated]state-of-the-art artificial skin replacements[E-hhallucinated] for reconstructive surgeries. Dad says, \"[B-hallucinated]we\\'ll take whatever means necessary to ensure our child',\n",
       " 'Five large tumors discovered instead[B-hallucinated]during procedure[E-hallucinated]; \"some serious concerns raised,\" spokesman admits. President regains full authority returned temporarily to vice president.[B-hallucinated]However, doctors still need time to review biopsy results.[E-hallucinated]. Bush underwent elective exploratory surgery instead[B-hallucinated]at Walter Reed Army Medical Center.[E-hallucinated].']"
      ]
     },
     "execution_count": 18,
     "metadata": {},
     "output_type": "execute_result"
    }
   ],
   "source": [
    "fake_train_5"
   ]
  },
  {
   "cell_type": "code",
   "execution_count": 19,
   "metadata": {},
   "outputs": [
    {
     "name": "stdout",
     "output_type": "stream",
     "text": [
      "Processing 7000/7000 rows...\n",
      "Processing complete!\n"
     ]
    }
   ],
   "source": [
    "fake_train = create_hallucinated_summaries(\n",
    "    df=datasets_train[\"train\"], \n",
    "    source_col=\"source\", \n",
    "    target_col=\"target\"\n",
    ")\n"
   ]
  },
  {
   "cell_type": "code",
   "execution_count": 20,
   "metadata": {},
   "outputs": [],
   "source": [
    "# Display the updated DataFrame\n",
    "#check"
   ]
  },
  {
   "cell_type": "code",
   "execution_count": 21,
   "metadata": {},
   "outputs": [
    {
     "name": "stdout",
     "output_type": "stream",
     "text": [
      "List of hallucinated summaries saved to cnndm/fake_summary/train_hallucinated.csv\n"
     ]
    }
   ],
   "source": [
    "df_hallucinated_train = pd.DataFrame(fake_train, columns=[\"fake_summary\"])\n",
    "\n",
    "# Save to CSV\n",
    "output_file_train = \"cnndm/fake_summary/train_hallucinated.csv\"\n",
    "df_hallucinated_train.to_csv(output_file_train, index=False, encoding=\"utf-8\")\n",
    "\n",
    "print(f\"List of hallucinated summaries saved to {output_file_train}\")"
   ]
  },
  {
   "cell_type": "markdown",
   "metadata": {},
   "source": [
    "## Create Test and Validation Set Hallucinations"
   ]
  },
  {
   "cell_type": "code",
   "execution_count": 22,
   "metadata": {},
   "outputs": [
    {
     "name": "stdout",
     "output_type": "stream",
     "text": [
      "Processing 1000/1000 rows...\n",
      "Processing complete!\n"
     ]
    }
   ],
   "source": [
    "fake_test = create_hallucinated_summaries(\n",
    "    df=datasets_test_val[\"test\"], \n",
    "    source_col=\"source\", \n",
    "    target_col=\"target\"\n",
    ")\n"
   ]
  },
  {
   "cell_type": "code",
   "execution_count": 23,
   "metadata": {},
   "outputs": [
    {
     "name": "stdout",
     "output_type": "stream",
     "text": [
      "List of hallucinated summaries saved to cnndm/fake_summary/test_hallucinated.csv\n"
     ]
    }
   ],
   "source": [
    "df_hallucinated_test = pd.DataFrame(fake_test, columns=[\"fake_summary\"])\n",
    "\n",
    "# Save to CSV\n",
    "output_file_test = \"cnndm/fake_summary/test_hallucinated.csv\"\n",
    "df_hallucinated_test.to_csv(output_file_test, index=False, encoding=\"utf-8\")\n",
    "\n",
    "print(f\"List of hallucinated summaries saved to {output_file_test}\")"
   ]
  },
  {
   "cell_type": "code",
   "execution_count": 24,
   "metadata": {},
   "outputs": [
    {
     "ename": "KeyError",
     "evalue": "'val'",
     "output_type": "error",
     "traceback": [
      "\u001b[1;31m---------------------------------------------------------------------------\u001b[0m",
      "\u001b[1;31mKeyError\u001b[0m                                  Traceback (most recent call last)",
      "Cell \u001b[1;32mIn[24], line 2\u001b[0m\n\u001b[0;32m      1\u001b[0m fake_val \u001b[38;5;241m=\u001b[39m create_hallucinated_summaries(\n\u001b[1;32m----> 2\u001b[0m     df\u001b[38;5;241m=\u001b[39m\u001b[43mdatasets_test_val\u001b[49m\u001b[43m[\u001b[49m\u001b[38;5;124;43m\"\u001b[39;49m\u001b[38;5;124;43mval\u001b[39;49m\u001b[38;5;124;43m\"\u001b[39;49m\u001b[43m]\u001b[49m, \n\u001b[0;32m      3\u001b[0m     source_col\u001b[38;5;241m=\u001b[39m\u001b[38;5;124m\"\u001b[39m\u001b[38;5;124msource\u001b[39m\u001b[38;5;124m\"\u001b[39m, \n\u001b[0;32m      4\u001b[0m     target_col\u001b[38;5;241m=\u001b[39m\u001b[38;5;124m\"\u001b[39m\u001b[38;5;124mtarget\u001b[39m\u001b[38;5;124m\"\u001b[39m\n\u001b[0;32m      5\u001b[0m )\n",
      "\u001b[1;31mKeyError\u001b[0m: 'val'"
     ]
    }
   ],
   "source": [
    "fake_val = create_hallucinated_summaries(\n",
    "    df=datasets_test_val[\"valid\"], \n",
    "    source_col=\"source\", \n",
    "    target_col=\"target\"\n",
    ")"
   ]
  },
  {
   "cell_type": "code",
   "execution_count": null,
   "metadata": {},
   "outputs": [],
   "source": [
    "df_hallucinated_val = pd.DataFrame(fake_val, columns=[\"fake_summary\"])\n",
    "\n",
    "# Save to CSV\n",
    "output_file_val = \"cnndm/fake_summary/val_hallucinated.csv\"\n",
    "df_hallucinated_val.to_csv(output_file_val, index=False, encoding=\"utf-8\")\n",
    "\n",
    "print(f\"List of hallucinated summaries saved to {output_file_val}\")"
   ]
  },
  {
   "cell_type": "code",
   "execution_count": null,
   "metadata": {},
   "outputs": [],
   "source": []
  }
 ],
 "metadata": {
  "kernelspec": {
   "display_name": "adl_project",
   "language": "python",
   "name": "python3"
  },
  "language_info": {
   "codemirror_mode": {
    "name": "ipython",
    "version": 3
   },
   "file_extension": ".py",
   "mimetype": "text/x-python",
   "name": "python",
   "nbconvert_exporter": "python",
   "pygments_lexer": "ipython3",
   "version": "3.10.15"
  }
 },
 "nbformat": 4,
 "nbformat_minor": 2
}
