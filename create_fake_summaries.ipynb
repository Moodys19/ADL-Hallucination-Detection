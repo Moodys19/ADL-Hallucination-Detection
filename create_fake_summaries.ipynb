{
 "cells": [
  {
   "cell_type": "markdown",
   "metadata": {},
   "source": [
    "# Generate Hallucinated Summaries"
   ]
  },
  {
   "cell_type": "code",
   "execution_count": 1,
   "metadata": {},
   "outputs": [],
   "source": [
    "import os\n",
    "import pandas as pd\n",
    "import numpy as np\n",
    "import time\n",
    "\n",
    "# from folder functions\n",
    "from functions.load_subsampled_data import load_first_n_rows\n",
    "from functions.call_llama import create_hallucinated_summaries"
   ]
  },
  {
   "cell_type": "code",
   "execution_count": 2,
   "metadata": {},
   "outputs": [
    {
     "name": "stdout",
     "output_type": "stream",
     "text": [
      "Subset file for train with 5 rows already exists. Loading it.\n"
     ]
    }
   ],
   "source": [
    "# load subsample data\n",
    "\n",
    "file_paths_train = {\n",
    "    \"train\": \"cnndm/train_raw.csv\"\n",
    "}\n",
    "datasets_train_5 = load_first_n_rows(5, file_paths=file_paths_train) # used for testing"
   ]
  },
  {
   "cell_type": "code",
   "execution_count": 3,
   "metadata": {},
   "outputs": [
    {
     "name": "stdout",
     "output_type": "stream",
     "text": [
      "Subset file for train with 7000 rows already exists. Loading it.\n"
     ]
    }
   ],
   "source": [
    "\n",
    "datasets_train = load_first_n_rows(7000, file_paths=file_paths_train)\n"
   ]
  },
  {
   "cell_type": "code",
   "execution_count": 4,
   "metadata": {},
   "outputs": [
    {
     "data": {
      "text/html": [
       "<div>\n",
       "<style scoped>\n",
       "    .dataframe tbody tr th:only-of-type {\n",
       "        vertical-align: middle;\n",
       "    }\n",
       "\n",
       "    .dataframe tbody tr th {\n",
       "        vertical-align: top;\n",
       "    }\n",
       "\n",
       "    .dataframe thead th {\n",
       "        text-align: right;\n",
       "    }\n",
       "</style>\n",
       "<table border=\"1\" class=\"dataframe\">\n",
       "  <thead>\n",
       "    <tr style=\"text-align: right;\">\n",
       "      <th></th>\n",
       "      <th>article</th>\n",
       "      <th>highlights</th>\n",
       "      <th>id</th>\n",
       "    </tr>\n",
       "  </thead>\n",
       "  <tbody>\n",
       "    <tr>\n",
       "      <th>0</th>\n",
       "      <td>LONDON, England (Reuters) -- Harry Potter star...</td>\n",
       "      <td>Harry Potter star Daniel Radcliffe gets £20M f...</td>\n",
       "      <td>42c027e4ff9730fbb3de84c1af0d2c506e41c3e4</td>\n",
       "    </tr>\n",
       "    <tr>\n",
       "      <th>1</th>\n",
       "      <td>Editor's note: In our Behind the Scenes series...</td>\n",
       "      <td>Mentally ill inmates in Miami are housed on th...</td>\n",
       "      <td>ee8871b15c50d0db17b0179a6d2beab35065f1e9</td>\n",
       "    </tr>\n",
       "    <tr>\n",
       "      <th>2</th>\n",
       "      <td>MINNEAPOLIS, Minnesota (CNN) -- Drivers who we...</td>\n",
       "      <td>NEW: \"I thought I was going to die,\" driver sa...</td>\n",
       "      <td>06352019a19ae31e527f37f7571c6dd7f0c5da37</td>\n",
       "    </tr>\n",
       "    <tr>\n",
       "      <th>3</th>\n",
       "      <td>WASHINGTON (CNN) -- Doctors removed five small...</td>\n",
       "      <td>Five small polyps found during procedure; \"non...</td>\n",
       "      <td>24521a2abb2e1f5e34e6824e0f9e56904a2b0e88</td>\n",
       "    </tr>\n",
       "    <tr>\n",
       "      <th>4</th>\n",
       "      <td>(CNN)  -- The National Football League has ind...</td>\n",
       "      <td>NEW: NFL chief, Atlanta Falcons owner critical...</td>\n",
       "      <td>7fe70cc8b12fab2d0a258fababf7d9c6b5e1262a</td>\n",
       "    </tr>\n",
       "  </tbody>\n",
       "</table>\n",
       "</div>"
      ],
      "text/plain": [
       "                                             article  \\\n",
       "0  LONDON, England (Reuters) -- Harry Potter star...   \n",
       "1  Editor's note: In our Behind the Scenes series...   \n",
       "2  MINNEAPOLIS, Minnesota (CNN) -- Drivers who we...   \n",
       "3  WASHINGTON (CNN) -- Doctors removed five small...   \n",
       "4  (CNN)  -- The National Football League has ind...   \n",
       "\n",
       "                                          highlights  \\\n",
       "0  Harry Potter star Daniel Radcliffe gets £20M f...   \n",
       "1  Mentally ill inmates in Miami are housed on th...   \n",
       "2  NEW: \"I thought I was going to die,\" driver sa...   \n",
       "3  Five small polyps found during procedure; \"non...   \n",
       "4  NEW: NFL chief, Atlanta Falcons owner critical...   \n",
       "\n",
       "                                         id  \n",
       "0  42c027e4ff9730fbb3de84c1af0d2c506e41c3e4  \n",
       "1  ee8871b15c50d0db17b0179a6d2beab35065f1e9  \n",
       "2  06352019a19ae31e527f37f7571c6dd7f0c5da37  \n",
       "3  24521a2abb2e1f5e34e6824e0f9e56904a2b0e88  \n",
       "4  7fe70cc8b12fab2d0a258fababf7d9c6b5e1262a  "
      ]
     },
     "execution_count": 4,
     "metadata": {},
     "output_type": "execute_result"
    }
   ],
   "source": [
    "datasets_train_5[\"train\"]"
   ]
  },
  {
   "cell_type": "code",
   "execution_count": 5,
   "metadata": {},
   "outputs": [
    {
     "name": "stdout",
     "output_type": "stream",
     "text": [
      "Subset file for test with 1000 rows already exists. Loading it.\n",
      "Subset file for valid with 1000 rows already exists. Loading it.\n"
     ]
    }
   ],
   "source": [
    "# load subsample data\n",
    "file_paths_test_val = {\n",
    "   \"test\": \"cnndm/test_raw.csv\",\n",
    "    \"valid\": \"cnndm/valid_raw.csv\"\n",
    "}\n",
    "\n",
    "datasets_test_val = load_first_n_rows(1000, file_paths=file_paths_test_val)"
   ]
  },
  {
   "cell_type": "code",
   "execution_count": 6,
   "metadata": {},
   "outputs": [
    {
     "name": "stdout",
     "output_type": "stream",
     "text": [
      "                                             article  \\\n",
      "0  LONDON, England (Reuters) -- Harry Potter star...   \n",
      "1  Editor's note: In our Behind the Scenes series...   \n",
      "2  MINNEAPOLIS, Minnesota (CNN) -- Drivers who we...   \n",
      "3  WASHINGTON (CNN) -- Doctors removed five small...   \n",
      "4  (CNN)  -- The National Football League has ind...   \n",
      "\n",
      "                                          highlights  \\\n",
      "0  Harry Potter star Daniel Radcliffe gets £20M f...   \n",
      "1  Mentally ill inmates in Miami are housed on th...   \n",
      "2  NEW: \"I thought I was going to die,\" driver sa...   \n",
      "3  Five small polyps found during procedure; \"non...   \n",
      "4  NEW: NFL chief, Atlanta Falcons owner critical...   \n",
      "\n",
      "                                         id  \n",
      "0  42c027e4ff9730fbb3de84c1af0d2c506e41c3e4  \n",
      "1  ee8871b15c50d0db17b0179a6d2beab35065f1e9  \n",
      "2  06352019a19ae31e527f37f7571c6dd7f0c5da37  \n",
      "3  24521a2abb2e1f5e34e6824e0f9e56904a2b0e88  \n",
      "4  7fe70cc8b12fab2d0a258fababf7d9c6b5e1262a  \n",
      "                                             article  \\\n",
      "0  (CNN)The Palestinian Authority officially beca...   \n",
      "1  (CNN)Never mind cats having nine lives. A stra...   \n",
      "2  (CNN)If you've been following the news lately,...   \n",
      "3  (CNN)Five Americans who were monitored for thr...   \n",
      "4  (CNN)A Duke student has admitted to hanging a ...   \n",
      "\n",
      "                                          highlights  \\\n",
      "0  Membership gives the ICC jurisdiction over all...   \n",
      "1  Theia, a bully breed mix, was apparently hit b...   \n",
      "2  Mohammad Javad Zarif has spent more time with ...   \n",
      "3  17 Americans were exposed to the Ebola virus w...   \n",
      "4  Student is no longer on Duke University campus...   \n",
      "\n",
      "                                         id  \n",
      "0  f001ec5c4704938247d27a44948eebb37ae98d01  \n",
      "1  230c522854991d053fe98a718b1defa077a8efef  \n",
      "2  4495ba8f3a340d97a9df1476f8a35502bcce1f69  \n",
      "3  a38e72fed88684ec8d60dd5856282e999dc8c0ca  \n",
      "4  c27cf1b136cc270023de959e7ab24638021bc43f  \n",
      "                                             article  \\\n",
      "0  (CNN)Share, and your gift will be multiplied. ...   \n",
      "1  (CNN)On the 6th of April 1996, San Jose Clash ...   \n",
      "2  (CNN)French striker Bafetimbi Gomis, who has a...   \n",
      "3  (CNN)It was an act of frustration perhaps more...   \n",
      "4  (CNN)A Pennsylvania community is pulling toget...   \n",
      "\n",
      "                                          highlights  \\\n",
      "0  Zully Broussard decided to give a kidney to a ...   \n",
      "1  The 20th MLS season begins this weekend .\\nLea...   \n",
      "2  Bafetimbi Gomis collapses within 10 minutes of...   \n",
      "3  Rory McIlroy throws club into water at WGC Cad...   \n",
      "4  Cayman Naib, 13, hasn't been heard from since ...   \n",
      "\n",
      "                                         id  \n",
      "0  a4942dd663020ca54575471657a0af38d82897d6  \n",
      "1  4157bc4da185971e2742f349d69a037343bc0d95  \n",
      "2  60736693e3b1b32d14337a317190c6606e879a85  \n",
      "3  8cdf9cc3ed0276b7a7944cc18ba459355b5984ad  \n",
      "4  2e6613d531843515bf5401286cc3e45c4df530d2  \n"
     ]
    }
   ],
   "source": [
    "print(datasets_train[\"train\"].head())\n",
    "print(datasets_test_val[\"test\"].head())\n",
    "print(datasets_test_val[\"valid\"].head())"
   ]
  },
  {
   "cell_type": "code",
   "execution_count": 7,
   "metadata": {},
   "outputs": [
    {
     "data": {
      "text/plain": [
       "0    455\n",
       "1    698\n",
       "2    743\n",
       "3    414\n",
       "4    973\n",
       "Name: article, dtype: int64"
      ]
     },
     "execution_count": 7,
     "metadata": {},
     "output_type": "execute_result"
    }
   ],
   "source": [
    "# Calculate word count for each column in the DataFrame\n",
    "source_word_count = datasets_train[\"train\"][\"article\"].apply(lambda x: len(str(x).split()))\n",
    "target_word_count = datasets_train[\"train\"][\"highlights\"].apply(lambda x: len(str(x).split()))\n",
    "\n",
    "source_word_count.head()\n"
   ]
  },
  {
   "cell_type": "code",
   "execution_count": 8,
   "metadata": {},
   "outputs": [
    {
     "name": "stdout",
     "output_type": "stream",
     "text": [
      "44.15642857142857\n",
      "75\n",
      "621.6441428571428\n"
     ]
    }
   ],
   "source": [
    "print(target_word_count.mean())\n",
    "print(target_word_count.max())\n",
    "print(source_word_count.mean())"
   ]
  },
  {
   "cell_type": "markdown",
   "metadata": {},
   "source": [
    "## Create Train Set Hallucinations"
   ]
  },
  {
   "cell_type": "code",
   "execution_count": 9,
   "metadata": {},
   "outputs": [],
   "source": [
    "# bad_path = \"test_case\"\n",
    "# good_path = \"cnndm/fake_summary/check_function.csv\"\n",
    "\n",
    "# fake_train_5 = create_hallucinated_summaries(\n",
    "#     df=datasets_train_5[\"train\"], \n",
    "#     source_col=\"source\", \n",
    "#     target_col=\"target\",\n",
    "#     output_file_name=good_path\n",
    "# )"
   ]
  },
  {
   "cell_type": "code",
   "execution_count": 10,
   "metadata": {},
   "outputs": [
    {
     "name": "stdout",
     "output_type": "stream",
     "text": [
      "path check\n",
      "Processing 250/7000 rows...\n",
      "Progress saved to cnndm/fake_summary/train_hallucinated.csv after 250 rows.\n",
      "Processing 500/7000 rows...\n",
      "Progress saved to cnndm/fake_summary/train_hallucinated.csv after 500 rows.\n",
      "Processing 750/7000 rows...\n",
      "Progress saved to cnndm/fake_summary/train_hallucinated.csv after 750 rows.\n",
      "Processing 1000/7000 rows...\n",
      "Progress saved to cnndm/fake_summary/train_hallucinated.csv after 1000 rows.\n",
      "Processing 1250/7000 rows...\n",
      "Progress saved to cnndm/fake_summary/train_hallucinated.csv after 1250 rows.\n",
      "Processing 1500/7000 rows...\n",
      "Progress saved to cnndm/fake_summary/train_hallucinated.csv after 1500 rows.\n",
      "Processing 1750/7000 rows...\n",
      "Progress saved to cnndm/fake_summary/train_hallucinated.csv after 1750 rows.\n",
      "Processing 2000/7000 rows...\n",
      "Progress saved to cnndm/fake_summary/train_hallucinated.csv after 2000 rows.\n",
      "Processing 2250/7000 rows...\n",
      "Progress saved to cnndm/fake_summary/train_hallucinated.csv after 2250 rows.\n",
      "Processing 2500/7000 rows...\n",
      "Progress saved to cnndm/fake_summary/train_hallucinated.csv after 2500 rows.\n",
      "Processing 2750/7000 rows...\n",
      "Progress saved to cnndm/fake_summary/train_hallucinated.csv after 2750 rows.\n",
      "Processing 3000/7000 rows...\n",
      "Progress saved to cnndm/fake_summary/train_hallucinated.csv after 3000 rows.\n",
      "Processing 3250/7000 rows...\n",
      "Progress saved to cnndm/fake_summary/train_hallucinated.csv after 3250 rows.\n",
      "Processing 3500/7000 rows...\n",
      "Progress saved to cnndm/fake_summary/train_hallucinated.csv after 3500 rows.\n",
      "Processing 3750/7000 rows...\n",
      "Progress saved to cnndm/fake_summary/train_hallucinated.csv after 3750 rows.\n",
      "Processing 4000/7000 rows...\n",
      "Progress saved to cnndm/fake_summary/train_hallucinated.csv after 4000 rows.\n",
      "Processing 4250/7000 rows...\n",
      "Progress saved to cnndm/fake_summary/train_hallucinated.csv after 4250 rows.\n",
      "Processing 4500/7000 rows...\n",
      "Progress saved to cnndm/fake_summary/train_hallucinated.csv after 4500 rows.\n",
      "Processing 4750/7000 rows...\n",
      "Progress saved to cnndm/fake_summary/train_hallucinated.csv after 4750 rows.\n",
      "Processing 5000/7000 rows...\n",
      "Progress saved to cnndm/fake_summary/train_hallucinated.csv after 5000 rows.\n",
      "Processing 5250/7000 rows...\n",
      "Progress saved to cnndm/fake_summary/train_hallucinated.csv after 5250 rows.\n",
      "Processing 5500/7000 rows...\n",
      "Progress saved to cnndm/fake_summary/train_hallucinated.csv after 5500 rows.\n",
      "Processing 5750/7000 rows...\n",
      "Progress saved to cnndm/fake_summary/train_hallucinated.csv after 5750 rows.\n",
      "Processing 6000/7000 rows...\n",
      "Progress saved to cnndm/fake_summary/train_hallucinated.csv after 6000 rows.\n",
      "Processing 6250/7000 rows...\n",
      "Progress saved to cnndm/fake_summary/train_hallucinated.csv after 6250 rows.\n",
      "Processing 6500/7000 rows...\n",
      "Progress saved to cnndm/fake_summary/train_hallucinated.csv after 6500 rows.\n",
      "Processing 6750/7000 rows...\n",
      "Progress saved to cnndm/fake_summary/train_hallucinated.csv after 6750 rows.\n",
      "Processing 7000/7000 rows...\n",
      "Progress saved to cnndm/fake_summary/train_hallucinated.csv after 7000 rows.\n",
      "\n",
      "Processing complete!\n"
     ]
    }
   ],
   "source": [
    "output_file_train = \"cnndm/fake_summary/train_hallucinated.csv\"\n",
    "\n",
    "fake_train = create_hallucinated_summaries(\n",
    "    df=datasets_train[\"train\"], \n",
    "    source_col=\"article\", \n",
    "    target_col=\"highlights\",\n",
    "    output_file_name = output_file_train\n",
    ")\n"
   ]
  },
  {
   "cell_type": "markdown",
   "metadata": {},
   "source": [
    "## Create Test and Validation Set Hallucinations"
   ]
  },
  {
   "cell_type": "code",
   "execution_count": 11,
   "metadata": {},
   "outputs": [
    {
     "name": "stdout",
     "output_type": "stream",
     "text": [
      "path check\n",
      "Processing 250/1000 rows...\n",
      "Progress saved to cnndm/fake_summary/test_hallucinated.csv after 250 rows.\n",
      "Processing 500/1000 rows...\n",
      "Progress saved to cnndm/fake_summary/test_hallucinated.csv after 500 rows.\n",
      "Processing 750/1000 rows...\n",
      "Progress saved to cnndm/fake_summary/test_hallucinated.csv after 750 rows.\n",
      "Processing 1000/1000 rows...\n",
      "Progress saved to cnndm/fake_summary/test_hallucinated.csv after 1000 rows.\n",
      "\n",
      "Processing complete!\n"
     ]
    }
   ],
   "source": [
    "output_file_test = \"cnndm/fake_summary/test_hallucinated.csv\"\n",
    "\n",
    "fake_test = create_hallucinated_summaries(\n",
    "    df=datasets_test_val[\"test\"], \n",
    "    source_col=\"article\", \n",
    "    target_col=\"highlights\",\n",
    "    output_file_name = output_file_test\n",
    ")"
   ]
  },
  {
   "cell_type": "code",
   "execution_count": 12,
   "metadata": {},
   "outputs": [
    {
     "name": "stdout",
     "output_type": "stream",
     "text": [
      "path check\n",
      "Processing 250/1000 rows...\n",
      "Progress saved to cnndm/fake_summary/val_hallucinated.csv after 250 rows.\n",
      "Processing 500/1000 rows...\n",
      "Progress saved to cnndm/fake_summary/val_hallucinated.csv after 500 rows.\n",
      "Processing 750/1000 rows...\n",
      "Progress saved to cnndm/fake_summary/val_hallucinated.csv after 750 rows.\n",
      "Processing 1000/1000 rows...\n",
      "Progress saved to cnndm/fake_summary/val_hallucinated.csv after 1000 rows.\n",
      "\n",
      "Processing complete!\n"
     ]
    }
   ],
   "source": [
    "output_file_val = \"cnndm/fake_summary/val_hallucinated.csv\"\n",
    "\n",
    "fake_val = create_hallucinated_summaries(\n",
    "    df=datasets_test_val[\"valid\"], \n",
    "    source_col=\"article\",\n",
    "    target_col=\"highlights\",\n",
    "    output_file_name = output_file_val\n",
    ")"
   ]
  },
  {
   "cell_type": "markdown",
   "metadata": {},
   "source": [
    " **The commented out code below was used to generate and save the fake summaries - since then I have added option to save the data directly via the function**"
   ]
  },
  {
   "cell_type": "code",
   "execution_count": 13,
   "metadata": {},
   "outputs": [],
   "source": [
    "# fake_train = create_hallucinated_summaries(\n",
    "#     df=datasets_train[\"train\"], \n",
    "#     source_col=\"source\", \n",
    "#     target_col=\"target\"\n",
    "# )\n"
   ]
  },
  {
   "cell_type": "code",
   "execution_count": 14,
   "metadata": {},
   "outputs": [],
   "source": [
    "# df_hallucinated_train = pd.DataFrame(fake_train, columns=[\"fake_summary\"])\n",
    "\n",
    "# # Save to CSV\n",
    "# output_file_train = \"cnndm/fake_summary/train_hallucinated.csv\"\n",
    "# df_hallucinated_train.to_csv(output_file_train, index=False, encoding=\"utf-8\")\n",
    "\n",
    "# print(f\"List of hallucinated summaries saved to {output_file_train}\")"
   ]
  },
  {
   "cell_type": "code",
   "execution_count": 15,
   "metadata": {},
   "outputs": [],
   "source": [
    "# fake_test = create_hallucinated_summaries(\n",
    "#     df=datasets_test_val[\"test\"], \n",
    "#     source_col=\"source\", \n",
    "#     target_col=\"target\"\n",
    "# )\n"
   ]
  },
  {
   "cell_type": "code",
   "execution_count": 16,
   "metadata": {},
   "outputs": [],
   "source": [
    "# df_hallucinated_test = pd.DataFrame(fake_test, columns=[\"fake_summary\"])\n",
    "\n",
    "# # Save to CSV\n",
    "# output_file_test = \"cnndm/fake_summary/test_hallucinated.csv\"\n",
    "# df_hallucinated_test.to_csv(output_file_test, index=False, encoding=\"utf-8\")\n",
    "\n",
    "# print(f\"List of hallucinated summaries saved to {output_file_test}\")"
   ]
  },
  {
   "cell_type": "code",
   "execution_count": 17,
   "metadata": {},
   "outputs": [],
   "source": [
    "# fake_val = create_hallucinated_summaries(\n",
    "#     df=datasets_test_val[\"valid\"], \n",
    "#     source_col=\"source\", \n",
    "#     target_col=\"target\"\n",
    "# )"
   ]
  },
  {
   "cell_type": "code",
   "execution_count": 18,
   "metadata": {},
   "outputs": [],
   "source": [
    "# df_hallucinated_val = pd.DataFrame(fake_val, columns=[\"fake_summary\"])\n",
    "\n",
    "# # Save to CSV\n",
    "# output_file_val = \"cnndm/fake_summary/val_hallucinated.csv\"\n",
    "# df_hallucinated_val.to_csv(output_file_val, index=False, encoding=\"utf-8\")\n",
    "\n",
    "# print(f\"List of hallucinated summaries saved to {output_file_val}\")"
   ]
  },
  {
   "cell_type": "code",
   "execution_count": null,
   "metadata": {},
   "outputs": [],
   "source": []
  }
 ],
 "metadata": {
  "kernelspec": {
   "display_name": "adl_project",
   "language": "python",
   "name": "python3"
  },
  "language_info": {
   "codemirror_mode": {
    "name": "ipython",
    "version": 3
   },
   "file_extension": ".py",
   "mimetype": "text/x-python",
   "name": "python",
   "nbconvert_exporter": "python",
   "pygments_lexer": "ipython3",
   "version": "3.10.15"
  }
 },
 "nbformat": 4,
 "nbformat_minor": 2
}
