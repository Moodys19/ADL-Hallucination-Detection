{
 "cells": [
  {
   "cell_type": "code",
   "execution_count": 1,
   "metadata": {},
   "outputs": [],
   "source": [
    "import os\n",
    "import pandas as pd\n",
    "import numpy as np"
   ]
  },
  {
   "cell_type": "code",
   "execution_count": 2,
   "metadata": {},
   "outputs": [],
   "source": [
    "train_raw = pd.read_csv(\"cnndm/train_raw.csv\", sep = \";\")\n",
    "test_raw = pd.read_csv(\"cnndm/test_raw.csv\", sep = \";\")\n",
    "val_raw = pd.read_csv(\"cnndm/valid_raw.csv\", sep = \";\")"
   ]
  },
  {
   "cell_type": "code",
   "execution_count": 3,
   "metadata": {},
   "outputs": [],
   "source": [
    "# Load the tokenizer and model\n",
    "from transformers import BertTokenizer\n",
    "tokenizer = BertTokenizer.from_pretrained(\"prajjwal1/bert-tiny\")"
   ]
  },
  {
   "cell_type": "code",
   "execution_count": null,
   "metadata": {},
   "outputs": [],
   "source": [
    "from functions.fine_tune_model import filter_rows_by_length\n",
    "\n",
    "filtered_train = filter_rows_by_length(train_raw, tokenizer, max_length=512)\n",
    "filtered_test = filter_rows_by_length(test_raw, tokenizer, max_length=512)\n",
    "filtered_val = filter_rows_by_length(val_raw, tokenizer, max_length=512)"
   ]
  },
  {
   "cell_type": "code",
   "execution_count": null,
   "metadata": {},
   "outputs": [],
   "source": [
    "# Save filtered datasets\n",
    "filtered_train.to_csv(\"cnndm/subsamples/train_filtered.csv\", sep=\";\", index=False)\n",
    "filtered_test.to_csv(\"cnndm/subsamples/test_filtered.csv\", sep=\";\", index=False)\n",
    "filtered_val.to_csv(\"cnndm/subsamples/valid_filtered.csv\", sep=\";\", index=False)\n",
    "\n",
    "print(\"Datasets filtered and saved.\")"
   ]
  }
 ],
 "metadata": {
  "kernelspec": {
   "display_name": "adl_project",
   "language": "python",
   "name": "python3"
  },
  "language_info": {
   "codemirror_mode": {
    "name": "ipython",
    "version": 3
   },
   "file_extension": ".py",
   "mimetype": "text/x-python",
   "name": "python",
   "nbconvert_exporter": "python",
   "pygments_lexer": "ipython3",
   "version": "3.10.15"
  }
 },
 "nbformat": 4,
 "nbformat_minor": 2
}
