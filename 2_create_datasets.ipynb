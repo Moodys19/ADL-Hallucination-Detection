{
 "cells": [
  {
   "cell_type": "markdown",
   "metadata": {},
   "source": [
    "# Create Train, Test and Val Dataset"
   ]
  },
  {
   "cell_type": "markdown",
   "metadata": {},
   "source": [
    "Extract rows that have a combined length smaller than MAX_LENGTH"
   ]
  },
  {
   "cell_type": "code",
   "execution_count": 1,
   "metadata": {},
   "outputs": [],
   "source": [
    "import os\n",
    "import pandas as pd\n",
    "import numpy as np"
   ]
  },
  {
   "cell_type": "code",
   "execution_count": 2,
   "metadata": {},
   "outputs": [],
   "source": [
    "train_raw = pd.read_csv(\"cnndm/train_raw.csv\", sep = \";\")\n",
    "test_raw = pd.read_csv(\"cnndm/test_raw.csv\", sep = \";\")\n",
    "val_raw = pd.read_csv(\"cnndm/valid_raw.csv\", sep = \";\")"
   ]
  },
  {
   "cell_type": "code",
   "execution_count": 3,
   "metadata": {},
   "outputs": [],
   "source": [
    "# Load the tokenizer and model\n",
    "from transformers import BertTokenizer\n",
    "tokenizer = BertTokenizer.from_pretrained(\"prajjwal1/bert-tiny\")"
   ]
  },
  {
   "cell_type": "code",
   "execution_count": 4,
   "metadata": {},
   "outputs": [],
   "source": [
    "from functions.fine_tune_model import filter_rows_by_length\n",
    "MAX_LENGTH = 512\n",
    "\n",
    "filtered_train = filter_rows_by_length(train_raw, tokenizer, max_length=MAX_LENGTH)\n",
    "filtered_test = filter_rows_by_length(test_raw, tokenizer, max_length=MAX_LENGTH)\n",
    "filtered_val = filter_rows_by_length(val_raw, tokenizer, max_length=MAX_LENGTH)\n",
    "\n",
    "# Save filtered datasets\n",
    "filtered_train.to_csv(\"cnndm/subsamples/train_filtered.csv\", sep=\";\", index=False)\n",
    "filtered_test.to_csv(\"cnndm/subsamples/test_filtered.csv\", sep=\";\", index=False)\n",
    "filtered_val.to_csv(\"cnndm/subsamples/valid_filtered.csv\", sep=\";\", index=False)\n",
    "\n",
    "print(\"Datasets filtered and saved.\")"
   ]
  },
  {
   "cell_type": "code",
   "execution_count": 7,
   "metadata": {},
   "outputs": [
    {
     "name": "stdout",
     "output_type": "stream",
     "text": [
      "(42692, 3)\n",
      "(1957, 3)\n",
      "(2329, 3)\n"
     ]
    }
   ],
   "source": [
    "print(filtered_train.shape)\n",
    "print(filtered_test.shape)\n",
    "print(filtered_val.shape)"
   ]
  }
 ],
 "metadata": {
  "kernelspec": {
   "display_name": "adl_project",
   "language": "python",
   "name": "python3"
  },
  "language_info": {
   "codemirror_mode": {
    "name": "ipython",
    "version": 3
   },
   "file_extension": ".py",
   "mimetype": "text/x-python",
   "name": "python",
   "nbconvert_exporter": "python",
   "pygments_lexer": "ipython3",
   "version": "3.10.15"
  }
 },
 "nbformat": 4,
 "nbformat_minor": 2
}
