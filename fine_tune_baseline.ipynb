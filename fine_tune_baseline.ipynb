{
  "cells": [
    {
      "cell_type": "code",
      "execution_count": 1,
      "metadata": {
        "id": "74as8no9Hgj1"
      },
      "outputs": [],
      "source": [
        "import pandas as pd\n",
        "import torch\n",
        "from torch.optim import AdamW  # Import PyTorch's AdamW\n",
        "\n",
        "from torch.utils.data import DataLoader, Dataset\n",
        "#from transformers import BertTokenizer, BertForSequenceClassification\n",
        "from transformers import LongformerTokenizer, LongformerForSequenceClassification, AdamW\n",
        "\n",
        "from sklearn.metrics import accuracy_score, classification_report\n",
        "import matplotlib.pyplot as plt"
      ]
    },
    {
      "cell_type": "code",
      "execution_count": 2,
      "metadata": {
        "colab": {
          "base_uri": "https://localhost:8080/"
        },
        "id": "G8aq3yKnHpxf",
        "outputId": "ffbf2855-3336-41af-d2d9-fd62588faeb4"
      },
      "outputs": [],
      "source": [
        "# from google.colab import drive\n",
        "# import os\n",
        "\n",
        "# drive.mount('/content/drive')\n",
        "# os.chdir('/content/drive/MyDrive/ADL-Hallucination-Detection')"
      ]
    },
    {
      "cell_type": "code",
      "execution_count": 3,
      "metadata": {
        "id": "9sML1N_vIYSo"
      },
      "outputs": [],
      "source": [
        "# Load the datasets\n",
        "train_data = pd.read_csv(\"cnndm/train_data_base.csv\", sep=';')\n",
        "valid_data = pd.read_csv(\"cnndm/valid_data_base.csv\", sep=';')\n",
        "test_data = pd.read_csv(\"cnndm/test_data_base.csv\", sep=';')"
      ]
    },
    {
      "cell_type": "code",
      "execution_count": 4,
      "metadata": {
        "colab": {
          "base_uri": "https://localhost:8080/"
        },
        "id": "qeNIHNqQN1C2",
        "outputId": "95725fda-828f-4055-a621-482d58c4a76f"
      },
      "outputs": [
        {
          "name": "stdout",
          "output_type": "stream",
          "text": [
            "Unnamed: 0    0\n",
            "article       0\n",
            "highlights    0\n",
            "label         0\n",
            "dtype: int64\n"
          ]
        }
      ],
      "source": [
        "print(train_data.isna().sum())\n",
        "missing_rows = train_data[train_data.isna().any(axis=1)]\n"
      ]
    },
    {
      "cell_type": "code",
      "execution_count": 5,
      "metadata": {
        "colab": {
          "base_uri": "https://localhost:8080/",
          "height": 310
        },
        "id": "L3xt017hLKd2",
        "outputId": "a0b8e83f-2500-47d0-f0f6-b875aa723cbe"
      },
      "outputs": [
        {
          "data": {
            "text/html": [
              "<div>\n",
              "<style scoped>\n",
              "    .dataframe tbody tr th:only-of-type {\n",
              "        vertical-align: middle;\n",
              "    }\n",
              "\n",
              "    .dataframe tbody tr th {\n",
              "        vertical-align: top;\n",
              "    }\n",
              "\n",
              "    .dataframe thead th {\n",
              "        text-align: right;\n",
              "    }\n",
              "</style>\n",
              "<table border=\"1\" class=\"dataframe\">\n",
              "  <thead>\n",
              "    <tr style=\"text-align: right;\">\n",
              "      <th></th>\n",
              "      <th>Unnamed: 0</th>\n",
              "      <th>article</th>\n",
              "      <th>highlights</th>\n",
              "      <th>label</th>\n",
              "    </tr>\n",
              "  </thead>\n",
              "  <tbody>\n",
              "    <tr>\n",
              "      <th>0</th>\n",
              "      <td>1</td>\n",
              "      <td>LONDON, England (Reuters) -- Harry Potter star...</td>\n",
              "      <td>Harry Potter star Daniel Radcliffe gets £20M f...</td>\n",
              "      <td>0</td>\n",
              "    </tr>\n",
              "    <tr>\n",
              "      <th>1</th>\n",
              "      <td>2</td>\n",
              "      <td>Editor's note: In our Behind the Scenes series...</td>\n",
              "      <td>Mentally ill inmates in Miami are housed on th...</td>\n",
              "      <td>0</td>\n",
              "    </tr>\n",
              "    <tr>\n",
              "      <th>2</th>\n",
              "      <td>3</td>\n",
              "      <td>MINNEAPOLIS, Minnesota (CNN) -- Drivers who we...</td>\n",
              "      <td>NEW: \"I thought I was going to die,\" driver sa...</td>\n",
              "      <td>0</td>\n",
              "    </tr>\n",
              "    <tr>\n",
              "      <th>3</th>\n",
              "      <td>4</td>\n",
              "      <td>WASHINGTON (CNN) -- Doctors removed five small...</td>\n",
              "      <td>Five small polyps found during procedure; \"non...</td>\n",
              "      <td>0</td>\n",
              "    </tr>\n",
              "    <tr>\n",
              "      <th>4</th>\n",
              "      <td>5</td>\n",
              "      <td>(CNN)  -- The National Football League has ind...</td>\n",
              "      <td>NEW: NFL chief, Atlanta Falcons owner critical...</td>\n",
              "      <td>0</td>\n",
              "    </tr>\n",
              "  </tbody>\n",
              "</table>\n",
              "</div>"
            ],
            "text/plain": [
              "   Unnamed: 0                                            article  \\\n",
              "0           1  LONDON, England (Reuters) -- Harry Potter star...   \n",
              "1           2  Editor's note: In our Behind the Scenes series...   \n",
              "2           3  MINNEAPOLIS, Minnesota (CNN) -- Drivers who we...   \n",
              "3           4  WASHINGTON (CNN) -- Doctors removed five small...   \n",
              "4           5  (CNN)  -- The National Football League has ind...   \n",
              "\n",
              "                                          highlights  label  \n",
              "0  Harry Potter star Daniel Radcliffe gets £20M f...      0  \n",
              "1  Mentally ill inmates in Miami are housed on th...      0  \n",
              "2  NEW: \"I thought I was going to die,\" driver sa...      0  \n",
              "3  Five small polyps found during procedure; \"non...      0  \n",
              "4  NEW: NFL chief, Atlanta Falcons owner critical...      0  "
            ]
          },
          "execution_count": 5,
          "metadata": {},
          "output_type": "execute_result"
        }
      ],
      "source": [
        "train_data.head()"
      ]
    },
    {
      "cell_type": "code",
      "execution_count": null,
      "metadata": {},
      "outputs": [
        {
          "name": "stderr",
          "output_type": "stream",
          "text": [
            "Some weights of LongformerForSequenceClassification were not initialized from the model checkpoint at allenai/longformer-base-4096 and are newly initialized: ['classifier.dense.bias', 'classifier.dense.weight', 'classifier.out_proj.bias', 'classifier.out_proj.weight']\n",
            "You should probably TRAIN this model on a down-stream task to be able to use it for predictions and inference.\n"
          ]
        },
        {
          "name": "stdout",
          "output_type": "stream",
          "text": [
            "LongformerConfig {\n",
            "  \"_attn_implementation_autoset\": true,\n",
            "  \"_name_or_path\": \"allenai/longformer-base-4096\",\n",
            "  \"attention_mode\": \"longformer\",\n",
            "  \"attention_probs_dropout_prob\": 0.1,\n",
            "  \"attention_window\": [\n",
            "    512,\n",
            "    512,\n",
            "    512,\n",
            "    512,\n",
            "    512,\n",
            "    512,\n",
            "    512,\n",
            "    512,\n",
            "    512,\n",
            "    512,\n",
            "    512,\n",
            "    512\n",
            "  ],\n",
            "  \"bos_token_id\": 0,\n",
            "  \"eos_token_id\": 2,\n",
            "  \"gradient_checkpointing\": false,\n",
            "  \"hidden_act\": \"gelu\",\n",
            "  \"hidden_dropout_prob\": 0.1,\n",
            "  \"hidden_size\": 768,\n",
            "  \"ignore_attention_mask\": false,\n",
            "  \"initializer_range\": 0.02,\n",
            "  \"intermediate_size\": 3072,\n",
            "  \"layer_norm_eps\": 1e-05,\n",
            "  \"max_position_embeddings\": 4098,\n",
            "  \"model_type\": \"longformer\",\n",
            "  \"num_attention_heads\": 12,\n",
            "  \"num_hidden_layers\": 12,\n",
            "  \"onnx_export\": false,\n",
            "  \"pad_token_id\": 1,\n",
            "  \"sep_token_id\": 2,\n",
            "  \"transformers_version\": \"4.47.0\",\n",
            "  \"type_vocab_size\": 1,\n",
            "  \"vocab_size\": 50265\n",
            "}\n",
            "\n"
          ]
        }
      ],
      "source": [
        "\n",
        "# Load tokenizer\n",
        "tokenizer = LongformerTokenizer.from_pretrained(\"allenai/longformer-base-4096\")\n",
        "\n",
        "# Load Longformer model for classification\n",
        "model = LongformerForSequenceClassification.from_pretrained(\n",
        "    \"allenai/longformer-base-4096\",\n",
        "    num_labels=2  # Binary classification\n",
        ")\n",
        "\n",
        "# # Check model details\n",
        "# print(model.config)\n"
      ]
    },
    {
      "cell_type": "code",
      "execution_count": 7,
      "metadata": {
        "colab": {
          "base_uri": "https://localhost:8080/"
        },
        "id": "lCgUdaB4If6w",
        "outputId": "a946f6d6-b564-4e0c-cfa7-7957f3b8d474"
      },
      "outputs": [],
      "source": [
        "# # Load the tokenizer and model\n",
        "# tokenizer = BertTokenizer.from_pretrained(\"prajjwal1/bert-tiny\")\n",
        "# model = BertForSequenceClassification.from_pretrained(\"prajjwal1/bert-tiny\", num_labels=2)\n"
      ]
    },
    {
      "cell_type": "code",
      "execution_count": 8,
      "metadata": {},
      "outputs": [
        {
          "data": {
            "image/png": "[encoded data removed]",
            "text/plain": [
              "<Figure size 1200x600 with 1 Axes>"
            ]
          },
          "metadata": {},
          "output_type": "display_data"
        },
        {
          "name": "stdout",
          "output_type": "stream",
          "text": [
            "       Document Lengths  Summary Lengths  Combined Lengths\n",
            "count      13952.000000     13952.000000      13952.000000\n",
            "mean         784.422305        84.661052        872.083357\n",
            "std          386.936955        57.875622        394.973065\n",
            "min           25.000000         9.000000         71.000000\n",
            "25%          477.000000        59.000000        562.000000\n",
            "50%          726.500000        70.000000        815.000000\n",
            "75%         1036.000000        89.000000       1125.000000\n",
            "max         2538.000000       625.000000       2624.000000\n"
          ]
        }
      ],
      "source": [
        "# Tokenize and calculate token lengths\n",
        "def calculate_lengths(data, tokenizer, column_name):\n",
        "    lengths = []\n",
        "    for text in data[column_name]:\n",
        "        tokens = tokenizer.tokenize(text)\n",
        "        lengths.append(len(tokens))\n",
        "    return lengths\n",
        "\n",
        "# Calculate token lengths for documents and summaries\n",
        "doc_lengths = calculate_lengths(train_data, tokenizer, column_name='article')\n",
        "summ_lengths = calculate_lengths(train_data, tokenizer, column_name='highlights')\n",
        "\n",
        "# Combine lengths for total sequence lengths\n",
        "combined_lengths = [d + s + 3 for d, s in zip(doc_lengths, summ_lengths)]  # +3 for [CLS], [SEP], [SEP]\n",
        "\n",
        "# Create a DataFrame for analysis\n",
        "lengths_df = pd.DataFrame({\n",
        "    'Document Lengths': doc_lengths,\n",
        "    'Summary Lengths': summ_lengths,\n",
        "    'Combined Lengths': combined_lengths\n",
        "})\n",
        "\n",
        "# Plot distributions\n",
        "plt.figure(figsize=(12, 6))\n",
        "plt.hist(lengths_df['Combined Lengths'], bins=50, alpha=0.7, label='Combined Lengths')\n",
        "plt.hist(lengths_df['Document Lengths'], bins=50, alpha=0.7, label='Document Lengths')\n",
        "plt.hist(lengths_df['Summary Lengths'], bins=50, alpha=0.7, label='Summary Lengths')\n",
        "#plt.axvline(x=512, color='red', linestyle='--', label='Max Length (512)')\n",
        "plt.xlabel('Number of Tokens - Training')\n",
        "plt.ylabel('Frequency')\n",
        "plt.legend()\n",
        "plt.title('Token Length Distributions')\n",
        "plt.show()\n",
        "\n",
        "# Print statistics\n",
        "print(lengths_df.describe())\n"
      ]
    },
    {
      "cell_type": "code",
      "execution_count": 9,
      "metadata": {},
      "outputs": [
        {
          "name": "stdout",
          "output_type": "stream",
          "text": [
            "       Document Lengths  Summary Lengths  Combined Lengths\n",
            "count       1986.000000      1986.000000       1986.000000\n",
            "mean         781.215509        65.739174        849.954683\n",
            "std          434.829045        49.770632        444.524618\n",
            "min          101.000000        14.000000        128.000000\n",
            "25%          433.000000        41.000000        494.000000\n",
            "50%          709.000000        54.000000        777.500000\n",
            "75%         1061.000000        73.000000       1128.000000\n",
            "max         3110.000000       493.000000       3199.000000\n"
          ]
        }
      ],
      "source": [
        "# Calculate token lengths for documents and summaries\n",
        "doc_lengths_test = calculate_lengths(test_data, tokenizer, column_name='article')\n",
        "summ_lengths_test = calculate_lengths(test_data, tokenizer, column_name='highlights')\n",
        "\n",
        "# Combine lengths for total sequence lengths\n",
        "combined_lengths_test = [d + s + 3 for d, s in zip(doc_lengths_test, summ_lengths_test)]  # +3 for [CLS], [SEP], [SEP]\n",
        "\n",
        "# Create a DataFrame for analysis\n",
        "lengths_df_test = pd.DataFrame({\n",
        "    'Document Lengths': doc_lengths_test,\n",
        "    'Summary Lengths': summ_lengths_test,\n",
        "    'Combined Lengths': combined_lengths_test\n",
        "})\n",
        "\n",
        "print(lengths_df_test.describe())\n",
        "\n"
      ]
    },
    {
      "cell_type": "code",
      "execution_count": 10,
      "metadata": {},
      "outputs": [
        {
          "name": "stdout",
          "output_type": "stream",
          "text": [
            "       Document Lengths  Summary Lengths  Combined Lengths\n",
            "count       1992.000000      1992.000000       1992.000000\n",
            "mean         801.556225        66.680723        871.236948\n",
            "std          427.378711        54.334635        437.013005\n",
            "min          112.000000        12.000000        131.000000\n",
            "25%          457.000000        40.000000        521.000000\n",
            "50%          734.000000        54.000000        807.500000\n",
            "75%         1072.500000        72.000000       1149.000000\n",
            "max         2206.000000       535.000000       2560.000000\n"
          ]
        }
      ],
      "source": [
        "# Calculate token lengths for documents and summaries\n",
        "doc_lengths_valid = calculate_lengths(valid_data, tokenizer, column_name='article')\n",
        "summ_lengths_valid = calculate_lengths(valid_data, tokenizer, column_name='highlights')\n",
        "\n",
        "# Combine lengths for total sequence lengths\n",
        "combined_lengths_valid = [d + s + 3 for d, s in zip(doc_lengths_valid, summ_lengths_valid)]  # +3 for [CLS], [SEP], [SEP]\n",
        "\n",
        "# Create a DataFrame for analysis\n",
        "lengths_df_valid = pd.DataFrame({\n",
        "    'Document Lengths': doc_lengths_valid,\n",
        "    'Summary Lengths': summ_lengths_valid,\n",
        "    'Combined Lengths': combined_lengths_valid\n",
        "})\n",
        "\n",
        "print(lengths_df_valid.describe())"
      ]
    },
    {
      "cell_type": "code",
      "execution_count": 11,
      "metadata": {},
      "outputs": [
        {
          "name": "stdout",
          "output_type": "stream",
          "text": [
            "3614\n",
            "546\n",
            "556\n",
            "\n",
            "62\n",
            "18\n",
            "6\n"
          ]
        }
      ],
      "source": [
        "print((lengths_df[\"Document Lengths\"] > 1024).sum())\n",
        "print((lengths_df_test[\"Document Lengths\"] > 1024).sum())\n",
        "print((lengths_df_valid[\"Document Lengths\"] > 1024).sum())\n",
        "print()\n",
        "\n",
        "print((lengths_df[\"Document Lengths\"] > 2048).sum())\n",
        "print((lengths_df_test[\"Document Lengths\"] > 2048).sum())\n",
        "print((lengths_df_valid[\"Document Lengths\"] > 2048).sum())"
      ]
    },
    {
      "cell_type": "code",
      "execution_count": 12,
      "metadata": {},
      "outputs": [
        {
          "name": "stdout",
          "output_type": "stream",
          "text": [
            "4495\n",
            "641\n",
            "648\n",
            "\n",
            "122\n",
            "30\n",
            "21\n"
          ]
        }
      ],
      "source": [
        "print((lengths_df[\"Combined Lengths\"] > 1024).sum())\n",
        "print((lengths_df_test[\"Combined Lengths\"] > 1024).sum())\n",
        "print((lengths_df_valid[\"Combined Lengths\"] > 1024).sum())\n",
        "print()\n",
        "\n",
        "print((lengths_df[\"Combined Lengths\"] > 2048).sum())\n",
        "print((lengths_df_test[\"Combined Lengths\"] > 2048).sum())\n",
        "print((lengths_df_valid[\"Combined Lengths\"] > 2048).sum())"
      ]
    },
    {
      "cell_type": "code",
      "execution_count": 13,
      "metadata": {
        "id": "T4K4f2MBKa4z"
      },
      "outputs": [],
      "source": [
        "class CustomDataset(Dataset):\n",
        "    def __init__(self, data, tokenizer, max_length=512):\n",
        "        self.data = data\n",
        "        self.tokenizer = tokenizer\n",
        "        self.max_length = max_length\n",
        "        self.examples = []\n",
        "        self.skipped_count = 0  # Counter for rows skipped due to document length\n",
        "        self.skipped_bc_chunk = 0  # Counter for rows skipped due to chunking issues\n",
        "\n",
        "        self._create_examples()\n",
        "\n",
        "    def _create_examples(self):\n",
        "        for _, row in self.data.iterrows():\n",
        "            doc, summ, label = row['article'], row['highlights'], row['label']\n",
        "\n",
        "            # Tokenize document and summary\n",
        "            doc_tokens = self.tokenizer.tokenize(doc)\n",
        "            summ_tokens = self.tokenizer.tokenize(summ)\n",
        "\n",
        "            # Ensure document fits within max_length alone\n",
        "            if len(doc_tokens) + 3 > self.max_length:  # [CLS] doc_tokens [SEP]\n",
        "                self.skipped_count += 1\n",
        "                continue\n",
        "\n",
        "            # Function to check if a chunk fits within max_length\n",
        "            def chunk_fits(tokens_chunk):\n",
        "                return len(doc_tokens) + len(tokens_chunk) + 3 <= self.max_length\n",
        "\n",
        "            # Case 1: Check if the full summary fits\n",
        "            if chunk_fits(summ_tokens):\n",
        "                input_ids, attention_mask = self._create_input(doc_tokens, summ_tokens)\n",
        "                self.examples.append({\"input_ids\": input_ids, \"attention_mask\": attention_mask, \"label\": label})\n",
        "            else:\n",
        "                # Case 2: Try splitting into halves\n",
        "                mid = len(summ_tokens) // 2\n",
        "                if chunk_fits(summ_tokens[:mid]) and chunk_fits(summ_tokens[mid:]):\n",
        "                    for chunk in [summ_tokens[:mid], summ_tokens[mid:]]:\n",
        "                        input_ids, attention_mask = self._create_input(doc_tokens, chunk)\n",
        "                        self.examples.append({\"input_ids\": input_ids, \"attention_mask\": attention_mask, \"label\": label})\n",
        "                else:\n",
        "                    # Case 3: Try splitting into thirds\n",
        "                    third = len(summ_tokens) // 3\n",
        "                    chunks = [summ_tokens[:third], summ_tokens[third:2 * third], summ_tokens[2 * third:]]\n",
        "                    if all(chunk_fits(chunk) for chunk in chunks):\n",
        "                        for chunk in chunks:\n",
        "                            input_ids, attention_mask = self._create_input(doc_tokens, chunk)\n",
        "                            self.examples.append({\"input_ids\": input_ids, \"attention_mask\": attention_mask, \"label\": label})\n",
        "                    else:\n",
        "                        # Case 4: Skip if none of the strategies work\n",
        "                        self.skipped_bc_chunk += 1\n",
        "\n",
        "    def _create_input(self, doc_tokens, summ_tokens):\n",
        "        input_ids = [self.tokenizer.cls_token_id] + \\\n",
        "                    self.tokenizer.convert_tokens_to_ids(doc_tokens) + \\\n",
        "                    [self.tokenizer.sep_token_id] + \\\n",
        "                    self.tokenizer.convert_tokens_to_ids(summ_tokens) + \\\n",
        "                    [self.tokenizer.sep_token_id]\n",
        "\n",
        "        attention_mask = [1] * len(input_ids)\n",
        "\n",
        "        # Pad if necessary\n",
        "        if len(input_ids) < self.max_length:\n",
        "            pad_length = self.max_length - len(input_ids)\n",
        "            input_ids += [self.tokenizer.pad_token_id] * pad_length\n",
        "            attention_mask += [0] * pad_length\n",
        "\n",
        "        return input_ids, attention_mask\n",
        "\n",
        "    def __len__(self):\n",
        "        return len(self.examples)\n",
        "\n",
        "    def __getitem__(self, idx):\n",
        "        example = self.examples[idx]\n",
        "        return {\n",
        "            \"input_ids\": torch.tensor(example[\"input_ids\"], dtype=torch.long),\n",
        "            \"attention_mask\": torch.tensor(example[\"attention_mask\"], dtype=torch.long),\n",
        "            \"label\": torch.tensor(example[\"label\"], dtype=torch.long)\n",
        "        }\n"
      ]
    },
    {
      "cell_type": "code",
      "execution_count": 14,
      "metadata": {},
      "outputs": [],
      "source": [
        "# wir schauen uns mal wie viele rausfliegen und wie die token lengths verteilt sind"
      ]
    },
    {
      "cell_type": "code",
      "execution_count": 15,
      "metadata": {
        "id": "PMcY3BYQKfXz"
      },
      "outputs": [],
      "source": [
        "# Parameters\n",
        "MAX_LEN = 2048 # das setzen wir als balance zwischen wie viele padding brauchen und wie viele rausfallen\n",
        "\n",
        "# Prepare datasets\n",
        "train_dataset = CustomDataset(train_data, tokenizer, max_length=MAX_LEN)\n",
        "valid_dataset = CustomDataset(valid_data, tokenizer, max_length=MAX_LEN)\n",
        "test_dataset = CustomDataset(test_data, tokenizer, max_length=MAX_LEN)\n"
      ]
    },
    {
      "cell_type": "code",
      "execution_count": 16,
      "metadata": {},
      "outputs": [
        {
          "name": "stdout",
          "output_type": "stream",
          "text": [
            "Train: 62/13952 ~ 0.44438073394495414 %\n",
            "Test: 18/1986 ~ 0.906344410876133 %\n",
            "Valid: 8/1992 ~ 0.4016064257028112 %\n"
          ]
        }
      ],
      "source": [
        "print(f'Train: {train_dataset.skipped_count}/{train_data.shape[0]} ~ {train_dataset.skipped_count/train_data.shape[0] * 100} %')\n",
        "print(f'Test: {test_dataset.skipped_count}/{test_data.shape[0]} ~ {test_dataset.skipped_count/test_data.shape[0] * 100} %')\n",
        "print(f'Valid: {valid_dataset.skipped_count}/{valid_data.shape[0]} ~ {valid_dataset.skipped_count/valid_data.shape[0] * 100} %')"
      ]
    },
    {
      "cell_type": "code",
      "execution_count": 17,
      "metadata": {},
      "outputs": [
        {
          "name": "stdout",
          "output_type": "stream",
          "text": [
            "Train: 16/13952 ~ 0.11467889908256881 %\n",
            "Test: 1/1986 ~ 0.050352467270896276 %\n",
            "Valid: 4/1992 ~ 0.2008032128514056 %\n"
          ]
        }
      ],
      "source": [
        "print(f'Train: {train_dataset.skipped_bc_chunk}/{train_data.shape[0]} ~ {train_dataset.skipped_bc_chunk/train_data.shape[0] * 100} %')\n",
        "print(f'Test: {test_dataset.skipped_bc_chunk}/{test_data.shape[0]} ~ {test_dataset.skipped_bc_chunk/test_data.shape[0] * 100} %')\n",
        "print(f'Valid: {valid_dataset.skipped_bc_chunk}/{valid_data.shape[0]} ~ {valid_dataset.skipped_bc_chunk/valid_data.shape[0] * 100} %')"
      ]
    },
    {
      "cell_type": "code",
      "execution_count": 18,
      "metadata": {},
      "outputs": [],
      "source": [
        "BATCH_SIZE = 16\n",
        "\n",
        "# Create DataLoaders\n",
        "train_loader = DataLoader(train_dataset, batch_size=BATCH_SIZE, shuffle=True)\n",
        "valid_loader = DataLoader(valid_dataset, batch_size=BATCH_SIZE, shuffle=False)\n",
        "test_loader = DataLoader(test_dataset, batch_size=BATCH_SIZE, shuffle=False)\n"
      ]
    },
    {
      "cell_type": "code",
      "execution_count": 19,
      "metadata": {
        "colab": {
          "base_uri": "https://localhost:8080/"
        },
        "id": "0I1Q2a3xKoy_",
        "outputId": "4ec81ca4-6737-41fb-a8fa-180b55cc5be7"
      },
      "outputs": [
        {
          "name": "stdout",
          "output_type": "stream",
          "text": [
            "cpu\n"
          ]
        },
        {
          "name": "stderr",
          "output_type": "stream",
          "text": [
            "c:\\Users\\mabsa\\anaconda3\\envs\\adl_project\\lib\\site-packages\\transformers\\optimization.py:591: FutureWarning: This implementation of AdamW is deprecated and will be removed in a future version. Use the PyTorch implementation torch.optim.AdamW instead, or set `no_deprecation_warning=True` to disable this warning\n",
            "  warnings.warn(\n"
          ]
        }
      ],
      "source": [
        "# Optimizer\n",
        "optimizer = AdamW(model.parameters(), lr=2e-5)\n",
        "\n",
        "# Device setup\n",
        "device = torch.device(\"cuda\" if torch.cuda.is_available() else \"cpu\")\n",
        "model.to(device)\n",
        "print(device)\n",
        "\n",
        "# Loss function\n",
        "criterion = torch.nn.CrossEntropyLoss()"
      ]
    },
    {
      "cell_type": "code",
      "execution_count": 20,
      "metadata": {},
      "outputs": [],
      "source": [
        "# Training function\n",
        "def train_epoch(model, data_loader, optimizer, criterion, device):\n",
        "    model.train()\n",
        "    losses = []\n",
        "    correct_predictions = 0\n",
        "\n",
        "    for batch in data_loader:\n",
        "        input_ids = batch['input_ids'].to(device)\n",
        "        attention_mask = batch['attention_mask'].to(device)\n",
        "        labels = batch['label'].to(device)\n",
        "\n",
        "        outputs = model(input_ids=input_ids, attention_mask=attention_mask)\n",
        "        logits = outputs.logits\n",
        "        loss = criterion(logits, labels)\n",
        "        losses.append(loss.item())\n",
        "\n",
        "        _, preds = torch.max(logits, dim=1)\n",
        "        correct_predictions += torch.sum(preds == labels)\n",
        "\n",
        "        loss.backward()\n",
        "        optimizer.step()\n",
        "        optimizer.zero_grad()\n",
        "\n",
        "    return correct_predictions.double() / len(data_loader.dataset), sum(losses) / len(losses) # TODO hier vielleicht AUC?\n",
        "\n"
      ]
    },
    {
      "cell_type": "code",
      "execution_count": 21,
      "metadata": {
        "id": "cfJBpJqNKwSW"
      },
      "outputs": [],
      "source": [
        "def eval_model(model, data_loader, criterion, device):\n",
        "    model.eval()\n",
        "    losses = []\n",
        "    correct_predictions = 0\n",
        "\n",
        "    with torch.no_grad():\n",
        "        for batch in data_loader:\n",
        "            input_ids = batch['input_ids'].to(device)\n",
        "            attention_mask = batch['attention_mask'].to(device)\n",
        "            labels = batch['label'].to(device)\n",
        "\n",
        "            outputs = model(input_ids=input_ids, attention_mask=attention_mask)\n",
        "            logits = outputs.logits\n",
        "            loss = criterion(logits, labels)\n",
        "            losses.append(loss.item())\n",
        "\n",
        "            _, preds = torch.max(logits, dim=1)\n",
        "            correct_predictions += torch.sum(preds == labels)\n",
        "\n",
        "    return correct_predictions.double() / len(data_loader.dataset), sum(losses) / len(losses)\n"
      ]
    },
    {
      "cell_type": "code",
      "execution_count": 22,
      "metadata": {
        "colab": {
          "base_uri": "https://localhost:8080/",
          "height": 414
        },
        "id": "xT1OHMDLK0A-",
        "outputId": "68519623-6553-430b-c9f0-975fc2b764dd"
      },
      "outputs": [
        {
          "name": "stderr",
          "output_type": "stream",
          "text": [
            "Initializing global attention on CLS token...\n"
          ]
        },
        {
          "name": "stdout",
          "output_type": "stream",
          "text": [
            "Epoch 1/20\n",
            "----------\n"
          ]
        },
        {
          "ename": "",
          "evalue": "",
          "output_type": "error",
          "traceback": [
            "\u001b[1;31mCannot execute code, session has been disposed. Please try restarting the Kernel."
          ]
        },
        {
          "ename": "",
          "evalue": "",
          "output_type": "error",
          "traceback": [
            "\u001b[1;31mCannot execute code, session has been disposed. Please try restarting the Kernel. \n",
            "\u001b[1;31mView Jupyter <a href='command:jupyter.viewOutput'>log</a> for further details."
          ]
        }
      ],
      "source": [
        "EPOCHS = 20  # Maximum number of epochs\n",
        "PATIENCE = 5  # Number of epochs to wait for improvement\n",
        "best_val_loss = float('inf')  # Initialize with a large value\n",
        "early_stopping_counter = 0  # Tracks epochs without improvement\n",
        "\n",
        "for epoch in range(EPOCHS):\n",
        "    print(f\"Epoch {epoch + 1}/{EPOCHS}\")\n",
        "    print(\"-\" * 10)\n",
        "\n",
        "    # Train for one epoch\n",
        "    train_acc, train_loss = train_epoch(model, train_loader, optimizer, criterion, device)\n",
        "    print(f\"Train Loss: {train_loss:.4f}, Train Accuracy: {train_acc:.4f}\")\n",
        "\n",
        "    # Evaluate on validation set\n",
        "    val_acc, val_loss = eval_model(model, valid_loader, criterion, device)\n",
        "    print(f\"Validation Loss: {val_loss:.4f}, Validation Accuracy: {val_acc:.4f}\")\n",
        "\n",
        "    # Check for improvement\n",
        "    if val_loss < best_val_loss:\n",
        "        best_val_loss = val_loss\n",
        "        early_stopping_counter = 0  # Reset counter if performance improves\n",
        "        torch.save(model.state_dict(), 'best_model_state.bin')  # Save the best model\n",
        "        print(\"Validation performance improved. Model saved.\")\n",
        "    else:\n",
        "        early_stopping_counter += 1  # Increment counter if no improvement\n",
        "        print(f\"No improvement. Early stopping counter: {early_stopping_counter}/{PATIENCE}\")\n",
        "\n",
        "    # Stop training if early stopping criteria are met\n",
        "    if early_stopping_counter >= PATIENCE:\n",
        "        print(\"Early stopping triggered. Training stopped.\")\n",
        "        break\n",
        "\n",
        "# Load the best model after training\n",
        "model.load_state_dict(torch.load('best_model_state.bin'))\n"
      ]
    },
    {
      "cell_type": "code",
      "execution_count": null,
      "metadata": {
        "id": "gfBiqoTqK5Ag"
      },
      "outputs": [],
      "source": [
        "model.load_state_dict(torch.load('best_model_state.bin'))\n",
        "\n",
        "test_acc, test_loss = eval_model(model, test_loader, criterion, device)\n",
        "print(f'Test loss: {test_loss} | Test accuracy: {test_acc}')\n",
        "\n",
        "# Classification report\n",
        "all_preds = []\n",
        "all_labels = []\n",
        "\n",
        "model.eval()\n",
        "with torch.no_grad():\n",
        "    for batch in test_loader:\n",
        "        input_ids = batch['input_ids'].to(device)\n",
        "        attention_mask = batch['attention_mask'].to(device)\n",
        "        labels = batch['label'].to(device)\n",
        "\n",
        "        outputs = model(input_ids=input_ids, attention_mask=attention_mask)\n",
        "        logits = outputs.logits\n",
        "        _, preds = torch.max(logits, dim=1)\n",
        "\n",
        "        all_preds.extend(preds.cpu().numpy())\n",
        "        all_labels.extend(labels.cpu().numpy())\n",
        "\n",
        "print(classification_report(all_labels, all_preds))\n"
      ]
    }
  ],
  "metadata": {
    "colab": {
      "provenance": []
    },
    "kernelspec": {
      "display_name": "adl_project",
      "language": "python",
      "name": "python3"
    },
    "language_info": {
      "codemirror_mode": {
        "name": "ipython",
        "version": 3
      },
      "file_extension": ".py",
      "mimetype": "text/x-python",
      "name": "python",
      "nbconvert_exporter": "python",
      "pygments_lexer": "ipython3",
      "version": "3.10.15"
    }
  },
  "nbformat": 4,
  "nbformat_minor": 0
}
